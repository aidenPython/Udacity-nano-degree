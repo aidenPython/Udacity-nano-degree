{
 "cells": [
  {
   "cell_type": "markdown",
   "metadata": {
    "tags": []
   },
   "source": [
    "\n",
    "# Project: Investigate a Dataset - [TMDB Movie Dataset]\n",
    "\n",
    "## Table of Contents\n",
    "<ul>\n",
    "<li><a href=\"#intro\">Introduction</a></li>\n",
    "<li><a href=\"#wrangling\">Data Wrangling</a></li>\n",
    "<li><a href=\"#eda\">Exploratory Data Analysis</a></li>\n",
    "<li><a href=\"#conclusions\">Conclusions</a></li>\n",
    "</ul>"
   ]
  },
  {
   "cell_type": "markdown",
   "metadata": {},
   "source": [
    "# <span style=\"color: blue;\">I. Introduction </span>\n",
    "## <span style=\"color: lightblue;\">Dataset Description </span>\n",
    "###  **<u>TMDB Movie Dataset</u>**\n",
    "A data set is the collection of more than 10,000 distinguished movies from 1966 to 2015. It includes plenty of valuable information, from each movie's popularity to its profit. This data set will be a great resource to learn from the past and support the improvement of the future movie industry. Click here to learn more detail[TMDB Dataset](https://www.kaggle.com/datasets/tmdb/tmdb-movie-metadata)\\\n",
    "\\\n",
    "**The included elements in the dataset:**\n",
    "* **id**: *Each unique identifier for each movie*\n",
    "* **imdb_id**: *The unique identifier for each movie on the imdb tmdb 5000 dataset*\n",
    "* **popularity**: *measuring the popularity of the movie*\n",
    "* **budget**: *Estimated amount of the movie budget*\n",
    "* **revenue**: *Estimated amount of the movie revenue*\n",
    "* **original_title**: *The title of the movie*\n",
    "* **cast**: *Actors in the movie*\n",
    "* **homepage**: *The link to the movie's website*\n",
    "* **director**: *The movie's director name*\n",
    "* **tagline**: *The tagline for the movie*\n",
    "* **keywords**: *Related keywords related to the movie*\n",
    "* **overview**: *A brief description for the movie*\n",
    "* **runtime**: *A movie duration*\n",
    "* **genres**: *Geners related to the movie*\n",
    "* **production_companies**: *Companies produce the movie*\n",
    "* **release_date**: *Movie first release date*\n",
    "* **vote_count**: *Total number of votes for the movie*\n",
    "* **vote_average**: *The rating from 0 - 10 for each movie*\n",
    "* **release_year**: *The movie's release year*\n",
    "* **budget_adj**: *The adjusted budget for the inflation to 2010*\n",
    "* **revenue_adj**: *The adjusted revenue for the inflation to 2010*"
   ]
  },
  {
   "cell_type": "markdown",
   "metadata": {},
   "source": [
    "## <span style=\"color: lightblue;\">Questions for Analysis </span>\n",
    "> **Question 1**: What are the top 10 most popular movies from 1966 to 2015?\\\n",
    "> **Question 2**: Which genres of movies are typically the most commercially successful in 2011, 2012, 2013, 2014, and 2015?"
   ]
  },
  {
   "cell_type": "markdown",
   "metadata": {},
   "source": [
    "# <span style=\"color: blue;\">II. Data Wrangling </span>"
   ]
  },
  {
   "cell_type": "markdown",
   "metadata": {},
   "source": [
    "## <span style=\"color: lightblue;\"> Data Inspection </span>"
   ]
  },
  {
   "cell_type": "markdown",
   "metadata": {},
   "source": [
    "**<u>Description for the Data Inspection process</u>**:\\\n",
    "**Check**: Duplicated indices, Null values, and Data types.\\\n",
    "**Functions used**: **shape**, **columns**, **info()**, **duplicated()**, and **head()**."
   ]
  },
  {
   "cell_type": "markdown",
   "metadata": {},
   "source": [
    "Step1: Importing the **pandas**, **numpy**, and **matplotlib**."
   ]
  },
  {
   "cell_type": "code",
   "execution_count": 2,
   "metadata": {},
   "outputs": [],
   "source": [
    "import pandas as pd\n",
    "import numpy as np\n",
    "import matplotlib.pyplot as plt"
   ]
  },
  {
   "cell_type": "markdown",
   "metadata": {},
   "source": [
    "Step 2: Reading the file **\"tmdb-movies.csv\"** from the **\"Database_TMDb_movie_data\"**, then, assigning it to a new dataframe names: **\"df\"** \n"
   ]
  },
  {
   "cell_type": "code",
   "execution_count": 3,
   "metadata": {},
   "outputs": [],
   "source": [
    "df = pd.read_csv('Database_TMDb_movie_data/tmdb-movies.csv')"
   ]
  },
  {
   "cell_type": "markdown",
   "metadata": {},
   "source": [
    "Step 3: Reviewing total **columns** and **rows** in the dataset\\\n",
    " *(The dataset has 21 columns and 10866 rows)*"
   ]
  },
  {
   "cell_type": "code",
   "execution_count": 4,
   "metadata": {},
   "outputs": [
    {
     "data": {
      "text/plain": [
       "(10866, 21)"
      ]
     },
     "execution_count": 4,
     "metadata": {},
     "output_type": "execute_result"
    }
   ],
   "source": [
    "df.shape"
   ]
  },
  {
   "cell_type": "markdown",
   "metadata": {},
   "source": [
    "Step 4: Retrieve the first 3 rows of the dataset\\\n",
    "*(The result just show 20 column names)*"
   ]
  },
  {
   "cell_type": "code",
   "execution_count": 5,
   "metadata": {
    "scrolled": true
   },
   "outputs": [
    {
     "data": {
      "text/html": [
       "<div>\n",
       "<style scoped>\n",
       "    .dataframe tbody tr th:only-of-type {\n",
       "        vertical-align: middle;\n",
       "    }\n",
       "\n",
       "    .dataframe tbody tr th {\n",
       "        vertical-align: top;\n",
       "    }\n",
       "\n",
       "    .dataframe thead th {\n",
       "        text-align: right;\n",
       "    }\n",
       "</style>\n",
       "<table border=\"1\" class=\"dataframe\">\n",
       "  <thead>\n",
       "    <tr style=\"text-align: right;\">\n",
       "      <th></th>\n",
       "      <th>id</th>\n",
       "      <th>imdb_id</th>\n",
       "      <th>popularity</th>\n",
       "      <th>budget</th>\n",
       "      <th>revenue</th>\n",
       "      <th>original_title</th>\n",
       "      <th>cast</th>\n",
       "      <th>homepage</th>\n",
       "      <th>director</th>\n",
       "      <th>tagline</th>\n",
       "      <th>...</th>\n",
       "      <th>overview</th>\n",
       "      <th>runtime</th>\n",
       "      <th>genres</th>\n",
       "      <th>production_companies</th>\n",
       "      <th>release_date</th>\n",
       "      <th>vote_count</th>\n",
       "      <th>vote_average</th>\n",
       "      <th>release_year</th>\n",
       "      <th>budget_adj</th>\n",
       "      <th>revenue_adj</th>\n",
       "    </tr>\n",
       "  </thead>\n",
       "  <tbody>\n",
       "    <tr>\n",
       "      <th>0</th>\n",
       "      <td>135397</td>\n",
       "      <td>tt0369610</td>\n",
       "      <td>32.985763</td>\n",
       "      <td>150000000</td>\n",
       "      <td>1513528810</td>\n",
       "      <td>Jurassic World</td>\n",
       "      <td>Chris Pratt|Bryce Dallas Howard|Irrfan Khan|Vi...</td>\n",
       "      <td>http://www.jurassicworld.com/</td>\n",
       "      <td>Colin Trevorrow</td>\n",
       "      <td>The park is open.</td>\n",
       "      <td>...</td>\n",
       "      <td>Twenty-two years after the events of Jurassic ...</td>\n",
       "      <td>124</td>\n",
       "      <td>Action|Adventure|Science Fiction|Thriller</td>\n",
       "      <td>Universal Studios|Amblin Entertainment|Legenda...</td>\n",
       "      <td>6/9/15</td>\n",
       "      <td>5562</td>\n",
       "      <td>6.5</td>\n",
       "      <td>2015</td>\n",
       "      <td>1.379999e+08</td>\n",
       "      <td>1.392446e+09</td>\n",
       "    </tr>\n",
       "    <tr>\n",
       "      <th>1</th>\n",
       "      <td>76341</td>\n",
       "      <td>tt1392190</td>\n",
       "      <td>28.419936</td>\n",
       "      <td>150000000</td>\n",
       "      <td>378436354</td>\n",
       "      <td>Mad Max: Fury Road</td>\n",
       "      <td>Tom Hardy|Charlize Theron|Hugh Keays-Byrne|Nic...</td>\n",
       "      <td>http://www.madmaxmovie.com/</td>\n",
       "      <td>George Miller</td>\n",
       "      <td>What a Lovely Day.</td>\n",
       "      <td>...</td>\n",
       "      <td>An apocalyptic story set in the furthest reach...</td>\n",
       "      <td>120</td>\n",
       "      <td>Action|Adventure|Science Fiction|Thriller</td>\n",
       "      <td>Village Roadshow Pictures|Kennedy Miller Produ...</td>\n",
       "      <td>5/13/15</td>\n",
       "      <td>6185</td>\n",
       "      <td>7.1</td>\n",
       "      <td>2015</td>\n",
       "      <td>1.379999e+08</td>\n",
       "      <td>3.481613e+08</td>\n",
       "    </tr>\n",
       "    <tr>\n",
       "      <th>2</th>\n",
       "      <td>262500</td>\n",
       "      <td>tt2908446</td>\n",
       "      <td>13.112507</td>\n",
       "      <td>110000000</td>\n",
       "      <td>295238201</td>\n",
       "      <td>Insurgent</td>\n",
       "      <td>Shailene Woodley|Theo James|Kate Winslet|Ansel...</td>\n",
       "      <td>http://www.thedivergentseries.movie/#insurgent</td>\n",
       "      <td>Robert Schwentke</td>\n",
       "      <td>One Choice Can Destroy You</td>\n",
       "      <td>...</td>\n",
       "      <td>Beatrice Prior must confront her inner demons ...</td>\n",
       "      <td>119</td>\n",
       "      <td>Adventure|Science Fiction|Thriller</td>\n",
       "      <td>Summit Entertainment|Mandeville Films|Red Wago...</td>\n",
       "      <td>3/18/15</td>\n",
       "      <td>2480</td>\n",
       "      <td>6.3</td>\n",
       "      <td>2015</td>\n",
       "      <td>1.012000e+08</td>\n",
       "      <td>2.716190e+08</td>\n",
       "    </tr>\n",
       "  </tbody>\n",
       "</table>\n",
       "<p>3 rows × 21 columns</p>\n",
       "</div>"
      ],
      "text/plain": [
       "       id    imdb_id  popularity     budget     revenue      original_title  \\\n",
       "0  135397  tt0369610   32.985763  150000000  1513528810      Jurassic World   \n",
       "1   76341  tt1392190   28.419936  150000000   378436354  Mad Max: Fury Road   \n",
       "2  262500  tt2908446   13.112507  110000000   295238201           Insurgent   \n",
       "\n",
       "                                                cast  \\\n",
       "0  Chris Pratt|Bryce Dallas Howard|Irrfan Khan|Vi...   \n",
       "1  Tom Hardy|Charlize Theron|Hugh Keays-Byrne|Nic...   \n",
       "2  Shailene Woodley|Theo James|Kate Winslet|Ansel...   \n",
       "\n",
       "                                         homepage          director  \\\n",
       "0                   http://www.jurassicworld.com/   Colin Trevorrow   \n",
       "1                     http://www.madmaxmovie.com/     George Miller   \n",
       "2  http://www.thedivergentseries.movie/#insurgent  Robert Schwentke   \n",
       "\n",
       "                      tagline  ...  \\\n",
       "0           The park is open.  ...   \n",
       "1          What a Lovely Day.  ...   \n",
       "2  One Choice Can Destroy You  ...   \n",
       "\n",
       "                                            overview runtime  \\\n",
       "0  Twenty-two years after the events of Jurassic ...     124   \n",
       "1  An apocalyptic story set in the furthest reach...     120   \n",
       "2  Beatrice Prior must confront her inner demons ...     119   \n",
       "\n",
       "                                      genres  \\\n",
       "0  Action|Adventure|Science Fiction|Thriller   \n",
       "1  Action|Adventure|Science Fiction|Thriller   \n",
       "2         Adventure|Science Fiction|Thriller   \n",
       "\n",
       "                                production_companies release_date vote_count  \\\n",
       "0  Universal Studios|Amblin Entertainment|Legenda...       6/9/15       5562   \n",
       "1  Village Roadshow Pictures|Kennedy Miller Produ...      5/13/15       6185   \n",
       "2  Summit Entertainment|Mandeville Films|Red Wago...      3/18/15       2480   \n",
       "\n",
       "   vote_average  release_year    budget_adj   revenue_adj  \n",
       "0           6.5          2015  1.379999e+08  1.392446e+09  \n",
       "1           7.1          2015  1.379999e+08  3.481613e+08  \n",
       "2           6.3          2015  1.012000e+08  2.716190e+08  \n",
       "\n",
       "[3 rows x 21 columns]"
      ]
     },
     "execution_count": 5,
     "metadata": {},
     "output_type": "execute_result"
    }
   ],
   "source": [
    "df.head(3)"
   ]
  },
  {
   "cell_type": "markdown",
   "metadata": {},
   "source": [
    "Step 5: Retrieving all included columns within the dataset."
   ]
  },
  {
   "cell_type": "code",
   "execution_count": 6,
   "metadata": {},
   "outputs": [
    {
     "data": {
      "text/plain": [
       "Index(['id', 'imdb_id', 'popularity', 'budget', 'revenue', 'original_title',\n",
       "       'cast', 'homepage', 'director', 'tagline', 'keywords', 'overview',\n",
       "       'runtime', 'genres', 'production_companies', 'release_date',\n",
       "       'vote_count', 'vote_average', 'release_year', 'budget_adj',\n",
       "       'revenue_adj'],\n",
       "      dtype='object')"
      ]
     },
     "execution_count": 6,
     "metadata": {},
     "output_type": "execute_result"
    }
   ],
   "source": [
    "df.columns"
   ]
  },
  {
   "cell_type": "markdown",
   "metadata": {},
   "source": [
    "Step 6: Check **Null Value** in each column by comparing with the total Index entries"
   ]
  },
  {
   "cell_type": "code",
   "execution_count": 7,
   "metadata": {},
   "outputs": [
    {
     "name": "stdout",
     "output_type": "stream",
     "text": [
      "<class 'pandas.core.frame.DataFrame'>\n",
      "RangeIndex: 10866 entries, 0 to 10865\n",
      "Data columns (total 21 columns):\n",
      " #   Column                Non-Null Count  Dtype  \n",
      "---  ------                --------------  -----  \n",
      " 0   id                    10866 non-null  int64  \n",
      " 1   imdb_id               10856 non-null  object \n",
      " 2   popularity            10866 non-null  float64\n",
      " 3   budget                10866 non-null  int64  \n",
      " 4   revenue               10866 non-null  int64  \n",
      " 5   original_title        10866 non-null  object \n",
      " 6   cast                  10790 non-null  object \n",
      " 7   homepage              2936 non-null   object \n",
      " 8   director              10822 non-null  object \n",
      " 9   tagline               8042 non-null   object \n",
      " 10  keywords              9373 non-null   object \n",
      " 11  overview              10862 non-null  object \n",
      " 12  runtime               10866 non-null  int64  \n",
      " 13  genres                10843 non-null  object \n",
      " 14  production_companies  9836 non-null   object \n",
      " 15  release_date          10866 non-null  object \n",
      " 16  vote_count            10866 non-null  int64  \n",
      " 17  vote_average          10866 non-null  float64\n",
      " 18  release_year          10866 non-null  int64  \n",
      " 19  budget_adj            10866 non-null  float64\n",
      " 20  revenue_adj           10866 non-null  float64\n",
      "dtypes: float64(4), int64(6), object(11)\n",
      "memory usage: 1.7+ MB\n"
     ]
    }
   ],
   "source": [
    "df.info()"
   ]
  },
  {
   "cell_type": "markdown",
   "metadata": {},
   "source": [
    "Step 7: Checking duplicated value "
   ]
  },
  {
   "cell_type": "code",
   "execution_count": 8,
   "metadata": {
    "scrolled": true
   },
   "outputs": [
    {
     "data": {
      "text/plain": [
       "1"
      ]
     },
     "execution_count": 8,
     "metadata": {},
     "output_type": "execute_result"
    }
   ],
   "source": [
    "sum(df.duplicated())"
   ]
  },
  {
   "cell_type": "markdown",
   "metadata": {},
   "source": [
    "## <span style=\"color: lightblue;\"> Data Cleaning </span>"
   ]
  },
  {
   "cell_type": "markdown",
   "metadata": {},
   "source": [
    "**<u>Description for Data Cleaning process</u>**:\\\n",
    "**<u>Issue 1</u>:** Dataset contains 1 duplicated row. *(Explored from the step 7 in Data Inspection)*.\\\n",
    "**<u>Issue 2</u>:** The \"release_date\" data type should be a (timedate). *(Explored from the step 6 in Data Inspection)*.\\\n",
    "**<u>Issue 3</u>:** The \"imdb_id\" data type should an \"integer\". *(Explored from the step 6 in Data Inspection)*.\\\n",
    "**<u>Issue 4</u>:** Containing \"Null Value\" in the columns: **(imdb_id**, **cast**, **homepage**, **director**, **tagline**, **keywords**, **overview**, **genres**, **production_companies)**. *(Explored from the step 6 in Data Inspection)*."
   ]
  },
  {
   "cell_type": "markdown",
   "metadata": {},
   "source": [
    "Step 1: (Issue 1 correcting) Corecting the issue 1 by dropping the duplicated rows. "
   ]
  },
  {
   "cell_type": "code",
   "execution_count": 9,
   "metadata": {},
   "outputs": [],
   "source": [
    "df.drop_duplicates(inplace=True)"
   ]
  },
  {
   "cell_type": "markdown",
   "metadata": {},
   "source": [
    "Step 2: (Issue 1 correcting) Check the result of duplicated value in the dataframe"
   ]
  },
  {
   "cell_type": "code",
   "execution_count": 10,
   "metadata": {
    "scrolled": true
   },
   "outputs": [
    {
     "data": {
      "text/plain": [
       "0"
      ]
     },
     "execution_count": 10,
     "metadata": {},
     "output_type": "execute_result"
    }
   ],
   "source": [
    "sum(df.duplicated())"
   ]
  },
  {
   "cell_type": "markdown",
   "metadata": {},
   "source": [
    "Step 3: (Issue 2 correcting) Changing the data type of the \"release_date\" column to datetime."
   ]
  },
  {
   "cell_type": "code",
   "execution_count": 11,
   "metadata": {},
   "outputs": [],
   "source": [
    "df['release_date'] = pd.to_datetime(df['release_date'])"
   ]
  },
  {
   "cell_type": "markdown",
   "metadata": {},
   "source": [
    "Step 4: (Issue 2 correcting) Checking the changed data type for the **release_data** column."
   ]
  },
  {
   "cell_type": "code",
   "execution_count": 12,
   "metadata": {
    "scrolled": true
   },
   "outputs": [
    {
     "data": {
      "text/plain": [
       "pandas._libs.tslibs.timestamps.Timestamp"
      ]
     },
     "execution_count": 12,
     "metadata": {},
     "output_type": "execute_result"
    }
   ],
   "source": [
    "type(df['release_date'][2])"
   ]
  },
  {
   "cell_type": "markdown",
   "metadata": {},
   "source": [
    "Step 5: (Issue 3 correcting) Extracting the **(integer)** from **(string)** in **\"imdb_id\"** column.\\\n",
    "The **\"imdb_id\"** has to be non-null before extracting process. "
   ]
  },
  {
   "cell_type": "code",
   "execution_count": 13,
   "metadata": {},
   "outputs": [],
   "source": [
    "df.dropna(subset=['imdb_id'], inplace=True)"
   ]
  },
  {
   "cell_type": "markdown",
   "metadata": {},
   "source": [
    "Step 6: (Issue 3 correcting) Double check to see any null value in the **\"imdb_id\"**."
   ]
  },
  {
   "cell_type": "code",
   "execution_count": 14,
   "metadata": {
    "scrolled": true
   },
   "outputs": [
    {
     "data": {
      "text/plain": [
       "0"
      ]
     },
     "execution_count": 14,
     "metadata": {},
     "output_type": "execute_result"
    }
   ],
   "source": [
    "df['imdb_id'].isnull().sum()"
   ]
  },
  {
   "cell_type": "markdown",
   "metadata": {},
   "source": [
    "Step 7: (Issue 4 correcting) Using the **str.extract()** function to get the **(numeric)** value from the **(string)**. "
   ]
  },
  {
   "cell_type": "code",
   "execution_count": 15,
   "metadata": {},
   "outputs": [],
   "source": [
    "df['imdb_id'] = df['imdb_id'].str.extract(r'(\\d+)')"
   ]
  },
  {
   "cell_type": "markdown",
   "metadata": {},
   "source": [
    "Step 8: (Issue 3 correcting) Using the **astype()** function to convert data type to **(integer)**."
   ]
  },
  {
   "cell_type": "code",
   "execution_count": 16,
   "metadata": {},
   "outputs": [],
   "source": [
    "df['imdb_id'] = df['imdb_id'].astype('int32')"
   ]
  },
  {
   "cell_type": "markdown",
   "metadata": {},
   "source": [
    "Step 9: (Issue 3 correcting) Check the result for the data type converting. "
   ]
  },
  {
   "cell_type": "code",
   "execution_count": 17,
   "metadata": {},
   "outputs": [
    {
     "name": "stdout",
     "output_type": "stream",
     "text": [
      "<class 'pandas.core.series.Series'>\n",
      "Int64Index: 10855 entries, 0 to 10865\n",
      "Series name: imdb_id\n",
      "Non-Null Count  Dtype\n",
      "--------------  -----\n",
      "10855 non-null  int32\n",
      "dtypes: int32(1)\n",
      "memory usage: 127.2 KB\n"
     ]
    }
   ],
   "source": [
    "df['imdb_id'].info()"
   ]
  },
  {
   "cell_type": "markdown",
   "metadata": {},
   "source": [
    "Step 10: (Issue 4 correcting) Dropping all the rows containing the null value in columns: **director**, **genres**, **cast** columns."
   ]
  },
  {
   "cell_type": "code",
   "execution_count": 18,
   "metadata": {
    "scrolled": false
   },
   "outputs": [],
   "source": [
    "df.dropna(subset= (['director','genres', 'cast']), inplace=True)"
   ]
  },
  {
   "cell_type": "markdown",
   "metadata": {},
   "source": [
    "Step 11: (Issue 4 correcting) Check the null value in columns: **director**, **genres**, **cast** columns."
   ]
  },
  {
   "cell_type": "code",
   "execution_count": 19,
   "metadata": {},
   "outputs": [
    {
     "name": "stdout",
     "output_type": "stream",
     "text": [
      "<class 'pandas.core.frame.DataFrame'>\n",
      "Int64Index: 10726 entries, 0 to 10865\n",
      "Data columns (total 21 columns):\n",
      " #   Column                Non-Null Count  Dtype         \n",
      "---  ------                --------------  -----         \n",
      " 0   id                    10726 non-null  int64         \n",
      " 1   imdb_id               10726 non-null  int32         \n",
      " 2   popularity            10726 non-null  float64       \n",
      " 3   budget                10726 non-null  int64         \n",
      " 4   revenue               10726 non-null  int64         \n",
      " 5   original_title        10726 non-null  object        \n",
      " 6   cast                  10726 non-null  object        \n",
      " 7   homepage              2892 non-null   object        \n",
      " 8   director              10726 non-null  object        \n",
      " 9   tagline               7999 non-null   object        \n",
      " 10  keywords              9303 non-null   object        \n",
      " 11  overview              10724 non-null  object        \n",
      " 12  runtime               10726 non-null  int64         \n",
      " 13  genres                10726 non-null  object        \n",
      " 14  production_companies  9770 non-null   object        \n",
      " 15  release_date          10726 non-null  datetime64[ns]\n",
      " 16  vote_count            10726 non-null  int64         \n",
      " 17  vote_average          10726 non-null  float64       \n",
      " 18  release_year          10726 non-null  int64         \n",
      " 19  budget_adj            10726 non-null  float64       \n",
      " 20  revenue_adj           10726 non-null  float64       \n",
      "dtypes: datetime64[ns](1), float64(4), int32(1), int64(6), object(9)\n",
      "memory usage: 1.8+ MB\n"
     ]
    }
   ],
   "source": [
    "df.info()"
   ]
  },
  {
   "cell_type": "markdown",
   "metadata": {},
   "source": [
    "Step 12: (Issue 4 correcting) Creating values to fill in the null spaces for columns: **homepage**, **tagline**, **keywords**, **overview**, and **production_companies**."
   ]
  },
  {
   "cell_type": "code",
   "execution_count": 20,
   "metadata": {},
   "outputs": [],
   "source": [
    "df['homepage'] = df['homepage'].fillna('Unknownpage')\n",
    "df['tagline'] = df['tagline'].fillna('Unknowntagline')\n",
    "df['keywords'] = df['keywords'].fillna('Unknownkeywords')\n",
    "df['overview'] = df['overview'].fillna('Unknownoverview')\n",
    "df['production_companies'] = df['production_companies'].fillna('Unknowncompany')"
   ]
  },
  {
   "cell_type": "markdown",
   "metadata": {},
   "source": [
    "Step 13: (Issue 4 correcting) Double check the final result for correcting the null values issue."
   ]
  },
  {
   "cell_type": "code",
   "execution_count": 21,
   "metadata": {},
   "outputs": [
    {
     "name": "stdout",
     "output_type": "stream",
     "text": [
      "<class 'pandas.core.frame.DataFrame'>\n",
      "Int64Index: 10726 entries, 0 to 10865\n",
      "Data columns (total 21 columns):\n",
      " #   Column                Non-Null Count  Dtype         \n",
      "---  ------                --------------  -----         \n",
      " 0   id                    10726 non-null  int64         \n",
      " 1   imdb_id               10726 non-null  int32         \n",
      " 2   popularity            10726 non-null  float64       \n",
      " 3   budget                10726 non-null  int64         \n",
      " 4   revenue               10726 non-null  int64         \n",
      " 5   original_title        10726 non-null  object        \n",
      " 6   cast                  10726 non-null  object        \n",
      " 7   homepage              10726 non-null  object        \n",
      " 8   director              10726 non-null  object        \n",
      " 9   tagline               10726 non-null  object        \n",
      " 10  keywords              10726 non-null  object        \n",
      " 11  overview              10726 non-null  object        \n",
      " 12  runtime               10726 non-null  int64         \n",
      " 13  genres                10726 non-null  object        \n",
      " 14  production_companies  10726 non-null  object        \n",
      " 15  release_date          10726 non-null  datetime64[ns]\n",
      " 16  vote_count            10726 non-null  int64         \n",
      " 17  vote_average          10726 non-null  float64       \n",
      " 18  release_year          10726 non-null  int64         \n",
      " 19  budget_adj            10726 non-null  float64       \n",
      " 20  revenue_adj           10726 non-null  float64       \n",
      "dtypes: datetime64[ns](1), float64(4), int32(1), int64(6), object(9)\n",
      "memory usage: 1.8+ MB\n"
     ]
    }
   ],
   "source": [
    "df.info()"
   ]
  },
  {
   "cell_type": "markdown",
   "metadata": {},
   "source": [
    "# <span style=\"color: blue;\">III. Exploratory Data Analysis </span>"
   ]
  },
  {
   "cell_type": "markdown",
   "metadata": {},
   "source": [
    "## <span style=\"color: lightblue;\">Research question 1: What are the top 10 most popular movies since 2000? </span>"
   ]
  },
  {
   "cell_type": "markdown",
   "metadata": {},
   "source": [
    "**<u>Description of how to find the answer for the question 1**</u>:\\\n",
    "Step 1: Creating a new dataset including columns: **original_title**, **popularity**, and **release_date**\\\n",
    "Step 2: Sorting the dataset by **release_date** column to get only movies releasing after the year of 2000.\\\n",
    "Step 3: Descending sort the movies by **popularity** column.\\\n",
    "Step 4: Slicing the dataset by **iloc()** function to get the top 10 movies.\\\n",
    "Step 5: Plotting the result in the bar chart to see the different in popularity of each movie. "
   ]
  },
  {
   "cell_type": "markdown",
   "metadata": {},
   "source": [
    "<u>Step 1</u>: Extracting the needed columns for a new dataset name **df_q1**\\\n",
    "Print out some the dataset information to confirm."
   ]
  },
  {
   "cell_type": "code",
   "execution_count": 22,
   "metadata": {},
   "outputs": [
    {
     "name": "stdout",
     "output_type": "stream",
     "text": [
      "<class 'pandas.core.frame.DataFrame'>\n",
      "Int64Index: 10726 entries, 0 to 10865\n",
      "Data columns (total 3 columns):\n",
      " #   Column          Non-Null Count  Dtype         \n",
      "---  ------          --------------  -----         \n",
      " 0   original_title  10726 non-null  object        \n",
      " 1   popularity      10726 non-null  float64       \n",
      " 2   release_date    10726 non-null  datetime64[ns]\n",
      "dtypes: datetime64[ns](1), float64(1), object(1)\n",
      "memory usage: 335.2+ KB\n"
     ]
    }
   ],
   "source": [
    "df_q1 = df[['original_title','popularity','release_date']]\n",
    "df_q1.info()"
   ]
  },
  {
   "cell_type": "markdown",
   "metadata": {},
   "source": [
    "<u>Step 2</u>: Sorting the **df_q1** to get only the indices after the year of 2000.\\\n",
    "Print out the data frame."
   ]
  },
  {
   "cell_type": "code",
   "execution_count": 23,
   "metadata": {},
   "outputs": [
    {
     "data": {
      "text/html": [
       "<div>\n",
       "<style scoped>\n",
       "    .dataframe tbody tr th:only-of-type {\n",
       "        vertical-align: middle;\n",
       "    }\n",
       "\n",
       "    .dataframe tbody tr th {\n",
       "        vertical-align: top;\n",
       "    }\n",
       "\n",
       "    .dataframe thead th {\n",
       "        text-align: right;\n",
       "    }\n",
       "</style>\n",
       "<table border=\"1\" class=\"dataframe\">\n",
       "  <thead>\n",
       "    <tr style=\"text-align: right;\">\n",
       "      <th></th>\n",
       "      <th>original_title</th>\n",
       "      <th>popularity</th>\n",
       "      <th>release_date</th>\n",
       "    </tr>\n",
       "  </thead>\n",
       "  <tbody>\n",
       "    <tr>\n",
       "      <th>0</th>\n",
       "      <td>Jurassic World</td>\n",
       "      <td>32.985763</td>\n",
       "      <td>2015-06-09</td>\n",
       "    </tr>\n",
       "    <tr>\n",
       "      <th>1</th>\n",
       "      <td>Mad Max: Fury Road</td>\n",
       "      <td>28.419936</td>\n",
       "      <td>2015-05-13</td>\n",
       "    </tr>\n",
       "    <tr>\n",
       "      <th>2</th>\n",
       "      <td>Insurgent</td>\n",
       "      <td>13.112507</td>\n",
       "      <td>2015-03-18</td>\n",
       "    </tr>\n",
       "    <tr>\n",
       "      <th>3</th>\n",
       "      <td>Star Wars: The Force Awakens</td>\n",
       "      <td>11.173104</td>\n",
       "      <td>2015-12-15</td>\n",
       "    </tr>\n",
       "    <tr>\n",
       "      <th>4</th>\n",
       "      <td>Furious 7</td>\n",
       "      <td>9.335014</td>\n",
       "      <td>2015-04-01</td>\n",
       "    </tr>\n",
       "  </tbody>\n",
       "</table>\n",
       "</div>"
      ],
      "text/plain": [
       "                 original_title  popularity release_date\n",
       "0                Jurassic World   32.985763   2015-06-09\n",
       "1            Mad Max: Fury Road   28.419936   2015-05-13\n",
       "2                     Insurgent   13.112507   2015-03-18\n",
       "3  Star Wars: The Force Awakens   11.173104   2015-12-15\n",
       "4                     Furious 7    9.335014   2015-04-01"
      ]
     },
     "execution_count": 23,
     "metadata": {},
     "output_type": "execute_result"
    }
   ],
   "source": [
    "df_q1_since_2000 = df_q1.query('release_date >= \"2000-01-01\"')\n",
    "df_q1_since_2000.head()"
   ]
  },
  {
   "cell_type": "markdown",
   "metadata": {},
   "source": [
    "<u>Step 3</u>: Using the **sort_values()** function to set the **popularity** as descending order. "
   ]
  },
  {
   "cell_type": "code",
   "execution_count": 24,
   "metadata": {},
   "outputs": [],
   "source": [
    "df_question1 = df_q1_since_2000.sort_values(by='popularity', ascending=False)"
   ]
  },
  {
   "cell_type": "markdown",
   "metadata": {},
   "source": [
    "<u>Step 4</u>: Using **iloc()** function for sclicing the top ten indices for the new dataset.\\\n",
    "Print out the dataset to check. "
   ]
  },
  {
   "cell_type": "code",
   "execution_count": 25,
   "metadata": {
    "scrolled": true
   },
   "outputs": [
    {
     "data": {
      "text/html": [
       "<div>\n",
       "<style scoped>\n",
       "    .dataframe tbody tr th:only-of-type {\n",
       "        vertical-align: middle;\n",
       "    }\n",
       "\n",
       "    .dataframe tbody tr th {\n",
       "        vertical-align: top;\n",
       "    }\n",
       "\n",
       "    .dataframe thead th {\n",
       "        text-align: right;\n",
       "    }\n",
       "</style>\n",
       "<table border=\"1\" class=\"dataframe\">\n",
       "  <thead>\n",
       "    <tr style=\"text-align: right;\">\n",
       "      <th></th>\n",
       "      <th>original_title</th>\n",
       "      <th>popularity</th>\n",
       "      <th>release_date</th>\n",
       "    </tr>\n",
       "  </thead>\n",
       "  <tbody>\n",
       "    <tr>\n",
       "      <th>0</th>\n",
       "      <td>Jurassic World</td>\n",
       "      <td>32.985763</td>\n",
       "      <td>2015-06-09</td>\n",
       "    </tr>\n",
       "    <tr>\n",
       "      <th>1</th>\n",
       "      <td>Mad Max: Fury Road</td>\n",
       "      <td>28.419936</td>\n",
       "      <td>2015-05-13</td>\n",
       "    </tr>\n",
       "    <tr>\n",
       "      <th>629</th>\n",
       "      <td>Interstellar</td>\n",
       "      <td>24.949134</td>\n",
       "      <td>2014-11-05</td>\n",
       "    </tr>\n",
       "    <tr>\n",
       "      <th>630</th>\n",
       "      <td>Guardians of the Galaxy</td>\n",
       "      <td>14.311205</td>\n",
       "      <td>2014-07-30</td>\n",
       "    </tr>\n",
       "    <tr>\n",
       "      <th>2</th>\n",
       "      <td>Insurgent</td>\n",
       "      <td>13.112507</td>\n",
       "      <td>2015-03-18</td>\n",
       "    </tr>\n",
       "    <tr>\n",
       "      <th>631</th>\n",
       "      <td>Captain America: The Winter Soldier</td>\n",
       "      <td>12.971027</td>\n",
       "      <td>2014-03-20</td>\n",
       "    </tr>\n",
       "    <tr>\n",
       "      <th>632</th>\n",
       "      <td>John Wick</td>\n",
       "      <td>11.422751</td>\n",
       "      <td>2014-10-22</td>\n",
       "    </tr>\n",
       "    <tr>\n",
       "      <th>3</th>\n",
       "      <td>Star Wars: The Force Awakens</td>\n",
       "      <td>11.173104</td>\n",
       "      <td>2015-12-15</td>\n",
       "    </tr>\n",
       "    <tr>\n",
       "      <th>633</th>\n",
       "      <td>The Hunger Games: Mockingjay - Part 1</td>\n",
       "      <td>10.739009</td>\n",
       "      <td>2014-11-18</td>\n",
       "    </tr>\n",
       "    <tr>\n",
       "      <th>634</th>\n",
       "      <td>The Hobbit: The Battle of the Five Armies</td>\n",
       "      <td>10.174599</td>\n",
       "      <td>2014-12-10</td>\n",
       "    </tr>\n",
       "  </tbody>\n",
       "</table>\n",
       "</div>"
      ],
      "text/plain": [
       "                                original_title  popularity release_date\n",
       "0                               Jurassic World   32.985763   2015-06-09\n",
       "1                           Mad Max: Fury Road   28.419936   2015-05-13\n",
       "629                               Interstellar   24.949134   2014-11-05\n",
       "630                    Guardians of the Galaxy   14.311205   2014-07-30\n",
       "2                                    Insurgent   13.112507   2015-03-18\n",
       "631        Captain America: The Winter Soldier   12.971027   2014-03-20\n",
       "632                                  John Wick   11.422751   2014-10-22\n",
       "3                 Star Wars: The Force Awakens   11.173104   2015-12-15\n",
       "633      The Hunger Games: Mockingjay - Part 1   10.739009   2014-11-18\n",
       "634  The Hobbit: The Battle of the Five Armies   10.174599   2014-12-10"
      ]
     },
     "execution_count": 25,
     "metadata": {},
     "output_type": "execute_result"
    }
   ],
   "source": [
    "df_question1_answer = df_question1.iloc[:10, :]\n",
    "df_question1_answer.head(15)"
   ]
  },
  {
   "cell_type": "markdown",
   "metadata": {},
   "source": [
    "<u>Step 5:</u> Plotting the dataset to **barh** chart. "
   ]
  },
  {
   "cell_type": "code",
   "execution_count": 26,
   "metadata": {},
   "outputs": [
    {
     "data": {
      "image/png": "[encoded data removed]",
      "text/plain": [
       "<Figure size 1200x600 with 1 Axes>"
      ]
     },
     "metadata": {},
     "output_type": "display_data"
    }
   ],
   "source": [
    "df_question1_answer.plot(x = 'original_title', y = 'popularity',figsize = (12,6), xlabel = 'Popularity in millions',ylabel = 'Name of movies', kind='barh');"
   ]
  },
  {
   "cell_type": "markdown",
   "metadata": {},
   "source": [
    "---\n",
    "<br>"
   ]
  },
  {
   "cell_type": "markdown",
   "metadata": {},
   "source": [
    "## <span style=\"color: lightblue;\">Research question 2: Which genres of movies are typically the most commercially successful in 2011, 2012, 2013, 2014, and 2015? </span>"
   ]
  },
  {
   "cell_type": "markdown",
   "metadata": {},
   "source": [
    "**<u>Description of how to find the answer for the question 2**</u>:\\\n",
    "Step 1: Creating a new dataset including columns: **original_title**, **revenue**, **budget**, and **release_year**.\\\n",
    "Step 2: Sorting the dataset by **release_year** column to get only movies releasing in each year from **(2011 - 2015**.\\\n",
    "Step 3: Creating a new **profit** column based on **revenue** and **budget** columns for later comparison.\\\n",
    "Step 4: Based on the new **profit** column to compare the **total profit** in each year.\\\n",
    "Step 5: Based on the new **profit** column to investigate the trend through the years.\\\n",
    "Step 6: Finding the movie with highest profit in each year based on the **profit** column.\\\n",
    "Step 7: Create a Python function to parse each **highest profit** from the above step.\\\n",
    "Step 8: Get the highest profit movie for 2012 and it's type of **genres**.\\\n",
    "\n",
    "Step 7: Get the highest profit movie for 2013 and it's type of **genres**.\\\n",
    "Step 8: Get the highest profit movie for 2014 and it's type of **genres**.\\\n",
    "Step 9: Get the highest profit movie for 2015 and it's type of **genres**.\\\n",
    "Step 10: Combining all the years together into one data set (preparing for plotting).\\\n",
    "Step 11: **Visualization**"
   ]
  },
  {
   "cell_type": "markdown",
   "metadata": {},
   "source": [
    "<u>Step 1:</u> Creating a new dataset **df_q2** by extracting needed columns from the **df** dataset.\\\n",
    "Print out rows to see the new dataset."
   ]
  },
  {
   "cell_type": "code",
   "execution_count": 27,
   "metadata": {},
   "outputs": [
    {
     "data": {
      "text/html": [
       "<div>\n",
       "<style scoped>\n",
       "    .dataframe tbody tr th:only-of-type {\n",
       "        vertical-align: middle;\n",
       "    }\n",
       "\n",
       "    .dataframe tbody tr th {\n",
       "        vertical-align: top;\n",
       "    }\n",
       "\n",
       "    .dataframe thead th {\n",
       "        text-align: right;\n",
       "    }\n",
       "</style>\n",
       "<table border=\"1\" class=\"dataframe\">\n",
       "  <thead>\n",
       "    <tr style=\"text-align: right;\">\n",
       "      <th></th>\n",
       "      <th>original_title</th>\n",
       "      <th>revenue</th>\n",
       "      <th>budget</th>\n",
       "      <th>genres</th>\n",
       "      <th>release_year</th>\n",
       "    </tr>\n",
       "  </thead>\n",
       "  <tbody>\n",
       "    <tr>\n",
       "      <th>0</th>\n",
       "      <td>Jurassic World</td>\n",
       "      <td>1513528810</td>\n",
       "      <td>150000000</td>\n",
       "      <td>Action|Adventure|Science Fiction|Thriller</td>\n",
       "      <td>2015</td>\n",
       "    </tr>\n",
       "    <tr>\n",
       "      <th>1</th>\n",
       "      <td>Mad Max: Fury Road</td>\n",
       "      <td>378436354</td>\n",
       "      <td>150000000</td>\n",
       "      <td>Action|Adventure|Science Fiction|Thriller</td>\n",
       "      <td>2015</td>\n",
       "    </tr>\n",
       "    <tr>\n",
       "      <th>2</th>\n",
       "      <td>Insurgent</td>\n",
       "      <td>295238201</td>\n",
       "      <td>110000000</td>\n",
       "      <td>Adventure|Science Fiction|Thriller</td>\n",
       "      <td>2015</td>\n",
       "    </tr>\n",
       "    <tr>\n",
       "      <th>3</th>\n",
       "      <td>Star Wars: The Force Awakens</td>\n",
       "      <td>2068178225</td>\n",
       "      <td>200000000</td>\n",
       "      <td>Action|Adventure|Science Fiction|Fantasy</td>\n",
       "      <td>2015</td>\n",
       "    </tr>\n",
       "    <tr>\n",
       "      <th>4</th>\n",
       "      <td>Furious 7</td>\n",
       "      <td>1506249360</td>\n",
       "      <td>190000000</td>\n",
       "      <td>Action|Crime|Thriller</td>\n",
       "      <td>2015</td>\n",
       "    </tr>\n",
       "  </tbody>\n",
       "</table>\n",
       "</div>"
      ],
      "text/plain": [
       "                 original_title     revenue     budget  \\\n",
       "0                Jurassic World  1513528810  150000000   \n",
       "1            Mad Max: Fury Road   378436354  150000000   \n",
       "2                     Insurgent   295238201  110000000   \n",
       "3  Star Wars: The Force Awakens  2068178225  200000000   \n",
       "4                     Furious 7  1506249360  190000000   \n",
       "\n",
       "                                      genres  release_year  \n",
       "0  Action|Adventure|Science Fiction|Thriller          2015  \n",
       "1  Action|Adventure|Science Fiction|Thriller          2015  \n",
       "2         Adventure|Science Fiction|Thriller          2015  \n",
       "3   Action|Adventure|Science Fiction|Fantasy          2015  \n",
       "4                      Action|Crime|Thriller          2015  "
      ]
     },
     "execution_count": 27,
     "metadata": {},
     "output_type": "execute_result"
    }
   ],
   "source": [
    "df_q2 = df[['original_title','revenue','budget','genres','release_year']]\n",
    "df_q2.head()"
   ]
  },
  {
   "cell_type": "markdown",
   "metadata": {},
   "source": [
    "<u>Step 2:</u> Sorting the **df_q2** to get only indices from **2011**, **2011**, **2013**, **2014**, and **2015**. "
   ]
  },
  {
   "cell_type": "code",
   "execution_count": 28,
   "metadata": {},
   "outputs": [],
   "source": [
    "df_q2_years = df_q2.query('release_year >= 2011').copy()"
   ]
  },
  {
   "cell_type": "markdown",
   "metadata": {},
   "source": [
    "<u>Step 3:</u> Creating a new **profit** column using to find the highest profit movie for each year later.\\\n",
    "Print out the dataset to check all included columns."
   ]
  },
  {
   "cell_type": "code",
   "execution_count": 29,
   "metadata": {
    "scrolled": true
   },
   "outputs": [
    {
     "data": {
      "text/html": [
       "<div>\n",
       "<style scoped>\n",
       "    .dataframe tbody tr th:only-of-type {\n",
       "        vertical-align: middle;\n",
       "    }\n",
       "\n",
       "    .dataframe tbody tr th {\n",
       "        vertical-align: top;\n",
       "    }\n",
       "\n",
       "    .dataframe thead th {\n",
       "        text-align: right;\n",
       "    }\n",
       "</style>\n",
       "<table border=\"1\" class=\"dataframe\">\n",
       "  <thead>\n",
       "    <tr style=\"text-align: right;\">\n",
       "      <th></th>\n",
       "      <th>original_title</th>\n",
       "      <th>revenue</th>\n",
       "      <th>budget</th>\n",
       "      <th>genres</th>\n",
       "      <th>release_year</th>\n",
       "      <th>profit</th>\n",
       "    </tr>\n",
       "  </thead>\n",
       "  <tbody>\n",
       "    <tr>\n",
       "      <th>0</th>\n",
       "      <td>Jurassic World</td>\n",
       "      <td>1513528810</td>\n",
       "      <td>150000000</td>\n",
       "      <td>Action|Adventure|Science Fiction|Thriller</td>\n",
       "      <td>2015</td>\n",
       "      <td>1363528810</td>\n",
       "    </tr>\n",
       "    <tr>\n",
       "      <th>1</th>\n",
       "      <td>Mad Max: Fury Road</td>\n",
       "      <td>378436354</td>\n",
       "      <td>150000000</td>\n",
       "      <td>Action|Adventure|Science Fiction|Thriller</td>\n",
       "      <td>2015</td>\n",
       "      <td>228436354</td>\n",
       "    </tr>\n",
       "    <tr>\n",
       "      <th>2</th>\n",
       "      <td>Insurgent</td>\n",
       "      <td>295238201</td>\n",
       "      <td>110000000</td>\n",
       "      <td>Adventure|Science Fiction|Thriller</td>\n",
       "      <td>2015</td>\n",
       "      <td>185238201</td>\n",
       "    </tr>\n",
       "    <tr>\n",
       "      <th>3</th>\n",
       "      <td>Star Wars: The Force Awakens</td>\n",
       "      <td>2068178225</td>\n",
       "      <td>200000000</td>\n",
       "      <td>Action|Adventure|Science Fiction|Fantasy</td>\n",
       "      <td>2015</td>\n",
       "      <td>1868178225</td>\n",
       "    </tr>\n",
       "    <tr>\n",
       "      <th>4</th>\n",
       "      <td>Furious 7</td>\n",
       "      <td>1506249360</td>\n",
       "      <td>190000000</td>\n",
       "      <td>Action|Crime|Thriller</td>\n",
       "      <td>2015</td>\n",
       "      <td>1316249360</td>\n",
       "    </tr>\n",
       "  </tbody>\n",
       "</table>\n",
       "</div>"
      ],
      "text/plain": [
       "                 original_title     revenue     budget  \\\n",
       "0                Jurassic World  1513528810  150000000   \n",
       "1            Mad Max: Fury Road   378436354  150000000   \n",
       "2                     Insurgent   295238201  110000000   \n",
       "3  Star Wars: The Force Awakens  2068178225  200000000   \n",
       "4                     Furious 7  1506249360  190000000   \n",
       "\n",
       "                                      genres  release_year      profit  \n",
       "0  Action|Adventure|Science Fiction|Thriller          2015  1363528810  \n",
       "1  Action|Adventure|Science Fiction|Thriller          2015   228436354  \n",
       "2         Adventure|Science Fiction|Thriller          2015   185238201  \n",
       "3   Action|Adventure|Science Fiction|Fantasy          2015  1868178225  \n",
       "4                      Action|Crime|Thriller          2015  1316249360  "
      ]
     },
     "execution_count": 29,
     "metadata": {},
     "output_type": "execute_result"
    }
   ],
   "source": [
    "df_q2_years.loc[:,'profit'] = (df_q2_years['revenue']) - (df_q2_years['budget'])\n",
    "df_q2_years.head()"
   ]
  },
  {
   "cell_type": "markdown",
   "metadata": {},
   "source": [
    "<u>Step 4</u>: Plotting the total profit from each year into the **Pie** chart to see what year has the highest profit.\\\n",
    "*(The below chart shows that the highest profit year is <span style=\"color: purple;\">2015</span>)*."
   ]
  },
  {
   "cell_type": "code",
   "execution_count": 30,
   "metadata": {},
   "outputs": [
    {
     "data": {
      "image/png": "[encoded data removed]",
      "text/plain": [
       "<Figure size 640x480 with 1 Axes>"
      ]
     },
     "metadata": {},
     "output_type": "display_data"
    }
   ],
   "source": [
    "df_q2_years.groupby('release_year')['profit'].sum().plot(kind='pie');"
   ]
  },
  {
   "cell_type": "markdown",
   "metadata": {},
   "source": [
    "<u>Step 5</u>: Using the **Line** chart to see how **demand trends** through each year based on the sum of **profit** values.\\\n",
    "*(The chart below demonstrates that the demand fluctuated throughout the year but had a positive rate overall)*"
   ]
  },
  {
   "cell_type": "code",
   "execution_count": 31,
   "metadata": {},
   "outputs": [
    {
     "data": {
      "image/png": "[encoded data removed]",
      "text/plain": [
       "<Figure size 640x480 with 1 Axes>"
      ]
     },
     "metadata": {},
     "output_type": "display_data"
    }
   ],
   "source": [
    "df_q2_years.groupby('release_year')['profit'].sum().plot(kind='line');"
   ]
  },
  {
   "cell_type": "markdown",
   "metadata": {},
   "source": [
    "<u>Step 6:</u> Using the **groupby** and **max()** functions to find the movie with the highest profit for each year.\\\n",
    "Print out the results."
   ]
  },
  {
   "cell_type": "code",
   "execution_count": 32,
   "metadata": {
    "scrolled": true
   },
   "outputs": [
    {
     "data": {
      "text/plain": [
       "release_year\n",
       "2011    1202817822\n",
       "2012    1299557910\n",
       "2013    1124219009\n",
       "2014     705119788\n",
       "2015    1868178225\n",
       "Name: profit, dtype: int64"
      ]
     },
     "execution_count": 32,
     "metadata": {},
     "output_type": "execute_result"
    }
   ],
   "source": [
    "df_q2_year_max_profit = df_q2_years.groupby('release_year')['profit'].max()\n",
    "df_q2_year_max_profit.head()"
   ]
  },
  {
   "cell_type": "markdown",
   "metadata": {},
   "source": [
    "<u>Step 7</u>: Instead of using each highest profit in each year as the result of the Step 4 above to repeatelly retrieve each year information and add them all together. **(manually technique)**\n",
    "* The **filter_df_each_year** python function will help to eliminate the repeated code lines by using each highest profit in each year as an index to parse with the **df_q2_years** dataset to create a new dataset for each year, then, use the **concat()** net function to merge all the new datasets together to **return** a combined dataset as the resutl for the function."
   ]
  },
  {
   "cell_type": "code",
   "execution_count": 33,
   "metadata": {},
   "outputs": [],
   "source": [
    "def filter_df_each_year(df_q2_years, profit_values):\n",
    "    df_new = pd.DataFrame()\n",
    "    for profit_value in profit_values:\n",
    "        df_each_year = df_q2_years[df_q2_years['profit'] == profit_value]\n",
    "        df_new = pd.concat([df_new, df_each_year])\n",
    "    return df_new"
   ]
  },
  {
   "cell_type": "markdown",
   "metadata": {},
   "source": [
    "<u>Step 8:</u> Assigning the result from the above function to **df_q2_result** dataframe.\\\n",
    "Print it."
   ]
  },
  {
   "cell_type": "code",
   "execution_count": 34,
   "metadata": {},
   "outputs": [
    {
     "data": {
      "text/html": [
       "<div>\n",
       "<style scoped>\n",
       "    .dataframe tbody tr th:only-of-type {\n",
       "        vertical-align: middle;\n",
       "    }\n",
       "\n",
       "    .dataframe tbody tr th {\n",
       "        vertical-align: top;\n",
       "    }\n",
       "\n",
       "    .dataframe thead th {\n",
       "        text-align: right;\n",
       "    }\n",
       "</style>\n",
       "<table border=\"1\" class=\"dataframe\">\n",
       "  <thead>\n",
       "    <tr style=\"text-align: right;\">\n",
       "      <th></th>\n",
       "      <th>original_title</th>\n",
       "      <th>revenue</th>\n",
       "      <th>budget</th>\n",
       "      <th>genres</th>\n",
       "      <th>release_year</th>\n",
       "      <th>profit</th>\n",
       "    </tr>\n",
       "  </thead>\n",
       "  <tbody>\n",
       "    <tr>\n",
       "      <th>3374</th>\n",
       "      <td>Harry Potter and the Deathly Hallows: Part 2</td>\n",
       "      <td>1327817822</td>\n",
       "      <td>125000000</td>\n",
       "      <td>Adventure|Family|Fantasy</td>\n",
       "      <td>2011</td>\n",
       "      <td>1202817822</td>\n",
       "    </tr>\n",
       "    <tr>\n",
       "      <th>4361</th>\n",
       "      <td>The Avengers</td>\n",
       "      <td>1519557910</td>\n",
       "      <td>220000000</td>\n",
       "      <td>Science Fiction|Action|Adventure</td>\n",
       "      <td>2012</td>\n",
       "      <td>1299557910</td>\n",
       "    </tr>\n",
       "    <tr>\n",
       "      <th>5422</th>\n",
       "      <td>Frozen</td>\n",
       "      <td>1274219009</td>\n",
       "      <td>150000000</td>\n",
       "      <td>Animation|Adventure|Family</td>\n",
       "      <td>2013</td>\n",
       "      <td>1124219009</td>\n",
       "    </tr>\n",
       "    <tr>\n",
       "      <th>634</th>\n",
       "      <td>The Hobbit: The Battle of the Five Armies</td>\n",
       "      <td>955119788</td>\n",
       "      <td>250000000</td>\n",
       "      <td>Adventure|Fantasy</td>\n",
       "      <td>2014</td>\n",
       "      <td>705119788</td>\n",
       "    </tr>\n",
       "    <tr>\n",
       "      <th>3</th>\n",
       "      <td>Star Wars: The Force Awakens</td>\n",
       "      <td>2068178225</td>\n",
       "      <td>200000000</td>\n",
       "      <td>Action|Adventure|Science Fiction|Fantasy</td>\n",
       "      <td>2015</td>\n",
       "      <td>1868178225</td>\n",
       "    </tr>\n",
       "  </tbody>\n",
       "</table>\n",
       "</div>"
      ],
      "text/plain": [
       "                                    original_title     revenue     budget  \\\n",
       "3374  Harry Potter and the Deathly Hallows: Part 2  1327817822  125000000   \n",
       "4361                                  The Avengers  1519557910  220000000   \n",
       "5422                                        Frozen  1274219009  150000000   \n",
       "634      The Hobbit: The Battle of the Five Armies   955119788  250000000   \n",
       "3                     Star Wars: The Force Awakens  2068178225  200000000   \n",
       "\n",
       "                                        genres  release_year      profit  \n",
       "3374                  Adventure|Family|Fantasy          2011  1202817822  \n",
       "4361          Science Fiction|Action|Adventure          2012  1299557910  \n",
       "5422                Animation|Adventure|Family          2013  1124219009  \n",
       "634                          Adventure|Fantasy          2014   705119788  \n",
       "3     Action|Adventure|Science Fiction|Fantasy          2015  1868178225  "
      ]
     },
     "execution_count": 34,
     "metadata": {},
     "output_type": "execute_result"
    }
   ],
   "source": [
    "df_q2_result = filter_df_each_year(df_q2_years, [1202817822, 1299557910, 1124219009,705119788,1868178225])\n",
    "df_q2_result.head()"
   ]
  },
  {
   "cell_type": "markdown",
   "metadata": {},
   "source": [
    "<u>Step 9:</u> Plotting the **df_final** dataset to the **bar** chart. "
   ]
  },
  {
   "cell_type": "code",
   "execution_count": 39,
   "metadata": {},
   "outputs": [
    {
     "data": {
      "image/png": "[encoded data removed]",
      "text/plain": [
       "<Figure size 500x500 with 1 Axes>"
      ]
     },
     "metadata": {},
     "output_type": "display_data"
    }
   ],
   "source": [
    "df_q2_result.plot(figsize =(5, 5),title = 'Insight for movie trending', ylabel = 'The highest profit of movie types 2011 - 2015', xlabel = 'Genres',x= 'genres', y = 'profit', kind = 'bar', mark_right = 'genres', colormap='viridis');\n"
   ]
  },
  {
   "cell_type": "markdown",
   "metadata": {},
   "source": [
    "# <span style=\"color: blue;\">IV. Conclusions </span>"
   ]
  },
  {
   "cell_type": "markdown",
   "metadata": {},
   "source": [
    "## <span style=\"color: lightblue;\">Question 1 (Conclusion): What are the top 10 most popular movies since 2000? </span>"
   ]
  },
  {
   "cell_type": "code",
   "execution_count": 36,
   "metadata": {},
   "outputs": [
    {
     "data": {
      "image/png": "[encoded data removed]",
      "text/plain": [
       "<Figure size 1200x600 with 1 Axes>"
      ]
     },
     "metadata": {},
     "output_type": "display_data"
    }
   ],
   "source": [
    "df_question1_answer.plot(x = 'original_title', y = 'popularity',figsize = (12,6), xlabel = 'Popularity in millions',ylabel = 'Name of movies', kind='barh');"
   ]
  },
  {
   "cell_type": "markdown",
   "metadata": {},
   "source": [
    "* <u>**(Barh) Chart description:**</u>\n",
    "   * **X-axis**: represents the **movie's popularity** (amount in millions).\\\n",
    "   *<span style=\"color: orange;\">Ex: The Jurassic World has more than 30M popularity while the Hobbit has less than 15M popularity).</span>*\n",
    "   * **Y-axis**: represents the **title** of each movie.\n"
   ]
  },
  {
   "cell_type": "markdown",
   "metadata": {},
   "source": [
    "\n",
    "* <u>**Purpose:**</u> The answer for this question will help to provide recommended movies to audiences based on the top 10 movies' popularity from (2000 -2015):\n",
    "     1. Jurassic World.\n",
    "     2. Mad Max: Fury Road.\n",
    "     3. Interstellar.\n",
    "     4. Guardians of the Galaxy.\n",
    "     5. Insurgent.\n",
    "     6. Captain America: The Winter Soldier.\n",
    "     7. John Wick.\n",
    "     8. Star Wars: The Force Awakens.\n",
    "     9. The Hunger Games: Mockingjay.\n",
    "     10. The Hobbit: The Battle of the Five Armies. \n",
    "> Note: The movies list is generated regarding from the **TMDB Movie Dataset** \n",
    "<br>\n",
    "* <u>**How to find the answer:**</u> The answer is the result from extracting the insight from the **original_title**, **popularity**, and **release_date** information within the provided csv file. By using the **pandas query** function to set the values within 2000 - 2015 **(release_year)**, and the **descending sort** function to get the top 10 movies **(original_title)** with the highest **(popularity)** in that range limit.\n",
    "\n",
    "\n",
    "\n",
    "\n",
    "\n",
    "   <span style=\"color: orange;\">(The more description is explaned in the exploratory section above as step-by-step)<span>.\n",
    "<br>\n",
    "    \n",
    "* <u>**Limitation**</u>: The recommended movies list is not an up-to-date movie recommended because the provided information is updated only until the year 2015."
   ]
  },
  {
   "cell_type": "markdown",
   "metadata": {},
   "source": [
    "---\n",
    "<br>"
   ]
  },
  {
   "cell_type": "markdown",
   "metadata": {},
   "source": [
    "## <span style=\"color: lightblue;\"> Question 2 (Conclusion): Which genres of movies are typically the most commercially successful in 2011, 2012, 2013, 2014, and 2015? </span>"
   ]
  },
  {
   "cell_type": "code",
   "execution_count": 37,
   "metadata": {},
   "outputs": [
    {
     "data": {
      "image/png": "[encoded data removed]",
      "text/plain": [
       "<Figure size 500x500 with 1 Axes>"
      ]
     },
     "metadata": {},
     "output_type": "display_data"
    }
   ],
   "source": [
    "df_q2_result.plot(figsize =(5, 5),title = 'Insight for movie trending', ylabel = 'The highest profit of movie types 2011 - 2015', xlabel = 'Genres',x= 'genres', y = 'profit', kind = 'bar', mark_right = 'genres', colormap='viridis');\n"
   ]
  },
  {
   "cell_type": "markdown",
   "metadata": {},
   "source": [
    "* <u>**(Bar) Chart description:**</u>\n",
    "   * **X-axis**: Represents the **genres**.\\\n",
    "   * **Y-axis**: The highest profit movie from (2011 - 2015). (Billions of Dollar)."
   ]
  },
  {
   "cell_type": "markdown",
   "metadata": {},
   "source": [
    "\n",
    "* **Purpose:** The answer will help to explore the insight of the trending genres that contributed to making the movie earn the highest profit in each year from 2011 to 2015.\\\n",
    "<u>**The result shows five different genre combinations for each successful movie each year:**</u>\n",
    " * 2011: Harry Potter and the Deathly Hallows: Part2 - **Adventure**|Family|Fantasy.\n",
    " * 2012: The Avengers                                - Science Fiction|Action|**Adventure**.\n",
    " * 2013: Frozen                                      - Animation|**Adventure**|Family.\n",
    " * 2014: The Hobbit: The battle of the Five Armies.  - **Adventure**|Fantasy.\n",
    " * 2015: Star Wars: The Force Awakens                - Action|**Adventure**|Science Fiction|Fantasy.\\\n",
    "<br>\n",
    "<br>\n",
    "* The result shows that **\"Adventure\"** is one similarity in all combination genres.\" It shows that whatever type of movie includes \" Adventure\" will primarily contribute to its commercial success.\n",
    "> Note: The insight is generated regarding from the TMDB Movie Dataset\n",
    "* **How to find the answer:** The answer is the result from extracting the insight from the **original_title**, **revenue**, **budget**, and **release_year** information within the provided csv file. By using the **query** function to sort data by years to get only the data from (2011- 2015) **(release_year)**, then creating a new **pofit** column from subtracting from **revenue** by **budget** for each movie, and use the **groupby and max()** function to find the highest movie based on the profit for each year, then **plot** all of them into a bar chart to see the insight for the trend of **genres**. \n",
    "\n",
    "*(The more description is explaned in the exploratory section above as step-by-step)*. \n",
    "<br>\n",
    "<br>\n",
    "* **Limitation**: The trending of genres is not currently recommended because the provided information is updated only until 2015."
   ]
  },
  {
   "cell_type": "code",
   "execution_count": null,
   "metadata": {
    "tags": []
   },
   "outputs": [
    {
     "name": "stdout",
     "output_type": "stream",
     "text": [
      "[NbConvertApp] Converting notebook Investigate_a_Dataset.ipynb to html\r\n"
     ]
    }
   ],
   "source": [
    "# Running this cell will execute a bash command to convert this notebook to an .html file\n",
    "!python -m nbconvert --to html Investigate_a_Dataset.ipynb"
   ]
  },
  {
   "cell_type": "code",
   "execution_count": null,
   "metadata": {},
   "outputs": [],
   "source": []
  }
 ],
 "metadata": {
  "kernelspec": {
   "display_name": "Python 3 (ipykernel)",
   "language": "python",
   "name": "python3"
  },
  "language_info": {
   "codemirror_mode": {
    "name": "ipython",
    "version": 3
   },
   "file_extension": ".py",
   "mimetype": "text/x-python",
   "name": "python",
   "nbconvert_exporter": "python",
   "pygments_lexer": "ipython3",
   "version": "3.10.13"
  }
 },
 "nbformat": 4,
 "nbformat_minor": 4
}
