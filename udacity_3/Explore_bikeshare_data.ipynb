{
 "cells": [
  {
   "cell_type": "markdown",
   "metadata": {},
   "source": [
    "# <span style=\"color:Blue;\">Explore Bike Share Data </span>"
   ]
  },
  {
   "cell_type": "code",
   "execution_count": 40,
   "metadata": {},
   "outputs": [],
   "source": [
    "# Uses the ggplot2 to plots the charts\n",
    "library(ggplot2)"
   ]
  },
  {
   "cell_type": "code",
   "execution_count": 41,
   "metadata": {},
   "outputs": [],
   "source": [
    "# Read the .csv files and assigns to each data frame.\n",
    "ny = read.csv('new_york_city.csv')\n",
    "wash = read.csv('washington.csv')\n",
    "chi = read.csv('chicago.csv')"
   ]
  },
  {
   "cell_type": "code",
   "execution_count": 42,
   "metadata": {},
   "outputs": [
    {
     "data": {
      "text/html": [
       "<table>\n",
       "<thead><tr><th scope=col>X</th><th scope=col>Start.Time</th><th scope=col>End.Time</th><th scope=col>Trip.Duration</th><th scope=col>Start.Station</th><th scope=col>End.Station</th><th scope=col>User.Type</th><th scope=col>Gender</th><th scope=col>Birth.Year</th></tr></thead>\n",
       "<tbody>\n",
       "\t<tr><td>5688089                                       </td><td>2017-06-11 14:55:05                           </td><td>2017-06-11 15:08:21                           </td><td> 795                                          </td><td>Suffolk St &amp; Stanton St                   </td><td>W Broadway &amp; Spring St                    </td><td>Subscriber                                    </td><td><span style=white-space:pre-wrap>Male  </span></td><td>1998                                          </td></tr>\n",
       "\t<tr><td>4096714                                                           </td><td>2017-05-11 15:30:11                                               </td><td>2017-05-11 15:41:43                                               </td><td> 692                                                              </td><td>Lexington Ave &amp; E 63 St                                       </td><td><span style=white-space:pre-wrap>1 Ave &amp; E 78 St       </span></td><td>Subscriber                                                        </td><td><span style=white-space:pre-wrap>Male  </span>                    </td><td>1981                                                              </td></tr>\n",
       "\t<tr><td>2173887                                                            </td><td>2017-03-29 13:26:26                                                </td><td>2017-03-29 13:48:31                                                </td><td>1325                                                               </td><td><span style=white-space:pre-wrap>1 Pl &amp; Clinton St      </span></td><td><span style=white-space:pre-wrap>Henry St &amp; Degraw St  </span> </td><td>Subscriber                                                         </td><td><span style=white-space:pre-wrap>Male  </span>                     </td><td>1987                                                               </td></tr>\n",
       "\t<tr><td>3945638                                                            </td><td>2017-05-08 19:47:18                                                </td><td>2017-05-08 19:59:01                                                </td><td> 703                                                               </td><td><span style=white-space:pre-wrap>Barrow St &amp; Hudson St  </span></td><td><span style=white-space:pre-wrap>W 20 St &amp; 8 Ave       </span> </td><td>Subscriber                                                         </td><td>Female                                                             </td><td>1986                                                               </td></tr>\n",
       "\t<tr><td>6208972                                                            </td><td>2017-06-21 07:49:16                                                </td><td>2017-06-21 07:54:46                                                </td><td> 329                                                               </td><td><span style=white-space:pre-wrap>1 Ave &amp; E 44 St        </span></td><td><span style=white-space:pre-wrap>E 53 St &amp; 3 Ave       </span> </td><td>Subscriber                                                         </td><td><span style=white-space:pre-wrap>Male  </span>                     </td><td>1992                                                               </td></tr>\n",
       "\t<tr><td>1285652                                                            </td><td>2017-02-22 18:55:24                                                </td><td>2017-02-22 19:12:03                                                </td><td> 998                                                               </td><td><span style=white-space:pre-wrap>State St &amp; Smith St    </span></td><td><span style=white-space:pre-wrap>Bond St &amp; Fulton St   </span> </td><td>Subscriber                                                         </td><td><span style=white-space:pre-wrap>Male  </span>                     </td><td>1986                                                               </td></tr>\n",
       "</tbody>\n",
       "</table>\n"
      ],
      "text/latex": [
       "\\begin{tabular}{r|lllllllll}\n",
       " X & Start.Time & End.Time & Trip.Duration & Start.Station & End.Station & User.Type & Gender & Birth.Year\\\\\n",
       "\\hline\n",
       "\t 5688089                   & 2017-06-11 14:55:05       & 2017-06-11 15:08:21       &  795                      & Suffolk St \\& Stanton St & W Broadway \\& Spring St  & Subscriber                & Male                      & 1998                     \\\\\n",
       "\t 4096714                   & 2017-05-11 15:30:11       & 2017-05-11 15:41:43       &  692                      & Lexington Ave \\& E 63 St & 1 Ave \\& E 78 St         & Subscriber                & Male                      & 1981                     \\\\\n",
       "\t 2173887                   & 2017-03-29 13:26:26       & 2017-03-29 13:48:31       & 1325                      & 1 Pl \\& Clinton St       & Henry St \\& Degraw St    & Subscriber                & Male                      & 1987                     \\\\\n",
       "\t 3945638                   & 2017-05-08 19:47:18       & 2017-05-08 19:59:01       &  703                      & Barrow St \\& Hudson St   & W 20 St \\& 8 Ave         & Subscriber                & Female                    & 1986                     \\\\\n",
       "\t 6208972                   & 2017-06-21 07:49:16       & 2017-06-21 07:54:46       &  329                      & 1 Ave \\& E 44 St         & E 53 St \\& 3 Ave         & Subscriber                & Male                      & 1992                     \\\\\n",
       "\t 1285652                   & 2017-02-22 18:55:24       & 2017-02-22 19:12:03       &  998                      & State St \\& Smith St     & Bond St \\& Fulton St     & Subscriber                & Male                      & 1986                     \\\\\n",
       "\\end{tabular}\n"
      ],
      "text/markdown": [
       "\n",
       "| X | Start.Time | End.Time | Trip.Duration | Start.Station | End.Station | User.Type | Gender | Birth.Year |\n",
       "|---|---|---|---|---|---|---|---|---|\n",
       "| 5688089                 | 2017-06-11 14:55:05     | 2017-06-11 15:08:21     |  795                    | Suffolk St & Stanton St | W Broadway & Spring St  | Subscriber              | Male                    | 1998                    |\n",
       "| 4096714                 | 2017-05-11 15:30:11     | 2017-05-11 15:41:43     |  692                    | Lexington Ave & E 63 St | 1 Ave & E 78 St         | Subscriber              | Male                    | 1981                    |\n",
       "| 2173887                 | 2017-03-29 13:26:26     | 2017-03-29 13:48:31     | 1325                    | 1 Pl & Clinton St       | Henry St & Degraw St    | Subscriber              | Male                    | 1987                    |\n",
       "| 3945638                 | 2017-05-08 19:47:18     | 2017-05-08 19:59:01     |  703                    | Barrow St & Hudson St   | W 20 St & 8 Ave         | Subscriber              | Female                  | 1986                    |\n",
       "| 6208972                 | 2017-06-21 07:49:16     | 2017-06-21 07:54:46     |  329                    | 1 Ave & E 44 St         | E 53 St & 3 Ave         | Subscriber              | Male                    | 1992                    |\n",
       "| 1285652                 | 2017-02-22 18:55:24     | 2017-02-22 19:12:03     |  998                    | State St & Smith St     | Bond St & Fulton St     | Subscriber              | Male                    | 1986                    |\n",
       "\n"
      ],
      "text/plain": [
       "  X       Start.Time          End.Time            Trip.Duration\n",
       "1 5688089 2017-06-11 14:55:05 2017-06-11 15:08:21  795         \n",
       "2 4096714 2017-05-11 15:30:11 2017-05-11 15:41:43  692         \n",
       "3 2173887 2017-03-29 13:26:26 2017-03-29 13:48:31 1325         \n",
       "4 3945638 2017-05-08 19:47:18 2017-05-08 19:59:01  703         \n",
       "5 6208972 2017-06-21 07:49:16 2017-06-21 07:54:46  329         \n",
       "6 1285652 2017-02-22 18:55:24 2017-02-22 19:12:03  998         \n",
       "  Start.Station           End.Station            User.Type  Gender Birth.Year\n",
       "1 Suffolk St & Stanton St W Broadway & Spring St Subscriber Male   1998      \n",
       "2 Lexington Ave & E 63 St 1 Ave & E 78 St        Subscriber Male   1981      \n",
       "3 1 Pl & Clinton St       Henry St & Degraw St   Subscriber Male   1987      \n",
       "4 Barrow St & Hudson St   W 20 St & 8 Ave        Subscriber Female 1986      \n",
       "5 1 Ave & E 44 St         E 53 St & 3 Ave        Subscriber Male   1992      \n",
       "6 State St & Smith St     Bond St & Fulton St    Subscriber Male   1986      "
      ]
     },
     "metadata": {},
     "output_type": "display_data"
    }
   ],
   "source": [
    "# Print out the data frame for New York City to check\n",
    "head(ny)"
   ]
  },
  {
   "cell_type": "code",
   "execution_count": 43,
   "metadata": {},
   "outputs": [
    {
     "data": {
      "text/html": [
       "<table>\n",
       "<thead><tr><th scope=col>X</th><th scope=col>Start.Time</th><th scope=col>End.Time</th><th scope=col>Trip.Duration</th><th scope=col>Start.Station</th><th scope=col>End.Station</th><th scope=col>User.Type</th></tr></thead>\n",
       "<tbody>\n",
       "\t<tr><td>1621326                                                                                        </td><td>2017-06-21 08:36:34                                                                            </td><td>2017-06-21 08:44:43                                                                            </td><td> 489.066                                                                                       </td><td><span style=white-space:pre-wrap>14th &amp; Belmont St NW                       </span>        </td><td><span style=white-space:pre-wrap>15th &amp; K St NW                                     </span></td><td>Subscriber                                                                                     </td></tr>\n",
       "\t<tr><td> 482740                                                                                        </td><td>2017-03-11 10:40:00                                                                            </td><td>2017-03-11 10:46:00                                                                            </td><td> 402.549                                                                                       </td><td><span style=white-space:pre-wrap>Yuma St &amp; Tenley Circle NW                 </span>        </td><td><span style=white-space:pre-wrap>Connecticut Ave &amp; Yuma St NW                       </span></td><td>Subscriber                                                                                     </td></tr>\n",
       "\t<tr><td>1330037                                                                                        </td><td>2017-05-30 01:02:59                                                                            </td><td>2017-05-30 01:13:37                                                                            </td><td> 637.251                                                                                       </td><td><span style=white-space:pre-wrap>17th St &amp; Massachusetts Ave NW             </span>        </td><td><span style=white-space:pre-wrap>5th &amp; K St NW                                      </span></td><td>Subscriber                                                                                     </td></tr>\n",
       "\t<tr><td> 665458                                                                                        </td><td>2017-04-02 07:48:35                                                                            </td><td>2017-04-02 08:19:03                                                                            </td><td>1827.341                                                                                       </td><td><span style=white-space:pre-wrap>Constitution Ave &amp; 2nd St NW/DOL           </span>        </td><td><span style=white-space:pre-wrap>M St &amp; Pennsylvania Ave NW                         </span></td><td><span style=white-space:pre-wrap>Customer  </span>                                             </td></tr>\n",
       "\t<tr><td>1481135                                                                                        </td><td>2017-06-10 08:36:28                                                                            </td><td>2017-06-10 09:02:17                                                                            </td><td>1549.427                                                                                       </td><td>Henry Bacon Dr &amp; Lincoln Memorial Circle NW                                                </td><td><span style=white-space:pre-wrap>Maine Ave &amp; 7th St SW                              </span></td><td>Subscriber                                                                                     </td></tr>\n",
       "\t<tr><td>1148202                                                                                </td><td>2017-05-14 07:18:18                                                                    </td><td>2017-05-14 07:24:56                                                                    </td><td> 398.000                                                                               </td><td><span style=white-space:pre-wrap>1st &amp; K St SE                              </span></td><td>Eastern Market Metro / Pennsylvania Ave &amp; 7th St SE                                </td><td>Subscriber                                                                             </td></tr>\n",
       "</tbody>\n",
       "</table>\n"
      ],
      "text/latex": [
       "\\begin{tabular}{r|lllllll}\n",
       " X & Start.Time & End.Time & Trip.Duration & Start.Station & End.Station & User.Type\\\\\n",
       "\\hline\n",
       "\t 1621326                                               & 2017-06-21 08:36:34                                   & 2017-06-21 08:44:43                                   &  489.066                                              & 14th \\& Belmont St NW                                & 15th \\& K St NW                                      & Subscriber                                           \\\\\n",
       "\t  482740                                               & 2017-03-11 10:40:00                                   & 2017-03-11 10:46:00                                   &  402.549                                              & Yuma St \\& Tenley Circle NW                          & Connecticut Ave \\& Yuma St NW                        & Subscriber                                           \\\\\n",
       "\t 1330037                                               & 2017-05-30 01:02:59                                   & 2017-05-30 01:13:37                                   &  637.251                                              & 17th St \\& Massachusetts Ave NW                      & 5th \\& K St NW                                       & Subscriber                                           \\\\\n",
       "\t  665458                                               & 2017-04-02 07:48:35                                   & 2017-04-02 08:19:03                                   & 1827.341                                              & Constitution Ave \\& 2nd St NW/DOL                    & M St \\& Pennsylvania Ave NW                          & Customer                                             \\\\\n",
       "\t 1481135                                               & 2017-06-10 08:36:28                                   & 2017-06-10 09:02:17                                   & 1549.427                                              & Henry Bacon Dr \\& Lincoln Memorial Circle NW         & Maine Ave \\& 7th St SW                               & Subscriber                                           \\\\\n",
       "\t 1148202                                               & 2017-05-14 07:18:18                                   & 2017-05-14 07:24:56                                   &  398.000                                              & 1st \\& K St SE                                       & Eastern Market Metro / Pennsylvania Ave \\& 7th St SE & Subscriber                                           \\\\\n",
       "\\end{tabular}\n"
      ],
      "text/markdown": [
       "\n",
       "| X | Start.Time | End.Time | Trip.Duration | Start.Station | End.Station | User.Type |\n",
       "|---|---|---|---|---|---|---|\n",
       "| 1621326                                             | 2017-06-21 08:36:34                                 | 2017-06-21 08:44:43                                 |  489.066                                            | 14th & Belmont St NW                                | 15th & K St NW                                      | Subscriber                                          |\n",
       "|  482740                                             | 2017-03-11 10:40:00                                 | 2017-03-11 10:46:00                                 |  402.549                                            | Yuma St & Tenley Circle NW                          | Connecticut Ave & Yuma St NW                        | Subscriber                                          |\n",
       "| 1330037                                             | 2017-05-30 01:02:59                                 | 2017-05-30 01:13:37                                 |  637.251                                            | 17th St & Massachusetts Ave NW                      | 5th & K St NW                                       | Subscriber                                          |\n",
       "|  665458                                             | 2017-04-02 07:48:35                                 | 2017-04-02 08:19:03                                 | 1827.341                                            | Constitution Ave & 2nd St NW/DOL                    | M St & Pennsylvania Ave NW                          | Customer                                            |\n",
       "| 1481135                                             | 2017-06-10 08:36:28                                 | 2017-06-10 09:02:17                                 | 1549.427                                            | Henry Bacon Dr & Lincoln Memorial Circle NW         | Maine Ave & 7th St SW                               | Subscriber                                          |\n",
       "| 1148202                                             | 2017-05-14 07:18:18                                 | 2017-05-14 07:24:56                                 |  398.000                                            | 1st & K St SE                                       | Eastern Market Metro / Pennsylvania Ave & 7th St SE | Subscriber                                          |\n",
       "\n"
      ],
      "text/plain": [
       "  X       Start.Time          End.Time            Trip.Duration\n",
       "1 1621326 2017-06-21 08:36:34 2017-06-21 08:44:43  489.066     \n",
       "2  482740 2017-03-11 10:40:00 2017-03-11 10:46:00  402.549     \n",
       "3 1330037 2017-05-30 01:02:59 2017-05-30 01:13:37  637.251     \n",
       "4  665458 2017-04-02 07:48:35 2017-04-02 08:19:03 1827.341     \n",
       "5 1481135 2017-06-10 08:36:28 2017-06-10 09:02:17 1549.427     \n",
       "6 1148202 2017-05-14 07:18:18 2017-05-14 07:24:56  398.000     \n",
       "  Start.Station                              \n",
       "1 14th & Belmont St NW                       \n",
       "2 Yuma St & Tenley Circle NW                 \n",
       "3 17th St & Massachusetts Ave NW             \n",
       "4 Constitution Ave & 2nd St NW/DOL           \n",
       "5 Henry Bacon Dr & Lincoln Memorial Circle NW\n",
       "6 1st & K St SE                              \n",
       "  End.Station                                         User.Type \n",
       "1 15th & K St NW                                      Subscriber\n",
       "2 Connecticut Ave & Yuma St NW                        Subscriber\n",
       "3 5th & K St NW                                       Subscriber\n",
       "4 M St & Pennsylvania Ave NW                          Customer  \n",
       "5 Maine Ave & 7th St SW                               Subscriber\n",
       "6 Eastern Market Metro / Pennsylvania Ave & 7th St SE Subscriber"
      ]
     },
     "metadata": {},
     "output_type": "display_data"
    }
   ],
   "source": [
    "# Print out the dataframe for Washington City to check\n",
    "head(wash)"
   ]
  },
  {
   "cell_type": "code",
   "execution_count": 44,
   "metadata": {},
   "outputs": [
    {
     "data": {
      "text/html": [
       "<table>\n",
       "<thead><tr><th scope=col>X</th><th scope=col>Start.Time</th><th scope=col>End.Time</th><th scope=col>Trip.Duration</th><th scope=col>Start.Station</th><th scope=col>End.Station</th><th scope=col>User.Type</th><th scope=col>Gender</th><th scope=col>Birth.Year</th></tr></thead>\n",
       "<tbody>\n",
       "\t<tr><td>1423854                                                                  </td><td>2017-06-23 15:09:32                                                      </td><td>2017-06-23 15:14:53                                                      </td><td> 321                                                                     </td><td><span style=white-space:pre-wrap>Wood St &amp; Hubbard St         </span></td><td><span style=white-space:pre-wrap>Damen Ave &amp; Chicago Ave     </span> </td><td>Subscriber                                                               </td><td><span style=white-space:pre-wrap>Male  </span>                           </td><td>1992                                                                     </td></tr>\n",
       "\t<tr><td> 955915                                                              </td><td>2017-05-25 18:19:03                                                  </td><td>2017-05-25 18:45:53                                                  </td><td>1610                                                                 </td><td><span style=white-space:pre-wrap>Theater on the Lake          </span></td><td>Sheffield Ave &amp; Waveland Ave                                     </td><td>Subscriber                                                           </td><td>Female                                                               </td><td>1992                                                                 </td></tr>\n",
       "\t<tr><td><span style=white-space:pre-wrap>   9031</span>                          </td><td>2017-01-04 08:27:49                                                      </td><td>2017-01-04 08:34:45                                                      </td><td> 416                                                                     </td><td><span style=white-space:pre-wrap>May St &amp; Taylor St           </span></td><td><span style=white-space:pre-wrap>Wood St &amp; Taylor St         </span> </td><td>Subscriber                                                               </td><td><span style=white-space:pre-wrap>Male  </span>                           </td><td>1981                                                                     </td></tr>\n",
       "\t<tr><td> 304487                                       </td><td>2017-03-06 13:49:38                           </td><td>2017-03-06 13:55:28                           </td><td> 350                                          </td><td>Christiana Ave &amp; Lawrence Ave             </td><td>St. Louis Ave &amp; Balmoral Ave              </td><td>Subscriber                                    </td><td><span style=white-space:pre-wrap>Male  </span></td><td>1986                                          </td></tr>\n",
       "\t<tr><td><span style=white-space:pre-wrap>  45207</span>                          </td><td>2017-01-17 14:53:07                                                      </td><td>2017-01-17 15:02:01                                                      </td><td> 534                                                                     </td><td><span style=white-space:pre-wrap>Clark St &amp; Randolph St       </span></td><td>Desplaines St &amp; Jackson Blvd                                         </td><td>Subscriber                                                               </td><td><span style=white-space:pre-wrap>Male  </span>                           </td><td>1975                                                                     </td></tr>\n",
       "\t<tr><td>1473887                                                                 </td><td>2017-06-26 09:01:20                                                     </td><td>2017-06-26 09:11:06                                                     </td><td> 586                                                                    </td><td>Clinton St &amp; Washington Blvd                                        </td><td><span style=white-space:pre-wrap>Canal St &amp; Taylor St        </span></td><td>Subscriber                                                              </td><td><span style=white-space:pre-wrap>Male  </span>                          </td><td>1990                                                                    </td></tr>\n",
       "</tbody>\n",
       "</table>\n"
      ],
      "text/latex": [
       "\\begin{tabular}{r|lllllllll}\n",
       " X & Start.Time & End.Time & Trip.Duration & Start.Station & End.Station & User.Type & Gender & Birth.Year\\\\\n",
       "\\hline\n",
       "\t 1423854                         & 2017-06-23 15:09:32             & 2017-06-23 15:14:53             &  321                            & Wood St \\& Hubbard St          & Damen Ave \\& Chicago Ave       & Subscriber                      & Male                            & 1992                           \\\\\n",
       "\t  955915                        & 2017-05-25 18:19:03            & 2017-05-25 18:45:53            & 1610                           & Theater on the Lake            & Sheffield Ave \\& Waveland Ave & Subscriber                     & Female                         & 1992                          \\\\\n",
       "\t    9031                         & 2017-01-04 08:27:49             & 2017-01-04 08:34:45             &  416                            & May St \\& Taylor St            & Wood St \\& Taylor St           & Subscriber                      & Male                            & 1981                           \\\\\n",
       "\t  304487                         & 2017-03-06 13:49:38             & 2017-03-06 13:55:28             &  350                            & Christiana Ave \\& Lawrence Ave & St. Louis Ave \\& Balmoral Ave  & Subscriber                      & Male                            & 1986                           \\\\\n",
       "\t   45207                         & 2017-01-17 14:53:07             & 2017-01-17 15:02:01             &  534                            & Clark St \\& Randolph St        & Desplaines St \\& Jackson Blvd  & Subscriber                      & Male                            & 1975                           \\\\\n",
       "\t 1473887                         & 2017-06-26 09:01:20             & 2017-06-26 09:11:06             &  586                            & Clinton St \\& Washington Blvd  & Canal St \\& Taylor St          & Subscriber                      & Male                            & 1990                           \\\\\n",
       "\\end{tabular}\n"
      ],
      "text/markdown": [
       "\n",
       "| X | Start.Time | End.Time | Trip.Duration | Start.Station | End.Station | User.Type | Gender | Birth.Year |\n",
       "|---|---|---|---|---|---|---|---|---|\n",
       "| 1423854                       | 2017-06-23 15:09:32           | 2017-06-23 15:14:53           |  321                          | Wood St & Hubbard St          | Damen Ave & Chicago Ave       | Subscriber                    | Male                          | 1992                          |\n",
       "|  955915                       | 2017-05-25 18:19:03           | 2017-05-25 18:45:53           | 1610                          | Theater on the Lake           | Sheffield Ave & Waveland Ave  | Subscriber                    | Female                        | 1992                          |\n",
       "|    9031                       | 2017-01-04 08:27:49           | 2017-01-04 08:34:45           |  416                          | May St & Taylor St            | Wood St & Taylor St           | Subscriber                    | Male                          | 1981                          |\n",
       "|  304487                       | 2017-03-06 13:49:38           | 2017-03-06 13:55:28           |  350                          | Christiana Ave & Lawrence Ave | St. Louis Ave & Balmoral Ave  | Subscriber                    | Male                          | 1986                          |\n",
       "|   45207                       | 2017-01-17 14:53:07           | 2017-01-17 15:02:01           |  534                          | Clark St & Randolph St        | Desplaines St & Jackson Blvd  | Subscriber                    | Male                          | 1975                          |\n",
       "| 1473887                       | 2017-06-26 09:01:20           | 2017-06-26 09:11:06           |  586                          | Clinton St & Washington Blvd  | Canal St & Taylor St          | Subscriber                    | Male                          | 1990                          |\n",
       "\n"
      ],
      "text/plain": [
       "  X       Start.Time          End.Time            Trip.Duration\n",
       "1 1423854 2017-06-23 15:09:32 2017-06-23 15:14:53  321         \n",
       "2  955915 2017-05-25 18:19:03 2017-05-25 18:45:53 1610         \n",
       "3    9031 2017-01-04 08:27:49 2017-01-04 08:34:45  416         \n",
       "4  304487 2017-03-06 13:49:38 2017-03-06 13:55:28  350         \n",
       "5   45207 2017-01-17 14:53:07 2017-01-17 15:02:01  534         \n",
       "6 1473887 2017-06-26 09:01:20 2017-06-26 09:11:06  586         \n",
       "  Start.Station                 End.Station                  User.Type  Gender\n",
       "1 Wood St & Hubbard St          Damen Ave & Chicago Ave      Subscriber Male  \n",
       "2 Theater on the Lake           Sheffield Ave & Waveland Ave Subscriber Female\n",
       "3 May St & Taylor St            Wood St & Taylor St          Subscriber Male  \n",
       "4 Christiana Ave & Lawrence Ave St. Louis Ave & Balmoral Ave Subscriber Male  \n",
       "5 Clark St & Randolph St        Desplaines St & Jackson Blvd Subscriber Male  \n",
       "6 Clinton St & Washington Blvd  Canal St & Taylor St         Subscriber Male  \n",
       "  Birth.Year\n",
       "1 1992      \n",
       "2 1992      \n",
       "3 1981      \n",
       "4 1986      \n",
       "5 1975      \n",
       "6 1990      "
      ]
     },
     "metadata": {},
     "output_type": "display_data"
    }
   ],
   "source": [
    "# Print out the dataframe for Chicago City to check\n",
    "head(chi)"
   ]
  },
  {
   "cell_type": "markdown",
   "metadata": {},
   "source": [
    "# <span style=\"color:lightblue;\">Question 1 </span>\n"
   ]
  },
  {
   "cell_type": "markdown",
   "metadata": {},
   "source": [
    "### What are the common days and hours during a week when people choose to use shared bikes to commute? And what the potential purpose of the use? ( in Washington City)."
   ]
  },
  {
   "cell_type": "markdown",
   "metadata": {},
   "source": [
    "**Using the bike-share data from Washington to gain the insight:**\n",
    "- Step 1: Observe and convert the \"Start.Time\" in Washington data frame to DateTime format.\n",
    "- Step 2: Extract the day of the week values from the \"Start.Time\" and add it to the new column name \"DayOfWeek\".\n",
    "- Step 3: Re-order the values in the \"DayOfWeek\" column from Monday - Sunday.\n",
    "- Step 4: Use a barplot and lineplot to demonstrate the difference in each day of the week.\n",
    "- Step 5: Extract the hour values from the \"Start.Time\" and add it to the new column name \"Hour.\"\n",
    "- Step 6: Use the histogram and line to plot the Hour column to see the most common hours people used the bike.\n",
    "- Step 7: (Conclusion from the result charts) 📊 "
   ]
  },
  {
   "cell_type": "code",
   "execution_count": 45,
   "metadata": {},
   "outputs": [],
   "source": [
    "# Step 1: (1.1)\n",
    "# Creates a copy \"wa\" from the original data set \"wash\".\n",
    "\n",
    "wa <- wash"
   ]
  },
  {
   "cell_type": "code",
   "execution_count": 46,
   "metadata": {},
   "outputs": [
    {
     "data": {
      "text/html": [
       "<table>\n",
       "<thead><tr><th scope=col>X</th><th scope=col>Start.Time</th><th scope=col>End.Time</th><th scope=col>Trip.Duration</th><th scope=col>Start.Station</th><th scope=col>End.Station</th><th scope=col>User.Type</th></tr></thead>\n",
       "<tbody>\n",
       "\t<tr><td>1621326                                                                                </td><td>2017-06-21 08:36:34                                                                    </td><td>2017-06-21 08:44:43                                                                    </td><td> 489.066                                                                               </td><td><span style=white-space:pre-wrap>14th &amp; Belmont St NW                       </span></td><td><span style=white-space:pre-wrap>15th &amp; K St NW              </span>               </td><td>Subscriber                                                                             </td></tr>\n",
       "\t<tr><td> 482740                                                                                </td><td>2017-03-11 10:40:00                                                                    </td><td>2017-03-11 10:46:00                                                                    </td><td> 402.549                                                                               </td><td><span style=white-space:pre-wrap>Yuma St &amp; Tenley Circle NW                 </span></td><td>Connecticut Ave &amp; Yuma St NW                                                       </td><td>Subscriber                                                                             </td></tr>\n",
       "\t<tr><td>1330037                                                                                </td><td>2017-05-30 01:02:59                                                                    </td><td>2017-05-30 01:13:37                                                                    </td><td> 637.251                                                                               </td><td><span style=white-space:pre-wrap>17th St &amp; Massachusetts Ave NW             </span></td><td><span style=white-space:pre-wrap>5th &amp; K St NW               </span>               </td><td>Subscriber                                                                             </td></tr>\n",
       "\t<tr><td> 665458                                                                                </td><td>2017-04-02 07:48:35                                                                    </td><td>2017-04-02 08:19:03                                                                    </td><td>1827.341                                                                               </td><td><span style=white-space:pre-wrap>Constitution Ave &amp; 2nd St NW/DOL           </span></td><td><span style=white-space:pre-wrap>M St &amp; Pennsylvania Ave NW  </span>               </td><td><span style=white-space:pre-wrap>Customer  </span>                                     </td></tr>\n",
       "\t<tr><td>1481135                                                                 </td><td>2017-06-10 08:36:28                                                     </td><td>2017-06-10 09:02:17                                                     </td><td>1549.427                                                                </td><td>Henry Bacon Dr &amp; Lincoln Memorial Circle NW                         </td><td><span style=white-space:pre-wrap>Maine Ave &amp; 7th St SW       </span></td><td>Subscriber                                                              </td></tr>\n",
       "</tbody>\n",
       "</table>\n"
      ],
      "text/latex": [
       "\\begin{tabular}{r|lllllll}\n",
       " X & Start.Time & End.Time & Trip.Duration & Start.Station & End.Station & User.Type\\\\\n",
       "\\hline\n",
       "\t 1621326                                       & 2017-06-21 08:36:34                           & 2017-06-21 08:44:43                           &  489.066                                      & 14th \\& Belmont St NW                        & 15th \\& K St NW                              & Subscriber                                   \\\\\n",
       "\t  482740                                       & 2017-03-11 10:40:00                           & 2017-03-11 10:46:00                           &  402.549                                      & Yuma St \\& Tenley Circle NW                  & Connecticut Ave \\& Yuma St NW                & Subscriber                                   \\\\\n",
       "\t 1330037                                       & 2017-05-30 01:02:59                           & 2017-05-30 01:13:37                           &  637.251                                      & 17th St \\& Massachusetts Ave NW              & 5th \\& K St NW                               & Subscriber                                   \\\\\n",
       "\t  665458                                       & 2017-04-02 07:48:35                           & 2017-04-02 08:19:03                           & 1827.341                                      & Constitution Ave \\& 2nd St NW/DOL            & M St \\& Pennsylvania Ave NW                  & Customer                                     \\\\\n",
       "\t 1481135                                       & 2017-06-10 08:36:28                           & 2017-06-10 09:02:17                           & 1549.427                                      & Henry Bacon Dr \\& Lincoln Memorial Circle NW & Maine Ave \\& 7th St SW                       & Subscriber                                   \\\\\n",
       "\\end{tabular}\n"
      ],
      "text/markdown": [
       "\n",
       "| X | Start.Time | End.Time | Trip.Duration | Start.Station | End.Station | User.Type |\n",
       "|---|---|---|---|---|---|---|\n",
       "| 1621326                                     | 2017-06-21 08:36:34                         | 2017-06-21 08:44:43                         |  489.066                                    | 14th & Belmont St NW                        | 15th & K St NW                              | Subscriber                                  |\n",
       "|  482740                                     | 2017-03-11 10:40:00                         | 2017-03-11 10:46:00                         |  402.549                                    | Yuma St & Tenley Circle NW                  | Connecticut Ave & Yuma St NW                | Subscriber                                  |\n",
       "| 1330037                                     | 2017-05-30 01:02:59                         | 2017-05-30 01:13:37                         |  637.251                                    | 17th St & Massachusetts Ave NW              | 5th & K St NW                               | Subscriber                                  |\n",
       "|  665458                                     | 2017-04-02 07:48:35                         | 2017-04-02 08:19:03                         | 1827.341                                    | Constitution Ave & 2nd St NW/DOL            | M St & Pennsylvania Ave NW                  | Customer                                    |\n",
       "| 1481135                                     | 2017-06-10 08:36:28                         | 2017-06-10 09:02:17                         | 1549.427                                    | Henry Bacon Dr & Lincoln Memorial Circle NW | Maine Ave & 7th St SW                       | Subscriber                                  |\n",
       "\n"
      ],
      "text/plain": [
       "  X       Start.Time          End.Time            Trip.Duration\n",
       "1 1621326 2017-06-21 08:36:34 2017-06-21 08:44:43  489.066     \n",
       "2  482740 2017-03-11 10:40:00 2017-03-11 10:46:00  402.549     \n",
       "3 1330037 2017-05-30 01:02:59 2017-05-30 01:13:37  637.251     \n",
       "4  665458 2017-04-02 07:48:35 2017-04-02 08:19:03 1827.341     \n",
       "5 1481135 2017-06-10 08:36:28 2017-06-10 09:02:17 1549.427     \n",
       "  Start.Station                               End.Station                 \n",
       "1 14th & Belmont St NW                        15th & K St NW              \n",
       "2 Yuma St & Tenley Circle NW                  Connecticut Ave & Yuma St NW\n",
       "3 17th St & Massachusetts Ave NW              5th & K St NW               \n",
       "4 Constitution Ave & 2nd St NW/DOL            M St & Pennsylvania Ave NW  \n",
       "5 Henry Bacon Dr & Lincoln Memorial Circle NW Maine Ave & 7th St SW       \n",
       "  User.Type \n",
       "1 Subscriber\n",
       "2 Subscriber\n",
       "3 Subscriber\n",
       "4 Customer  \n",
       "5 Subscriber"
      ]
     },
     "metadata": {},
     "output_type": "display_data"
    }
   ],
   "source": [
    "# Step 1: (1.2)\n",
    "# Prints out the first five rows to observe the values. \n",
    "\n",
    "head(wa,5)"
   ]
  },
  {
   "cell_type": "code",
   "execution_count": 47,
   "metadata": {},
   "outputs": [
    {
     "data": {
      "text/html": [
       "'integer'"
      ],
      "text/latex": [
       "'integer'"
      ],
      "text/markdown": [
       "'integer'"
      ],
      "text/plain": [
       "[1] \"integer\""
      ]
     },
     "metadata": {},
     "output_type": "display_data"
    }
   ],
   "source": [
    "# Step 1: (1.3)\n",
    "# Check the current data type of the \"Start.Time\" column.\n",
    "\n",
    "typeof(wa$Start.Time)"
   ]
  },
  {
   "cell_type": "code",
   "execution_count": 48,
   "metadata": {},
   "outputs": [],
   "source": [
    "# Step 1: (1.3)\n",
    "# Uses the as.POSIXct() function to convert the int format to datatime format.\n",
    "\n",
    "wa$Start.Time <- as.POSIXct(wa$Start.Time, format = \"%Y-%m-%d %H:%M:%S\")"
   ]
  },
  {
   "cell_type": "code",
   "execution_count": 49,
   "metadata": {},
   "outputs": [
    {
     "data": {
      "text/html": [
       "'double'"
      ],
      "text/latex": [
       "'double'"
      ],
      "text/markdown": [
       "'double'"
      ],
      "text/plain": [
       "[1] \"double\""
      ]
     },
     "metadata": {},
     "output_type": "display_data"
    }
   ],
   "source": [
    "# Step 1: (1.4)\n",
    "# Re-check the result from the convert (the 'datetime' data type in R is stored as 'double' format)\n",
    "\n",
    "typeof(wa$Start.Time)"
   ]
  },
  {
   "cell_type": "code",
   "execution_count": 50,
   "metadata": {},
   "outputs": [],
   "source": [
    "# Step 2: (2.1)\n",
    "# Extracts the day of a week by using the weekdays() function and store values in the DayOfWeek column.\n",
    "\n",
    "wa$DayOfWeek <- weekdays(wa$Start.Time)"
   ]
  },
  {
   "cell_type": "code",
   "execution_count": 51,
   "metadata": {},
   "outputs": [
    {
     "data": {
      "text/html": [
       "<ol class=list-inline>\n",
       "\t<li>'Wednesday'</li>\n",
       "\t<li>'Saturday'</li>\n",
       "\t<li>'Tuesday'</li>\n",
       "\t<li>'Sunday'</li>\n",
       "\t<li>'Saturday'</li>\n",
       "</ol>\n"
      ],
      "text/latex": [
       "\\begin{enumerate*}\n",
       "\\item 'Wednesday'\n",
       "\\item 'Saturday'\n",
       "\\item 'Tuesday'\n",
       "\\item 'Sunday'\n",
       "\\item 'Saturday'\n",
       "\\end{enumerate*}\n"
      ],
      "text/markdown": [
       "1. 'Wednesday'\n",
       "2. 'Saturday'\n",
       "3. 'Tuesday'\n",
       "4. 'Sunday'\n",
       "5. 'Saturday'\n",
       "\n",
       "\n"
      ],
      "text/plain": [
       "[1] \"Wednesday\" \"Saturday\"  \"Tuesday\"   \"Sunday\"    \"Saturday\" "
      ]
     },
     "metadata": {},
     "output_type": "display_data"
    }
   ],
   "source": [
    "# Step 2: (2.2)\n",
    "# Check the result by print out values in the DayOfWeek column\n",
    "\n",
    "head(wa$DayOfWeek,5)"
   ]
  },
  {
   "cell_type": "code",
   "execution_count": 52,
   "metadata": {},
   "outputs": [],
   "source": [
    "# Step 3: (3.1)\n",
    "# Uses the factor() function to re-order the day in a week from Monday - Sunday.\n",
    "\n",
    "wa$DayOfWeek <- factor(wa$DayOfWeek, levels = c(\"Monday\",\"Tuesday\",\"Wednesday\",\"Thursday\",\n",
    "                                                    \"Friday\", \"Saturday\",\"Sunday\"))"
   ]
  },
  {
   "cell_type": "code",
   "execution_count": 53,
   "metadata": {
    "scrolled": true
   },
   "outputs": [
    {
     "data": {
      "image/png": "[encoded data removed]",
      "text/plain": [
       "plot without title"
      ]
     },
     "metadata": {},
     "output_type": "display_data"
    }
   ],
   "source": [
    "# Step 4: (4.1)\n",
    "# Uses the ggpot() function to plot the total amount of each day in week to the bar chart to see the different.\n",
    "\n",
    "# Uses the subset() to eliminate all the na values in the column. \n",
    "ggplot(data = subset(wa, !is.na(DayOfWeek)), aes(x = DayOfWeek)) +\n",
    "  geom_bar(fill = \"skyblue\", color = \"black\") +\n",
    "  geom_line(aes(group = 1), stat = \"count\", color = \"darkblue\", size = 1) +\n",
    "  labs(title = \"Rides by Day of Week\", x = \"Day of Week\", y = \"Frequency\") +\n",
    "  theme_minimal()\n"
   ]
  },
  {
   "cell_type": "code",
   "execution_count": 54,
   "metadata": {},
   "outputs": [],
   "source": [
    "# Step 5: (5.1)\n",
    "# Uses the as.numeric() function to extract the hour values from the Start.Time column.\n",
    "# Stores the extracted values to the new column name \"Hour\"\n",
    "\n",
    "wa$Hour <- as.numeric(format(wa$Start.Time, \"%H\"))"
   ]
  },
  {
   "cell_type": "code",
   "execution_count": 55,
   "metadata": {
    "scrolled": true
   },
   "outputs": [
    {
     "data": {
      "text/html": [
       "<ol class=list-inline>\n",
       "\t<li>8</li>\n",
       "\t<li>10</li>\n",
       "\t<li>1</li>\n",
       "\t<li>7</li>\n",
       "\t<li>8</li>\n",
       "</ol>\n"
      ],
      "text/latex": [
       "\\begin{enumerate*}\n",
       "\\item 8\n",
       "\\item 10\n",
       "\\item 1\n",
       "\\item 7\n",
       "\\item 8\n",
       "\\end{enumerate*}\n"
      ],
      "text/markdown": [
       "1. 8\n",
       "2. 10\n",
       "3. 1\n",
       "4. 7\n",
       "5. 8\n",
       "\n",
       "\n"
      ],
      "text/plain": [
       "[1]  8 10  1  7  8"
      ]
     },
     "metadata": {},
     "output_type": "display_data"
    }
   ],
   "source": [
    "# Step 5: (5.2)\n",
    "# Print out values in the Hour column to confirm the extracting processs above. \n",
    "\n",
    "head(wa$Hour,5)"
   ]
  },
  {
   "cell_type": "code",
   "execution_count": 56,
   "metadata": {
    "scrolled": false
   },
   "outputs": [
    {
     "data": {
      "image/png": "[encoded data removed]",
      "text/plain": [
       "plot without title"
      ]
     },
     "metadata": {},
     "output_type": "display_data"
    }
   ],
   "source": [
    "# Step 6: (6.1)\n",
    "# Uses the bar chart to show the comparision for each hour of a day.\n",
    "# Uses the factor() function to organize the values in the chart.\n",
    "\n",
    "ggplot(wa, aes(x = factor(Hour, levels = 0:23))) +\n",
    "  geom_bar(fill = \"skyblue\", color = \"black\") +\n",
    "  geom_line(aes(group = 1), stat = \"count\", color = \"darkblue\", size = 1) +\n",
    "  scale_x_discrete(name = \"Hour of the Day\", breaks = 0:23, labels = 0:23) +\n",
    "  labs(title = \"Rides by Hour\", y = \"Frequency\") +\n",
    "  theme_minimal()\n"
   ]
  },
  {
   "cell_type": "code",
   "execution_count": 57,
   "metadata": {
    "scrolled": true
   },
   "outputs": [
    {
     "data": {
      "text/plain": [
       "\n",
       "   0    1    2    3    4    5    6    7    8    9   10   11   12   13   14   15 \n",
       " 227 3500 3421 3655 4541 6741 6994 8490 9805 5957 4788 5057 5569 1906 1774 2136 \n",
       "  16   17   18   19   20   21   22   23 \n",
       "2746 3958 3028 1772 1181  855  605  344 "
      ]
     },
     "metadata": {},
     "output_type": "display_data"
    },
    {
     "data": {
      "text/plain": [
       "\n",
       "   Monday   Tuesday Wednesday  Thursday    Friday  Saturday    Sunday \n",
       "    11721     13288     14212     13204     12926     12133     11566 "
      ]
     },
     "metadata": {},
     "output_type": "display_data"
    }
   ],
   "source": [
    "# Step 6: (6.1)\n",
    "# Using the table() fucntion to see the statistical numbers in total of each hour of a day and day in a week.\n",
    "\n",
    "table(wa$Hour)\n",
    "table(wa$DayOfWeek)"
   ]
  },
  {
   "cell_type": "markdown",
   "metadata": {},
   "source": [
    "### Step 7: (Conclusion)\n",
    "- The first chart, \"Rides by Day of Week,\" shows people tend to rent bikes out more during the weekdays, especially on Wednesdays (frequency in total is 14,212 rides) compared with the lowest frequency of bike renting on Sundays (a total of 11,566 rides).\n",
    "- The second chart, \"Rides by Hour,\" shows the fact that people mostly access the bikes around 8 a.m. (9,805 in total) and 7 a.m. (8,490 in total), and the volume drops significantly at 9 a.m. (5,957 rides) and seems to slightly spike again around 5 p.m. (6,741) during a day. Combined with the line chart reflecting the behavior of people using the bike during the day, the demand increases at midnight and reaches its highest at 8 a.m., then gradually decreases until midnight. \n",
    "\n",
    "**Summary**: Both illustrations show that people mostly use the bike to commute to work, usually before 9 a.m., and go home around 5 p.m. on weekdays. \n"
   ]
  },
  {
   "cell_type": "markdown",
   "metadata": {},
   "source": [
    "# <span style=\"color:lightblue;\">Question 2 </span>\n",
    "### What is the average time spent renting a bike in three different cities? (New York, Chicago, and Washington cities)"
   ]
  },
  {
   "cell_type": "markdown",
   "metadata": {},
   "source": [
    "**General main steps to compare the average use of bikes in three cities:**\n",
    "- Step 1: Assign the copy data frame from the original data frame. \n",
    "- Step 2: Convert the \"Trip.Duration\" columns to the same datatype (int). \n",
    "- Step 3: Create the new column \"City\" for each data frame to distinguish the difference between each city. \n",
    "- Step 4: Create the data frame for each data set that only contains the columns \"Trip.Duration\" and city out from each current dataset. \n",
    "- Step 5: Combine the three new data frames into one. \n",
    "- Step 6: Plot the combined data frame to boxplot for comparison \n",
    "- Step 7: Conclusion from the research."
   ]
  },
  {
   "cell_type": "code",
   "execution_count": 58,
   "metadata": {},
   "outputs": [],
   "source": [
    "# Step 1: (1.1)\n",
    "# Assigns three new dataframes from the original dataframes\n",
    "\n",
    "ny.copy <- ny    #The New York dataset\n",
    "wa.copy <- wash  #The Washington dataset\n",
    "chi.copy <- chi  #The Chicago dataset"
   ]
  },
  {
   "cell_type": "code",
   "execution_count": 59,
   "metadata": {
    "scrolled": true
   },
   "outputs": [
    {
     "data": {
      "text/html": [
       "<table>\n",
       "<thead><tr><th scope=col>X</th><th scope=col>Start.Time</th><th scope=col>End.Time</th><th scope=col>Trip.Duration</th><th scope=col>Start.Station</th><th scope=col>End.Station</th><th scope=col>User.Type</th><th scope=col>Gender</th><th scope=col>Birth.Year</th></tr></thead>\n",
       "<tbody>\n",
       "\t<tr><td>5688089                                       </td><td>2017-06-11 14:55:05                           </td><td>2017-06-11 15:08:21                           </td><td> 795                                          </td><td>Suffolk St &amp; Stanton St                   </td><td>W Broadway &amp; Spring St                    </td><td>Subscriber                                    </td><td><span style=white-space:pre-wrap>Male  </span></td><td>1998                                          </td></tr>\n",
       "\t<tr><td>4096714                                                           </td><td>2017-05-11 15:30:11                                               </td><td>2017-05-11 15:41:43                                               </td><td> 692                                                              </td><td>Lexington Ave &amp; E 63 St                                       </td><td><span style=white-space:pre-wrap>1 Ave &amp; E 78 St       </span></td><td>Subscriber                                                        </td><td><span style=white-space:pre-wrap>Male  </span>                    </td><td>1981                                                              </td></tr>\n",
       "\t<tr><td>2173887                                                            </td><td>2017-03-29 13:26:26                                                </td><td>2017-03-29 13:48:31                                                </td><td>1325                                                               </td><td><span style=white-space:pre-wrap>1 Pl &amp; Clinton St      </span></td><td><span style=white-space:pre-wrap>Henry St &amp; Degraw St  </span> </td><td>Subscriber                                                         </td><td><span style=white-space:pre-wrap>Male  </span>                     </td><td>1987                                                               </td></tr>\n",
       "\t<tr><td>3945638                                                            </td><td>2017-05-08 19:47:18                                                </td><td>2017-05-08 19:59:01                                                </td><td> 703                                                               </td><td><span style=white-space:pre-wrap>Barrow St &amp; Hudson St  </span></td><td><span style=white-space:pre-wrap>W 20 St &amp; 8 Ave       </span> </td><td>Subscriber                                                         </td><td>Female                                                             </td><td>1986                                                               </td></tr>\n",
       "\t<tr><td>6208972                                                            </td><td>2017-06-21 07:49:16                                                </td><td>2017-06-21 07:54:46                                                </td><td> 329                                                               </td><td><span style=white-space:pre-wrap>1 Ave &amp; E 44 St        </span></td><td><span style=white-space:pre-wrap>E 53 St &amp; 3 Ave       </span> </td><td>Subscriber                                                         </td><td><span style=white-space:pre-wrap>Male  </span>                     </td><td>1992                                                               </td></tr>\n",
       "</tbody>\n",
       "</table>\n"
      ],
      "text/latex": [
       "\\begin{tabular}{r|lllllllll}\n",
       " X & Start.Time & End.Time & Trip.Duration & Start.Station & End.Station & User.Type & Gender & Birth.Year\\\\\n",
       "\\hline\n",
       "\t 5688089                   & 2017-06-11 14:55:05       & 2017-06-11 15:08:21       &  795                      & Suffolk St \\& Stanton St & W Broadway \\& Spring St  & Subscriber                & Male                      & 1998                     \\\\\n",
       "\t 4096714                   & 2017-05-11 15:30:11       & 2017-05-11 15:41:43       &  692                      & Lexington Ave \\& E 63 St & 1 Ave \\& E 78 St         & Subscriber                & Male                      & 1981                     \\\\\n",
       "\t 2173887                   & 2017-03-29 13:26:26       & 2017-03-29 13:48:31       & 1325                      & 1 Pl \\& Clinton St       & Henry St \\& Degraw St    & Subscriber                & Male                      & 1987                     \\\\\n",
       "\t 3945638                   & 2017-05-08 19:47:18       & 2017-05-08 19:59:01       &  703                      & Barrow St \\& Hudson St   & W 20 St \\& 8 Ave         & Subscriber                & Female                    & 1986                     \\\\\n",
       "\t 6208972                   & 2017-06-21 07:49:16       & 2017-06-21 07:54:46       &  329                      & 1 Ave \\& E 44 St         & E 53 St \\& 3 Ave         & Subscriber                & Male                      & 1992                     \\\\\n",
       "\\end{tabular}\n"
      ],
      "text/markdown": [
       "\n",
       "| X | Start.Time | End.Time | Trip.Duration | Start.Station | End.Station | User.Type | Gender | Birth.Year |\n",
       "|---|---|---|---|---|---|---|---|---|\n",
       "| 5688089                 | 2017-06-11 14:55:05     | 2017-06-11 15:08:21     |  795                    | Suffolk St & Stanton St | W Broadway & Spring St  | Subscriber              | Male                    | 1998                    |\n",
       "| 4096714                 | 2017-05-11 15:30:11     | 2017-05-11 15:41:43     |  692                    | Lexington Ave & E 63 St | 1 Ave & E 78 St         | Subscriber              | Male                    | 1981                    |\n",
       "| 2173887                 | 2017-03-29 13:26:26     | 2017-03-29 13:48:31     | 1325                    | 1 Pl & Clinton St       | Henry St & Degraw St    | Subscriber              | Male                    | 1987                    |\n",
       "| 3945638                 | 2017-05-08 19:47:18     | 2017-05-08 19:59:01     |  703                    | Barrow St & Hudson St   | W 20 St & 8 Ave         | Subscriber              | Female                  | 1986                    |\n",
       "| 6208972                 | 2017-06-21 07:49:16     | 2017-06-21 07:54:46     |  329                    | 1 Ave & E 44 St         | E 53 St & 3 Ave         | Subscriber              | Male                    | 1992                    |\n",
       "\n"
      ],
      "text/plain": [
       "  X       Start.Time          End.Time            Trip.Duration\n",
       "1 5688089 2017-06-11 14:55:05 2017-06-11 15:08:21  795         \n",
       "2 4096714 2017-05-11 15:30:11 2017-05-11 15:41:43  692         \n",
       "3 2173887 2017-03-29 13:26:26 2017-03-29 13:48:31 1325         \n",
       "4 3945638 2017-05-08 19:47:18 2017-05-08 19:59:01  703         \n",
       "5 6208972 2017-06-21 07:49:16 2017-06-21 07:54:46  329         \n",
       "  Start.Station           End.Station            User.Type  Gender Birth.Year\n",
       "1 Suffolk St & Stanton St W Broadway & Spring St Subscriber Male   1998      \n",
       "2 Lexington Ave & E 63 St 1 Ave & E 78 St        Subscriber Male   1981      \n",
       "3 1 Pl & Clinton St       Henry St & Degraw St   Subscriber Male   1987      \n",
       "4 Barrow St & Hudson St   W 20 St & 8 Ave        Subscriber Female 1986      \n",
       "5 1 Ave & E 44 St         E 53 St & 3 Ave        Subscriber Male   1992      "
      ]
     },
     "metadata": {},
     "output_type": "display_data"
    }
   ],
   "source": [
    "# Step 1: (1.2)\n",
    "# Print the first 5 rows to check the new dataframe \n",
    "\n",
    "head(ny.copy,5)"
   ]
  },
  {
   "cell_type": "code",
   "execution_count": 60,
   "metadata": {},
   "outputs": [
    {
     "data": {
      "text/html": [
       "<table>\n",
       "<thead><tr><th scope=col>X</th><th scope=col>Start.Time</th><th scope=col>End.Time</th><th scope=col>Trip.Duration</th><th scope=col>Start.Station</th><th scope=col>End.Station</th><th scope=col>User.Type</th></tr></thead>\n",
       "<tbody>\n",
       "\t<tr><td>1621326                                                                                </td><td>2017-06-21 08:36:34                                                                    </td><td>2017-06-21 08:44:43                                                                    </td><td> 489.066                                                                               </td><td><span style=white-space:pre-wrap>14th &amp; Belmont St NW                       </span></td><td><span style=white-space:pre-wrap>15th &amp; K St NW              </span>               </td><td>Subscriber                                                                             </td></tr>\n",
       "\t<tr><td> 482740                                                                                </td><td>2017-03-11 10:40:00                                                                    </td><td>2017-03-11 10:46:00                                                                    </td><td> 402.549                                                                               </td><td><span style=white-space:pre-wrap>Yuma St &amp; Tenley Circle NW                 </span></td><td>Connecticut Ave &amp; Yuma St NW                                                       </td><td>Subscriber                                                                             </td></tr>\n",
       "\t<tr><td>1330037                                                                                </td><td>2017-05-30 01:02:59                                                                    </td><td>2017-05-30 01:13:37                                                                    </td><td> 637.251                                                                               </td><td><span style=white-space:pre-wrap>17th St &amp; Massachusetts Ave NW             </span></td><td><span style=white-space:pre-wrap>5th &amp; K St NW               </span>               </td><td>Subscriber                                                                             </td></tr>\n",
       "\t<tr><td> 665458                                                                                </td><td>2017-04-02 07:48:35                                                                    </td><td>2017-04-02 08:19:03                                                                    </td><td>1827.341                                                                               </td><td><span style=white-space:pre-wrap>Constitution Ave &amp; 2nd St NW/DOL           </span></td><td><span style=white-space:pre-wrap>M St &amp; Pennsylvania Ave NW  </span>               </td><td><span style=white-space:pre-wrap>Customer  </span>                                     </td></tr>\n",
       "\t<tr><td>1481135                                                                 </td><td>2017-06-10 08:36:28                                                     </td><td>2017-06-10 09:02:17                                                     </td><td>1549.427                                                                </td><td>Henry Bacon Dr &amp; Lincoln Memorial Circle NW                         </td><td><span style=white-space:pre-wrap>Maine Ave &amp; 7th St SW       </span></td><td>Subscriber                                                              </td></tr>\n",
       "</tbody>\n",
       "</table>\n"
      ],
      "text/latex": [
       "\\begin{tabular}{r|lllllll}\n",
       " X & Start.Time & End.Time & Trip.Duration & Start.Station & End.Station & User.Type\\\\\n",
       "\\hline\n",
       "\t 1621326                                       & 2017-06-21 08:36:34                           & 2017-06-21 08:44:43                           &  489.066                                      & 14th \\& Belmont St NW                        & 15th \\& K St NW                              & Subscriber                                   \\\\\n",
       "\t  482740                                       & 2017-03-11 10:40:00                           & 2017-03-11 10:46:00                           &  402.549                                      & Yuma St \\& Tenley Circle NW                  & Connecticut Ave \\& Yuma St NW                & Subscriber                                   \\\\\n",
       "\t 1330037                                       & 2017-05-30 01:02:59                           & 2017-05-30 01:13:37                           &  637.251                                      & 17th St \\& Massachusetts Ave NW              & 5th \\& K St NW                               & Subscriber                                   \\\\\n",
       "\t  665458                                       & 2017-04-02 07:48:35                           & 2017-04-02 08:19:03                           & 1827.341                                      & Constitution Ave \\& 2nd St NW/DOL            & M St \\& Pennsylvania Ave NW                  & Customer                                     \\\\\n",
       "\t 1481135                                       & 2017-06-10 08:36:28                           & 2017-06-10 09:02:17                           & 1549.427                                      & Henry Bacon Dr \\& Lincoln Memorial Circle NW & Maine Ave \\& 7th St SW                       & Subscriber                                   \\\\\n",
       "\\end{tabular}\n"
      ],
      "text/markdown": [
       "\n",
       "| X | Start.Time | End.Time | Trip.Duration | Start.Station | End.Station | User.Type |\n",
       "|---|---|---|---|---|---|---|\n",
       "| 1621326                                     | 2017-06-21 08:36:34                         | 2017-06-21 08:44:43                         |  489.066                                    | 14th & Belmont St NW                        | 15th & K St NW                              | Subscriber                                  |\n",
       "|  482740                                     | 2017-03-11 10:40:00                         | 2017-03-11 10:46:00                         |  402.549                                    | Yuma St & Tenley Circle NW                  | Connecticut Ave & Yuma St NW                | Subscriber                                  |\n",
       "| 1330037                                     | 2017-05-30 01:02:59                         | 2017-05-30 01:13:37                         |  637.251                                    | 17th St & Massachusetts Ave NW              | 5th & K St NW                               | Subscriber                                  |\n",
       "|  665458                                     | 2017-04-02 07:48:35                         | 2017-04-02 08:19:03                         | 1827.341                                    | Constitution Ave & 2nd St NW/DOL            | M St & Pennsylvania Ave NW                  | Customer                                    |\n",
       "| 1481135                                     | 2017-06-10 08:36:28                         | 2017-06-10 09:02:17                         | 1549.427                                    | Henry Bacon Dr & Lincoln Memorial Circle NW | Maine Ave & 7th St SW                       | Subscriber                                  |\n",
       "\n"
      ],
      "text/plain": [
       "  X       Start.Time          End.Time            Trip.Duration\n",
       "1 1621326 2017-06-21 08:36:34 2017-06-21 08:44:43  489.066     \n",
       "2  482740 2017-03-11 10:40:00 2017-03-11 10:46:00  402.549     \n",
       "3 1330037 2017-05-30 01:02:59 2017-05-30 01:13:37  637.251     \n",
       "4  665458 2017-04-02 07:48:35 2017-04-02 08:19:03 1827.341     \n",
       "5 1481135 2017-06-10 08:36:28 2017-06-10 09:02:17 1549.427     \n",
       "  Start.Station                               End.Station                 \n",
       "1 14th & Belmont St NW                        15th & K St NW              \n",
       "2 Yuma St & Tenley Circle NW                  Connecticut Ave & Yuma St NW\n",
       "3 17th St & Massachusetts Ave NW              5th & K St NW               \n",
       "4 Constitution Ave & 2nd St NW/DOL            M St & Pennsylvania Ave NW  \n",
       "5 Henry Bacon Dr & Lincoln Memorial Circle NW Maine Ave & 7th St SW       \n",
       "  User.Type \n",
       "1 Subscriber\n",
       "2 Subscriber\n",
       "3 Subscriber\n",
       "4 Customer  \n",
       "5 Subscriber"
      ]
     },
     "metadata": {},
     "output_type": "display_data"
    }
   ],
   "source": [
    "# Step 1: (1.3)\n",
    "# Print the first 5 rows to check the new dataframe \n",
    "\n",
    "head(wa.copy,5)"
   ]
  },
  {
   "cell_type": "code",
   "execution_count": 61,
   "metadata": {
    "scrolled": true
   },
   "outputs": [
    {
     "data": {
      "text/html": [
       "<table>\n",
       "<thead><tr><th scope=col>X</th><th scope=col>Start.Time</th><th scope=col>End.Time</th><th scope=col>Trip.Duration</th><th scope=col>Start.Station</th><th scope=col>End.Station</th><th scope=col>User.Type</th><th scope=col>Gender</th><th scope=col>Birth.Year</th></tr></thead>\n",
       "<tbody>\n",
       "\t<tr><td>1423854                                                                  </td><td>2017-06-23 15:09:32                                                      </td><td>2017-06-23 15:14:53                                                      </td><td> 321                                                                     </td><td><span style=white-space:pre-wrap>Wood St &amp; Hubbard St         </span></td><td><span style=white-space:pre-wrap>Damen Ave &amp; Chicago Ave     </span> </td><td>Subscriber                                                               </td><td><span style=white-space:pre-wrap>Male  </span>                           </td><td>1992                                                                     </td></tr>\n",
       "\t<tr><td> 955915                                                              </td><td>2017-05-25 18:19:03                                                  </td><td>2017-05-25 18:45:53                                                  </td><td>1610                                                                 </td><td><span style=white-space:pre-wrap>Theater on the Lake          </span></td><td>Sheffield Ave &amp; Waveland Ave                                     </td><td>Subscriber                                                           </td><td>Female                                                               </td><td>1992                                                                 </td></tr>\n",
       "\t<tr><td><span style=white-space:pre-wrap>   9031</span>                          </td><td>2017-01-04 08:27:49                                                      </td><td>2017-01-04 08:34:45                                                      </td><td> 416                                                                     </td><td><span style=white-space:pre-wrap>May St &amp; Taylor St           </span></td><td><span style=white-space:pre-wrap>Wood St &amp; Taylor St         </span> </td><td>Subscriber                                                               </td><td><span style=white-space:pre-wrap>Male  </span>                           </td><td>1981                                                                     </td></tr>\n",
       "\t<tr><td> 304487                                       </td><td>2017-03-06 13:49:38                           </td><td>2017-03-06 13:55:28                           </td><td> 350                                          </td><td>Christiana Ave &amp; Lawrence Ave             </td><td>St. Louis Ave &amp; Balmoral Ave              </td><td>Subscriber                                    </td><td><span style=white-space:pre-wrap>Male  </span></td><td>1986                                          </td></tr>\n",
       "\t<tr><td><span style=white-space:pre-wrap>  45207</span>                          </td><td>2017-01-17 14:53:07                                                      </td><td>2017-01-17 15:02:01                                                      </td><td> 534                                                                     </td><td><span style=white-space:pre-wrap>Clark St &amp; Randolph St       </span></td><td>Desplaines St &amp; Jackson Blvd                                         </td><td>Subscriber                                                               </td><td><span style=white-space:pre-wrap>Male  </span>                           </td><td>1975                                                                     </td></tr>\n",
       "</tbody>\n",
       "</table>\n"
      ],
      "text/latex": [
       "\\begin{tabular}{r|lllllllll}\n",
       " X & Start.Time & End.Time & Trip.Duration & Start.Station & End.Station & User.Type & Gender & Birth.Year\\\\\n",
       "\\hline\n",
       "\t 1423854                         & 2017-06-23 15:09:32             & 2017-06-23 15:14:53             &  321                            & Wood St \\& Hubbard St          & Damen Ave \\& Chicago Ave       & Subscriber                      & Male                            & 1992                           \\\\\n",
       "\t  955915                        & 2017-05-25 18:19:03            & 2017-05-25 18:45:53            & 1610                           & Theater on the Lake            & Sheffield Ave \\& Waveland Ave & Subscriber                     & Female                         & 1992                          \\\\\n",
       "\t    9031                         & 2017-01-04 08:27:49             & 2017-01-04 08:34:45             &  416                            & May St \\& Taylor St            & Wood St \\& Taylor St           & Subscriber                      & Male                            & 1981                           \\\\\n",
       "\t  304487                         & 2017-03-06 13:49:38             & 2017-03-06 13:55:28             &  350                            & Christiana Ave \\& Lawrence Ave & St. Louis Ave \\& Balmoral Ave  & Subscriber                      & Male                            & 1986                           \\\\\n",
       "\t   45207                         & 2017-01-17 14:53:07             & 2017-01-17 15:02:01             &  534                            & Clark St \\& Randolph St        & Desplaines St \\& Jackson Blvd  & Subscriber                      & Male                            & 1975                           \\\\\n",
       "\\end{tabular}\n"
      ],
      "text/markdown": [
       "\n",
       "| X | Start.Time | End.Time | Trip.Duration | Start.Station | End.Station | User.Type | Gender | Birth.Year |\n",
       "|---|---|---|---|---|---|---|---|---|\n",
       "| 1423854                       | 2017-06-23 15:09:32           | 2017-06-23 15:14:53           |  321                          | Wood St & Hubbard St          | Damen Ave & Chicago Ave       | Subscriber                    | Male                          | 1992                          |\n",
       "|  955915                       | 2017-05-25 18:19:03           | 2017-05-25 18:45:53           | 1610                          | Theater on the Lake           | Sheffield Ave & Waveland Ave  | Subscriber                    | Female                        | 1992                          |\n",
       "|    9031                       | 2017-01-04 08:27:49           | 2017-01-04 08:34:45           |  416                          | May St & Taylor St            | Wood St & Taylor St           | Subscriber                    | Male                          | 1981                          |\n",
       "|  304487                       | 2017-03-06 13:49:38           | 2017-03-06 13:55:28           |  350                          | Christiana Ave & Lawrence Ave | St. Louis Ave & Balmoral Ave  | Subscriber                    | Male                          | 1986                          |\n",
       "|   45207                       | 2017-01-17 14:53:07           | 2017-01-17 15:02:01           |  534                          | Clark St & Randolph St        | Desplaines St & Jackson Blvd  | Subscriber                    | Male                          | 1975                          |\n",
       "\n"
      ],
      "text/plain": [
       "  X       Start.Time          End.Time            Trip.Duration\n",
       "1 1423854 2017-06-23 15:09:32 2017-06-23 15:14:53  321         \n",
       "2  955915 2017-05-25 18:19:03 2017-05-25 18:45:53 1610         \n",
       "3    9031 2017-01-04 08:27:49 2017-01-04 08:34:45  416         \n",
       "4  304487 2017-03-06 13:49:38 2017-03-06 13:55:28  350         \n",
       "5   45207 2017-01-17 14:53:07 2017-01-17 15:02:01  534         \n",
       "  Start.Station                 End.Station                  User.Type  Gender\n",
       "1 Wood St & Hubbard St          Damen Ave & Chicago Ave      Subscriber Male  \n",
       "2 Theater on the Lake           Sheffield Ave & Waveland Ave Subscriber Female\n",
       "3 May St & Taylor St            Wood St & Taylor St          Subscriber Male  \n",
       "4 Christiana Ave & Lawrence Ave St. Louis Ave & Balmoral Ave Subscriber Male  \n",
       "5 Clark St & Randolph St        Desplaines St & Jackson Blvd Subscriber Male  \n",
       "  Birth.Year\n",
       "1 1992      \n",
       "2 1992      \n",
       "3 1981      \n",
       "4 1986      \n",
       "5 1975      "
      ]
     },
     "metadata": {},
     "output_type": "display_data"
    }
   ],
   "source": [
    "# Step 1: (1.4)\n",
    "# Print the first 5 rows to check the new dataframe \n",
    "\n",
    "head(chi.copy,5)"
   ]
  },
  {
   "cell_type": "code",
   "execution_count": 62,
   "metadata": {},
   "outputs": [],
   "source": [
    "# Step 2: (2.1)\n",
    "# Convert the double type to int in wa.copy\n",
    "wa.copy$Trip.Duration <- as.integer(wa.copy$Trip.Duration)"
   ]
  },
  {
   "cell_type": "code",
   "execution_count": 63,
   "metadata": {
    "scrolled": true
   },
   "outputs": [
    {
     "data": {
      "text/html": [
       "'integer'"
      ],
      "text/latex": [
       "'integer'"
      ],
      "text/markdown": [
       "'integer'"
      ],
      "text/plain": [
       "[1] \"integer\""
      ]
     },
     "metadata": {},
     "output_type": "display_data"
    }
   ],
   "source": [
    "# Step 2: (2.2)\n",
    "# Check the convert process\n",
    "\n",
    "typeof(wa.copy$Trip.Duration)"
   ]
  },
  {
   "cell_type": "code",
   "execution_count": 64,
   "metadata": {},
   "outputs": [],
   "source": [
    "# Step 3: (3.1)\n",
    "# Add columns \"City\" with the value \"Washington\" into the Washington city dataset.\n",
    "\n",
    "wa.copy$City <- \"Washington\""
   ]
  },
  {
   "cell_type": "code",
   "execution_count": 65,
   "metadata": {
    "scrolled": true
   },
   "outputs": [],
   "source": [
    "# Step 3: (3.2)\n",
    "# Add columns \"City\" with the value \"New York\" into the New York city dataset.\n",
    "\n",
    "ny.copy$City <- \"New York\""
   ]
  },
  {
   "cell_type": "code",
   "execution_count": 66,
   "metadata": {},
   "outputs": [],
   "source": [
    "# Step 3: (3.3)\n",
    "# Add columns \"City\" with the value \"Chicago\" into the Chicago city dataset.\n",
    "\n",
    "chi.copy$City <- \"Chicago\""
   ]
  },
  {
   "cell_type": "code",
   "execution_count": 67,
   "metadata": {},
   "outputs": [],
   "source": [
    "# Step 4: (4.1)\n",
    "# Creates the new three dataframes only contain the \"City\" and \"Trip.Duration\" from\n",
    "# each dataframe\n",
    "\n",
    "wa.merge <- wa.copy[,c(\"Trip.Duration\",\"City\")]\n",
    "chi.merge <- chi.copy[,c(\"Trip.Duration\",\"City\")]\n",
    "ny.merge <- ny.copy[,c(\"Trip.Duration\",\"City\")]"
   ]
  },
  {
   "cell_type": "code",
   "execution_count": 68,
   "metadata": {},
   "outputs": [
    {
     "data": {
      "text/html": [
       "<table>\n",
       "<thead><tr><th scope=col>Trip.Duration</th><th scope=col>City</th></tr></thead>\n",
       "<tbody>\n",
       "\t<tr><td> 489      </td><td>Washington</td></tr>\n",
       "\t<tr><td> 402      </td><td>Washington</td></tr>\n",
       "\t<tr><td> 637      </td><td>Washington</td></tr>\n",
       "\t<tr><td>1827      </td><td>Washington</td></tr>\n",
       "\t<tr><td>1549      </td><td>Washington</td></tr>\n",
       "</tbody>\n",
       "</table>\n"
      ],
      "text/latex": [
       "\\begin{tabular}{r|ll}\n",
       " Trip.Duration & City\\\\\n",
       "\\hline\n",
       "\t  489       & Washington\\\\\n",
       "\t  402       & Washington\\\\\n",
       "\t  637       & Washington\\\\\n",
       "\t 1827       & Washington\\\\\n",
       "\t 1549       & Washington\\\\\n",
       "\\end{tabular}\n"
      ],
      "text/markdown": [
       "\n",
       "| Trip.Duration | City |\n",
       "|---|---|\n",
       "|  489       | Washington |\n",
       "|  402       | Washington |\n",
       "|  637       | Washington |\n",
       "| 1827       | Washington |\n",
       "| 1549       | Washington |\n",
       "\n"
      ],
      "text/plain": [
       "  Trip.Duration City      \n",
       "1  489          Washington\n",
       "2  402          Washington\n",
       "3  637          Washington\n",
       "4 1827          Washington\n",
       "5 1549          Washington"
      ]
     },
     "metadata": {},
     "output_type": "display_data"
    },
    {
     "data": {
      "text/html": [
       "<table>\n",
       "<thead><tr><th scope=col>Trip.Duration</th><th scope=col>City</th></tr></thead>\n",
       "<tbody>\n",
       "\t<tr><td> 321   </td><td>Chicago</td></tr>\n",
       "\t<tr><td>1610   </td><td>Chicago</td></tr>\n",
       "\t<tr><td> 416   </td><td>Chicago</td></tr>\n",
       "\t<tr><td> 350   </td><td>Chicago</td></tr>\n",
       "\t<tr><td> 534   </td><td>Chicago</td></tr>\n",
       "</tbody>\n",
       "</table>\n"
      ],
      "text/latex": [
       "\\begin{tabular}{r|ll}\n",
       " Trip.Duration & City\\\\\n",
       "\\hline\n",
       "\t  321    & Chicago\\\\\n",
       "\t 1610    & Chicago\\\\\n",
       "\t  416    & Chicago\\\\\n",
       "\t  350    & Chicago\\\\\n",
       "\t  534    & Chicago\\\\\n",
       "\\end{tabular}\n"
      ],
      "text/markdown": [
       "\n",
       "| Trip.Duration | City |\n",
       "|---|---|\n",
       "|  321    | Chicago |\n",
       "| 1610    | Chicago |\n",
       "|  416    | Chicago |\n",
       "|  350    | Chicago |\n",
       "|  534    | Chicago |\n",
       "\n"
      ],
      "text/plain": [
       "  Trip.Duration City   \n",
       "1  321          Chicago\n",
       "2 1610          Chicago\n",
       "3  416          Chicago\n",
       "4  350          Chicago\n",
       "5  534          Chicago"
      ]
     },
     "metadata": {},
     "output_type": "display_data"
    },
    {
     "data": {
      "text/html": [
       "<table>\n",
       "<thead><tr><th scope=col>Trip.Duration</th><th scope=col>City</th></tr></thead>\n",
       "<tbody>\n",
       "\t<tr><td> 795    </td><td>New York</td></tr>\n",
       "\t<tr><td> 692    </td><td>New York</td></tr>\n",
       "\t<tr><td>1325    </td><td>New York</td></tr>\n",
       "\t<tr><td> 703    </td><td>New York</td></tr>\n",
       "\t<tr><td> 329    </td><td>New York</td></tr>\n",
       "</tbody>\n",
       "</table>\n"
      ],
      "text/latex": [
       "\\begin{tabular}{r|ll}\n",
       " Trip.Duration & City\\\\\n",
       "\\hline\n",
       "\t  795     & New York\\\\\n",
       "\t  692     & New York\\\\\n",
       "\t 1325     & New York\\\\\n",
       "\t  703     & New York\\\\\n",
       "\t  329     & New York\\\\\n",
       "\\end{tabular}\n"
      ],
      "text/markdown": [
       "\n",
       "| Trip.Duration | City |\n",
       "|---|---|\n",
       "|  795     | New York |\n",
       "|  692     | New York |\n",
       "| 1325     | New York |\n",
       "|  703     | New York |\n",
       "|  329     | New York |\n",
       "\n"
      ],
      "text/plain": [
       "  Trip.Duration City    \n",
       "1  795          New York\n",
       "2  692          New York\n",
       "3 1325          New York\n",
       "4  703          New York\n",
       "5  329          New York"
      ]
     },
     "metadata": {},
     "output_type": "display_data"
    }
   ],
   "source": [
    "# Step 4: (4.2)\n",
    "# Check on the new dataframe\n",
    "\n",
    "head(wa.merge,5)\n",
    "head(chi.merge,5)\n",
    "head(ny.merge,5)"
   ]
  },
  {
   "cell_type": "code",
   "execution_count": 69,
   "metadata": {},
   "outputs": [],
   "source": [
    "# Step 5: (5.1)\n",
    "# Combines those three new datasets into \"combined_cities\" dataset.\n",
    "combined_cities <- rbind(wa.merge, chi.merge, ny.merge)"
   ]
  },
  {
   "cell_type": "code",
   "execution_count": 70,
   "metadata": {},
   "outputs": [
    {
     "data": {
      "text/html": [
       "<ol class=list-inline>\n",
       "\t<li>152451</li>\n",
       "\t<li>2</li>\n",
       "</ol>\n"
      ],
      "text/latex": [
       "\\begin{enumerate*}\n",
       "\\item 152451\n",
       "\\item 2\n",
       "\\end{enumerate*}\n"
      ],
      "text/markdown": [
       "1. 152451\n",
       "2. 2\n",
       "\n",
       "\n"
      ],
      "text/plain": [
       "[1] 152451      2"
      ]
     },
     "metadata": {},
     "output_type": "display_data"
    }
   ],
   "source": [
    "# Step 5: (5.2)\n",
    "# Uses dim() function to check the result from the combination.\n",
    "\n",
    "dim(combined_cities)"
   ]
  },
  {
   "cell_type": "code",
   "execution_count": 71,
   "metadata": {},
   "outputs": [
    {
     "name": "stderr",
     "output_type": "stream",
     "text": [
      "Warning message:\n",
      "“Ignoring unknown parameters: fun”Warning message:\n",
      "“Removed 47401 rows containing non-finite values (stat_boxplot).”Warning message:\n",
      "“Removed 47401 rows containing non-finite values (stat_summary).”No summary function supplied, defaulting to `mean_se()\n"
     ]
    },
    {
     "data": {
      "image/png": "[encoded data removed]",
      "text/plain": [
       "plot without title"
      ]
     },
     "metadata": {},
     "output_type": "display_data"
    }
   ],
   "source": [
    "# Step 6: (6.1)\n",
    "# Using the qplot() to plot the three cities into three different boxplot.\n",
    "# Uses the ylim() to limit the range containing the average duration in each city. Otherwise, \n",
    "# The charts contain many ouliers values. \n",
    "\n",
    "ggplot(combined_cities, aes(x = City, y = Trip.Duration, fill = City)) +\n",
    "  geom_boxplot() + # Create the boxplot\n",
    "  stat_summary(fun = mean, geom = \"point\", color = \"red\", size = 3, shape = 18) +\n",
    "  ylim(0, 1000) +\n",
    "  labs(title = \"Trip Duration by City\", x = \"City\", y = \"Duration (Second)\")+\n",
    "  theme_minimal()"
   ]
  },
  {
   "cell_type": "markdown",
   "metadata": {},
   "source": [
    "### Step 7: Conclusion\n",
    "\n",
    "- The \"Trip Duration By City\" shows the overall similarity pattern from the three cities, with an average use time of around 500 seconds (~8.3 minutes) for a trip (the red points). Washington City has the highest average duration compared with the other two cities, but it is insignificant. \n",
    "\n",
    "**Summary**: People will use their bikes to commute to their destinations, mostly in less than 10 minutes. \n"
   ]
  },
  {
   "cell_type": "markdown",
   "metadata": {},
   "source": [
    "# <span style=\"color:lightblue;\">Question 3 </span>\n",
    "\n",
    "### What is the count of each gender? (NYC and Chicago cities)"
   ]
  },
  {
   "cell_type": "markdown",
   "metadata": {},
   "source": [
    "General main steps to get to compare the amount of user gender in New York and Chicago cities: \n",
    "- Step 1: Use the copied dataset of NYC and Chicago above to find the answer to this question.\n",
    "- Step 2: Create two new datasets containing the \"City\" and \"gender\" columns. \n",
    "- Step 3: Combine the two new datasets into a **combined_cities2** dataset.\n",
    "- Step 4: Plots the **combined_cities2** dataset.\n",
    "- Step 5: Conclusion. "
   ]
  },
  {
   "cell_type": "code",
   "execution_count": 72,
   "metadata": {},
   "outputs": [
    {
     "data": {
      "text/html": [
       "<table>\n",
       "<thead><tr><th scope=col>X</th><th scope=col>Start.Time</th><th scope=col>End.Time</th><th scope=col>Trip.Duration</th><th scope=col>Start.Station</th><th scope=col>End.Station</th><th scope=col>User.Type</th><th scope=col>Gender</th><th scope=col>Birth.Year</th><th scope=col>City</th></tr></thead>\n",
       "<tbody>\n",
       "\t<tr><td>5688089                    </td><td>2017-06-11 14:55:05        </td><td>2017-06-11 15:08:21        </td><td> 795                       </td><td>Suffolk St &amp; Stanton St</td><td>W Broadway &amp; Spring St </td><td>Subscriber                 </td><td>Male                       </td><td>1998                       </td><td>New York                   </td></tr>\n",
       "\t<tr><td>4096714                                                           </td><td>2017-05-11 15:30:11                                               </td><td>2017-05-11 15:41:43                                               </td><td> 692                                                              </td><td>Lexington Ave &amp; E 63 St                                       </td><td><span style=white-space:pre-wrap>1 Ave &amp; E 78 St       </span></td><td>Subscriber                                                        </td><td>Male                                                              </td><td>1981                                                              </td><td>New York                                                          </td></tr>\n",
       "\t<tr><td>2173887                                                            </td><td>2017-03-29 13:26:26                                                </td><td>2017-03-29 13:48:31                                                </td><td>1325                                                               </td><td><span style=white-space:pre-wrap>1 Pl &amp; Clinton St      </span></td><td><span style=white-space:pre-wrap>Henry St &amp; Degraw St  </span> </td><td>Subscriber                                                         </td><td>Male                                                               </td><td>1987                                                               </td><td>New York                                                           </td></tr>\n",
       "</tbody>\n",
       "</table>\n"
      ],
      "text/latex": [
       "\\begin{tabular}{r|llllllllll}\n",
       " X & Start.Time & End.Time & Trip.Duration & Start.Station & End.Station & User.Type & Gender & Birth.Year & City\\\\\n",
       "\\hline\n",
       "\t 5688089                   & 2017-06-11 14:55:05       & 2017-06-11 15:08:21       &  795                      & Suffolk St \\& Stanton St & W Broadway \\& Spring St  & Subscriber                & Male                      & 1998                      & New York                 \\\\\n",
       "\t 4096714                   & 2017-05-11 15:30:11       & 2017-05-11 15:41:43       &  692                      & Lexington Ave \\& E 63 St & 1 Ave \\& E 78 St         & Subscriber                & Male                      & 1981                      & New York                 \\\\\n",
       "\t 2173887                   & 2017-03-29 13:26:26       & 2017-03-29 13:48:31       & 1325                      & 1 Pl \\& Clinton St       & Henry St \\& Degraw St    & Subscriber                & Male                      & 1987                      & New York                 \\\\\n",
       "\\end{tabular}\n"
      ],
      "text/markdown": [
       "\n",
       "| X | Start.Time | End.Time | Trip.Duration | Start.Station | End.Station | User.Type | Gender | Birth.Year | City |\n",
       "|---|---|---|---|---|---|---|---|---|---|\n",
       "| 5688089                 | 2017-06-11 14:55:05     | 2017-06-11 15:08:21     |  795                    | Suffolk St & Stanton St | W Broadway & Spring St  | Subscriber              | Male                    | 1998                    | New York                |\n",
       "| 4096714                 | 2017-05-11 15:30:11     | 2017-05-11 15:41:43     |  692                    | Lexington Ave & E 63 St | 1 Ave & E 78 St         | Subscriber              | Male                    | 1981                    | New York                |\n",
       "| 2173887                 | 2017-03-29 13:26:26     | 2017-03-29 13:48:31     | 1325                    | 1 Pl & Clinton St       | Henry St & Degraw St    | Subscriber              | Male                    | 1987                    | New York                |\n",
       "\n"
      ],
      "text/plain": [
       "  X       Start.Time          End.Time            Trip.Duration\n",
       "1 5688089 2017-06-11 14:55:05 2017-06-11 15:08:21  795         \n",
       "2 4096714 2017-05-11 15:30:11 2017-05-11 15:41:43  692         \n",
       "3 2173887 2017-03-29 13:26:26 2017-03-29 13:48:31 1325         \n",
       "  Start.Station           End.Station            User.Type  Gender Birth.Year\n",
       "1 Suffolk St & Stanton St W Broadway & Spring St Subscriber Male   1998      \n",
       "2 Lexington Ave & E 63 St 1 Ave & E 78 St        Subscriber Male   1981      \n",
       "3 1 Pl & Clinton St       Henry St & Degraw St   Subscriber Male   1987      \n",
       "  City    \n",
       "1 New York\n",
       "2 New York\n",
       "3 New York"
      ]
     },
     "metadata": {},
     "output_type": "display_data"
    },
    {
     "data": {
      "text/html": [
       "<table>\n",
       "<thead><tr><th scope=col>X</th><th scope=col>Start.Time</th><th scope=col>End.Time</th><th scope=col>Trip.Duration</th><th scope=col>Start.Station</th><th scope=col>End.Station</th><th scope=col>User.Type</th><th scope=col>Gender</th><th scope=col>Birth.Year</th><th scope=col>City</th></tr></thead>\n",
       "<tbody>\n",
       "\t<tr><td>1423854                                                                 </td><td>2017-06-23 15:09:32                                                     </td><td>2017-06-23 15:14:53                                                     </td><td> 321                                                                    </td><td>Wood St &amp; Hubbard St                                                </td><td><span style=white-space:pre-wrap>Damen Ave &amp; Chicago Ave     </span></td><td>Subscriber                                                              </td><td><span style=white-space:pre-wrap>Male  </span>                          </td><td>1992                                                                    </td><td>Chicago                                                                 </td></tr>\n",
       "\t<tr><td> 955915                         </td><td>2017-05-25 18:19:03             </td><td>2017-05-25 18:45:53             </td><td>1610                            </td><td>Theater on the Lake             </td><td>Sheffield Ave &amp; Waveland Ave</td><td>Subscriber                      </td><td>Female                          </td><td>1992                            </td><td>Chicago                         </td></tr>\n",
       "\t<tr><td><span style=white-space:pre-wrap>   9031</span>                         </td><td>2017-01-04 08:27:49                                                     </td><td>2017-01-04 08:34:45                                                     </td><td> 416                                                                    </td><td><span style=white-space:pre-wrap>May St &amp; Taylor St  </span>        </td><td><span style=white-space:pre-wrap>Wood St &amp; Taylor St         </span></td><td>Subscriber                                                              </td><td><span style=white-space:pre-wrap>Male  </span>                          </td><td>1981                                                                    </td><td>Chicago                                                                 </td></tr>\n",
       "</tbody>\n",
       "</table>\n"
      ],
      "text/latex": [
       "\\begin{tabular}{r|llllllllll}\n",
       " X & Start.Time & End.Time & Trip.Duration & Start.Station & End.Station & User.Type & Gender & Birth.Year & City\\\\\n",
       "\\hline\n",
       "\t 1423854                        & 2017-06-23 15:09:32            & 2017-06-23 15:14:53            &  321                           & Wood St \\& Hubbard St         & Damen Ave \\& Chicago Ave      & Subscriber                     & Male                           & 1992                           & Chicago                       \\\\\n",
       "\t  955915                        & 2017-05-25 18:19:03            & 2017-05-25 18:45:53            & 1610                           & Theater on the Lake            & Sheffield Ave \\& Waveland Ave & Subscriber                     & Female                         & 1992                           & Chicago                       \\\\\n",
       "\t    9031                        & 2017-01-04 08:27:49            & 2017-01-04 08:34:45            &  416                           & May St \\& Taylor St           & Wood St \\& Taylor St          & Subscriber                     & Male                           & 1981                           & Chicago                       \\\\\n",
       "\\end{tabular}\n"
      ],
      "text/markdown": [
       "\n",
       "| X | Start.Time | End.Time | Trip.Duration | Start.Station | End.Station | User.Type | Gender | Birth.Year | City |\n",
       "|---|---|---|---|---|---|---|---|---|---|\n",
       "| 1423854                      | 2017-06-23 15:09:32          | 2017-06-23 15:14:53          |  321                         | Wood St & Hubbard St         | Damen Ave & Chicago Ave      | Subscriber                   | Male                         | 1992                         | Chicago                      |\n",
       "|  955915                      | 2017-05-25 18:19:03          | 2017-05-25 18:45:53          | 1610                         | Theater on the Lake          | Sheffield Ave & Waveland Ave | Subscriber                   | Female                       | 1992                         | Chicago                      |\n",
       "|    9031                      | 2017-01-04 08:27:49          | 2017-01-04 08:34:45          |  416                         | May St & Taylor St           | Wood St & Taylor St          | Subscriber                   | Male                         | 1981                         | Chicago                      |\n",
       "\n"
      ],
      "text/plain": [
       "  X       Start.Time          End.Time            Trip.Duration\n",
       "1 1423854 2017-06-23 15:09:32 2017-06-23 15:14:53  321         \n",
       "2  955915 2017-05-25 18:19:03 2017-05-25 18:45:53 1610         \n",
       "3    9031 2017-01-04 08:27:49 2017-01-04 08:34:45  416         \n",
       "  Start.Station        End.Station                  User.Type  Gender\n",
       "1 Wood St & Hubbard St Damen Ave & Chicago Ave      Subscriber Male  \n",
       "2 Theater on the Lake  Sheffield Ave & Waveland Ave Subscriber Female\n",
       "3 May St & Taylor St   Wood St & Taylor St          Subscriber Male  \n",
       "  Birth.Year City   \n",
       "1 1992       Chicago\n",
       "2 1992       Chicago\n",
       "3 1981       Chicago"
      ]
     },
     "metadata": {},
     "output_type": "display_data"
    }
   ],
   "source": [
    "# Step 1: (1.1)\n",
    "# Print out to check the dataset of New York and Chicago cities from the previous task.\n",
    "\n",
    "head(ny.copy,3)\n",
    "head(chi.copy,3)"
   ]
  },
  {
   "cell_type": "code",
   "execution_count": 73,
   "metadata": {},
   "outputs": [],
   "source": [
    "# Step 2: (2.1)\n",
    "# Creates two new datasets for each city containing the \"Gender\" and \"City\" columns\n",
    "ny.merge2 <- ny.copy[,c(\"Gender\",\"City\")]\n",
    "chi.merge2 <- chi.copy[,c(\"Gender\",\"City\")]"
   ]
  },
  {
   "cell_type": "code",
   "execution_count": 74,
   "metadata": {},
   "outputs": [],
   "source": [
    "# Step 3: (3.1)\n",
    "# Combines those two new dataframes and assigns to combined_cities2 \n",
    "combined_cities2 <- rbind(ny.merge2,chi.merge2)"
   ]
  },
  {
   "cell_type": "code",
   "execution_count": 75,
   "metadata": {
    "scrolled": true
   },
   "outputs": [
    {
     "data": {
      "text/html": [
       "<table>\n",
       "<thead><tr><th scope=col>Gender</th><th scope=col>City</th></tr></thead>\n",
       "<tbody>\n",
       "\t<tr><td>Male    </td><td>New York</td></tr>\n",
       "\t<tr><td>Male    </td><td>New York</td></tr>\n",
       "\t<tr><td>Male    </td><td>New York</td></tr>\n",
       "\t<tr><td>Female  </td><td>New York</td></tr>\n",
       "\t<tr><td>Male    </td><td>New York</td></tr>\n",
       "</tbody>\n",
       "</table>\n"
      ],
      "text/latex": [
       "\\begin{tabular}{r|ll}\n",
       " Gender & City\\\\\n",
       "\\hline\n",
       "\t Male     & New York\\\\\n",
       "\t Male     & New York\\\\\n",
       "\t Male     & New York\\\\\n",
       "\t Female   & New York\\\\\n",
       "\t Male     & New York\\\\\n",
       "\\end{tabular}\n"
      ],
      "text/markdown": [
       "\n",
       "| Gender | City |\n",
       "|---|---|\n",
       "| Male     | New York |\n",
       "| Male     | New York |\n",
       "| Male     | New York |\n",
       "| Female   | New York |\n",
       "| Male     | New York |\n",
       "\n"
      ],
      "text/plain": [
       "  Gender City    \n",
       "1 Male   New York\n",
       "2 Male   New York\n",
       "3 Male   New York\n",
       "4 Female New York\n",
       "5 Male   New York"
      ]
     },
     "metadata": {},
     "output_type": "display_data"
    }
   ],
   "source": [
    "# Step 3: (3.2)\n",
    "# Print out to see the first couple rows in the combined dataframe\n",
    "head(combined_cities2,5)"
   ]
  },
  {
   "cell_type": "code",
   "execution_count": 76,
   "metadata": {
    "scrolled": true
   },
   "outputs": [
    {
     "data": {
      "image/png": "[encoded data removed]",
      "text/plain": [
       "plot without title"
      ]
     },
     "metadata": {},
     "output_type": "display_data"
    }
   ],
   "source": [
    "# Step 4: (4.1)\n",
    "# Uses the bar chart to demonstrate the different of genders\n",
    "\n",
    "ggplot(combined_cities2,aes(x=City, fill=Gender)) +\n",
    "geom_bar(position=\"dodge\")+\n",
    "labs(title = \"Count of Users by City and Gender\", x = \"City\", y = \"Count\")+\n",
    "theme_minimal()"
   ]
  },
  {
   "cell_type": "code",
   "execution_count": 77,
   "metadata": {},
   "outputs": [
    {
     "data": {
      "text/plain": [
       "\n",
       "       Female   Male \n",
       "  7158  13882  42360 "
      ]
     },
     "metadata": {},
     "output_type": "display_data"
    }
   ],
   "source": [
    "# Step 4: (4.2)\n",
    "# Use table() function to get the statistical values from the combined_cities2 data frame\n",
    "\n",
    "table(combined_cities2$Gender)"
   ]
  },
  {
   "cell_type": "markdown",
   "metadata": {},
   "source": [
    "### Step 5: Conclusion\n",
    "- Chart description: The red bar represents a portion of the LGBT gender and does not clarify gender users. \n",
    "- The \"Count of Users by City and Gender\" shows that the majority of users in both cities are male (42,360 users), which is almost three times the amount of female users (13,882 users).\n",
    "- The unclarity portion has the least users in the three groups (7,158). \n",
    "\n",
    "\n",
    " **Summary:** The BikeShare company can utilize this insight to target the next marketing campaign. "
   ]
  },
  {
   "cell_type": "code",
   "execution_count": 79,
   "metadata": {},
   "outputs": [],
   "source": [
    "system('python -m nbconvert Explore_bikeshare_data.ipynb')"
   ]
  },
  {
   "cell_type": "code",
   "execution_count": null,
   "metadata": {},
   "outputs": [],
   "source": []
  }
 ],
 "metadata": {
  "kernelspec": {
   "display_name": "R",
   "language": "R",
   "name": "ir"
  },
  "language_info": {
   "codemirror_mode": "r",
   "file_extension": ".r",
   "mimetype": "text/x-r-source",
   "name": "R",
   "pygments_lexer": "r",
   "version": "3.5.1"
  }
 },
 "nbformat": 4,
 "nbformat_minor": 2
}
