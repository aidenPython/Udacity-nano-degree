{
 "cells": [
  {
   "cell_type": "markdown",
   "metadata": {},
   "source": [
    "# ETL Processes\n",
    "Use this notebook to develop the ETL process for each of your tables before completing the `etl.py` file to load the whole datasets."
   ]
  },
  {
   "cell_type": "code",
   "execution_count": 40,
   "metadata": {},
   "outputs": [],
   "source": [
    "# Imports all the needed library\n",
    "import os #library to interact with the operating system\n",
    "import glob #library to interact with the data files\n",
    "import psycopg2 #library to interact with the postgreSQL database system\n",
    "import pandas as pd #library to inreact with structuring data\n",
    "import json #library to interact with the json file\n",
    "from sql_queries import * # the model contain related SQL functions"
   ]
  },
  {
   "cell_type": "code",
   "execution_count": 3,
   "metadata": {},
   "outputs": [],
   "source": [
    "# Uses the psycopg2 library to connect to the postgreSQL database \n",
    "# Runs after generate the create_tables.py in terminal\n",
    "conn = psycopg2.connect(\"host=127.0.0.1 dbname=sparkifydb user=student password=student\")\n",
    "cur = conn.cursor()"
   ]
  },
  {
   "cell_type": "code",
   "execution_count": 4,
   "metadata": {},
   "outputs": [],
   "source": [
    "# This python function helps to retrieve all the .json files inside the direction folder.\n",
    "def get_files(filepath):\n",
    "    all_files = []\n",
    "    for root, dirs, files in os.walk(filepath):\n",
    "        files = glob.glob(os.path.join(root,'*.json'))\n",
    "        for f in files :\n",
    "            all_files.append(os.path.abspath(f))\n",
    "    \n",
    "    return all_files"
   ]
  },
  {
   "cell_type": "markdown",
   "metadata": {},
   "source": [
    "# Process `song_data`\n",
    "In this first part, you'll perform ETL on the first dataset, `song_data`, to create the `songs` and `artists` dimensional tables.\n",
    "\n",
    "Let's perform ETL on a single song file and load a single record into each table to start.\n",
    "- Use the `get_files` function provided above to get a list of all song JSON files in `data/song_data`\n",
    "- Select the first song in this list\n",
    "- Read the song file and view the data"
   ]
  },
  {
   "cell_type": "code",
   "execution_count": 5,
   "metadata": {
    "scrolled": true
   },
   "outputs": [
    {
     "data": {
      "text/plain": [
       "['/workspace/home/data/song_data/A/B/C/TRABCEC128F426456E.json',\n",
       " '/workspace/home/data/song_data/A/B/C/TRABCUQ128E0783E2B.json',\n",
       " '/workspace/home/data/song_data/A/B/C/TRABCFL128F149BB0D.json',\n",
       " '/workspace/home/data/song_data/A/B/C/TRABCTK128F934B224.json',\n",
       " '/workspace/home/data/song_data/A/B/C/TRABCPZ128F4275C32.json',\n",
       " '/workspace/home/data/song_data/A/B/C/TRABCKL128F423A778.json',\n",
       " '/workspace/home/data/song_data/A/B/C/TRABCIX128F4265903.json',\n",
       " '/workspace/home/data/song_data/A/B/C/TRABCAJ12903CDFCC2.json',\n",
       " '/workspace/home/data/song_data/A/B/C/TRABCRU128F423F449.json',\n",
       " '/workspace/home/data/song_data/A/B/C/TRABCYE128F934CE1D.json',\n",
       " '/workspace/home/data/song_data/A/B/C/TRABCXB128F4286BD3.json',\n",
       " '/workspace/home/data/song_data/A/B/C/TRABCEI128F424C983.json',\n",
       " '/workspace/home/data/song_data/A/B/B/TRABBJE12903CDB442.json',\n",
       " '/workspace/home/data/song_data/A/B/B/TRABBAM128F429D223.json',\n",
       " '/workspace/home/data/song_data/A/B/B/TRABBLU128F93349CF.json',\n",
       " '/workspace/home/data/song_data/A/B/B/TRABBNP128F932546F.json',\n",
       " '/workspace/home/data/song_data/A/B/B/TRABBZN12903CD9297.json',\n",
       " '/workspace/home/data/song_data/A/B/B/TRABBXU128F92FEF48.json',\n",
       " '/workspace/home/data/song_data/A/B/B/TRABBOP128F931B50D.json',\n",
       " '/workspace/home/data/song_data/A/B/B/TRABBKX128F4285205.json',\n",
       " '/workspace/home/data/song_data/A/B/B/TRABBVJ128F92F7EAA.json',\n",
       " '/workspace/home/data/song_data/A/B/B/TRABBOR128F4286200.json',\n",
       " '/workspace/home/data/song_data/A/B/B/TRABBTA128F933D304.json',\n",
       " '/workspace/home/data/song_data/A/B/B/TRABBBV128F42967D7.json',\n",
       " '/workspace/home/data/song_data/A/B/A/TRABAXV128F92F6AE3.json',\n",
       " '/workspace/home/data/song_data/A/B/A/TRABATO128F42627E9.json',\n",
       " '/workspace/home/data/song_data/A/B/A/TRABAIO128F42938F9.json',\n",
       " '/workspace/home/data/song_data/A/B/A/TRABAFP128F931E9A1.json',\n",
       " '/workspace/home/data/song_data/A/B/A/TRABAXR128F426515F.json',\n",
       " '/workspace/home/data/song_data/A/B/A/TRABACN128F425B784.json',\n",
       " '/workspace/home/data/song_data/A/B/A/TRABAVQ12903CBF7E0.json',\n",
       " '/workspace/home/data/song_data/A/B/A/TRABAFJ128F42AF24E.json',\n",
       " '/workspace/home/data/song_data/A/B/A/TRABAXL128F424FC50.json',\n",
       " '/workspace/home/data/song_data/A/B/A/TRABAZH128F930419A.json',\n",
       " '/workspace/home/data/song_data/A/B/A/TRABAWW128F4250A31.json',\n",
       " '/workspace/home/data/song_data/A/A/C/TRAACPE128F421C1B9.json',\n",
       " '/workspace/home/data/song_data/A/A/C/TRAACLV128F427E123.json',\n",
       " '/workspace/home/data/song_data/A/A/C/TRAACSL128F93462F4.json',\n",
       " '/workspace/home/data/song_data/A/A/C/TRAACCG128F92E8A55.json',\n",
       " '/workspace/home/data/song_data/A/A/C/TRAACTB12903CAAF15.json',\n",
       " '/workspace/home/data/song_data/A/A/C/TRAACQT128F9331780.json',\n",
       " '/workspace/home/data/song_data/A/A/C/TRAACHN128F1489601.json',\n",
       " '/workspace/home/data/song_data/A/A/C/TRAACER128F4290F96.json',\n",
       " '/workspace/home/data/song_data/A/A/C/TRAACFV128F935E50B.json',\n",
       " '/workspace/home/data/song_data/A/A/C/TRAACIW12903CC0F6D.json',\n",
       " '/workspace/home/data/song_data/A/A/C/TRAACZK128F4243829.json',\n",
       " '/workspace/home/data/song_data/A/A/C/TRAACVS128E078BE39.json',\n",
       " '/workspace/home/data/song_data/A/A/C/TRAACOW128F933E35F.json',\n",
       " '/workspace/home/data/song_data/A/A/C/TRAACNS128F14A2DF5.json',\n",
       " '/workspace/home/data/song_data/A/A/B/TRAABYN12903CFD305.json',\n",
       " '/workspace/home/data/song_data/A/A/B/TRAABYW128F4244559.json',\n",
       " '/workspace/home/data/song_data/A/A/B/TRAABXG128F9318EBD.json',\n",
       " '/workspace/home/data/song_data/A/A/B/TRAABLR128F423B7E3.json',\n",
       " '/workspace/home/data/song_data/A/A/B/TRAABDL12903CAABBA.json',\n",
       " '/workspace/home/data/song_data/A/A/B/TRAABVM128F92CA9DC.json',\n",
       " '/workspace/home/data/song_data/A/A/B/TRAABJV128F1460C49.json',\n",
       " '/workspace/home/data/song_data/A/A/B/TRAABJL12903CDCF1A.json',\n",
       " '/workspace/home/data/song_data/A/A/B/TRAABCL128F4286650.json',\n",
       " '/workspace/home/data/song_data/A/A/B/TRAABRB128F9306DD5.json',\n",
       " '/workspace/home/data/song_data/A/A/B/TRAABNV128F425CEE1.json',\n",
       " '/workspace/home/data/song_data/A/A/A/TRAAAFD128F92F423A.json',\n",
       " '/workspace/home/data/song_data/A/A/A/TRAAAMO128F1481E7F.json',\n",
       " '/workspace/home/data/song_data/A/A/A/TRAAAPK128E0786D96.json',\n",
       " '/workspace/home/data/song_data/A/A/A/TRAAAVG12903CFA543.json',\n",
       " '/workspace/home/data/song_data/A/A/A/TRAAAVO128F93133D4.json',\n",
       " '/workspace/home/data/song_data/A/A/A/TRAAAMQ128F1460CD3.json',\n",
       " '/workspace/home/data/song_data/A/A/A/TRAAABD128F429CF47.json',\n",
       " '/workspace/home/data/song_data/A/A/A/TRAAARJ128F9320760.json',\n",
       " '/workspace/home/data/song_data/A/A/A/TRAAAEF128F4273421.json',\n",
       " '/workspace/home/data/song_data/A/A/A/TRAAADZ128F9348C2E.json',\n",
       " '/workspace/home/data/song_data/A/A/A/TRAAAAW128F429D538.json']"
      ]
     },
     "execution_count": 5,
     "metadata": {},
     "output_type": "execute_result"
    }
   ],
   "source": [
    "# Implements the get_files() function to retrieve all .json files in the song_data folder.\n",
    "# Assigns the song_files as a list contain those files.\n",
    "song_files = get_files('data/song_data')\n",
    "# Print out the list of retrieved files to check.\n",
    "song_files"
   ]
  },
  {
   "cell_type": "code",
   "execution_count": 6,
   "metadata": {},
   "outputs": [
    {
     "data": {
      "text/plain": [
       "71"
      ]
     },
     "execution_count": 6,
     "metadata": {},
     "output_type": "execute_result"
    }
   ],
   "source": [
    "# Print out number of the current .json files inside the song_data folder. (71 records)\n",
    "# Each of this file contains the infomation of each song.\n",
    "len(song_files)"
   ]
  },
  {
   "cell_type": "code",
   "execution_count": 7,
   "metadata": {},
   "outputs": [
    {
     "data": {
      "text/plain": [
       "'/workspace/home/data/song_data/A/B/C/TRABCEC128F426456E.json'"
      ]
     },
     "execution_count": 7,
     "metadata": {},
     "output_type": "execute_result"
    }
   ],
   "source": [
    "# Assigns the filepath as the first .json file in the the song_files list.\n",
    "filepath = song_files[0]\n",
    "# Print out the file direction path.\n",
    "filepath"
   ]
  },
  {
   "cell_type": "code",
   "execution_count": 8,
   "metadata": {},
   "outputs": [
    {
     "data": {
      "text/html": [
       "<div>\n",
       "<style scoped>\n",
       "    .dataframe tbody tr th:only-of-type {\n",
       "        vertical-align: middle;\n",
       "    }\n",
       "\n",
       "    .dataframe tbody tr th {\n",
       "        vertical-align: top;\n",
       "    }\n",
       "\n",
       "    .dataframe thead th {\n",
       "        text-align: right;\n",
       "    }\n",
       "</style>\n",
       "<table border=\"1\" class=\"dataframe\">\n",
       "  <thead>\n",
       "    <tr style=\"text-align: right;\">\n",
       "      <th></th>\n",
       "      <th>artist_id</th>\n",
       "      <th>artist_latitude</th>\n",
       "      <th>artist_location</th>\n",
       "      <th>artist_longitude</th>\n",
       "      <th>artist_name</th>\n",
       "      <th>duration</th>\n",
       "      <th>num_songs</th>\n",
       "      <th>song_id</th>\n",
       "      <th>title</th>\n",
       "      <th>year</th>\n",
       "    </tr>\n",
       "  </thead>\n",
       "  <tbody>\n",
       "    <tr>\n",
       "      <th>0</th>\n",
       "      <td>AR0IAWL1187B9A96D0</td>\n",
       "      <td>8.4177</td>\n",
       "      <td>Panama</td>\n",
       "      <td>-80.11278</td>\n",
       "      <td>Danilo Perez</td>\n",
       "      <td>197.19791</td>\n",
       "      <td>1</td>\n",
       "      <td>SONSKXP12A8C13A2C9</td>\n",
       "      <td>Native Soul</td>\n",
       "      <td>2003</td>\n",
       "    </tr>\n",
       "  </tbody>\n",
       "</table>\n",
       "</div>"
      ],
      "text/plain": [
       "            artist_id  artist_latitude artist_location  artist_longitude  \\\n",
       "0  AR0IAWL1187B9A96D0           8.4177          Panama         -80.11278   \n",
       "\n",
       "    artist_name   duration  num_songs             song_id        title  year  \n",
       "0  Danilo Perez  197.19791          1  SONSKXP12A8C13A2C9  Native Soul  2003  "
      ]
     },
     "execution_count": 8,
     "metadata": {},
     "output_type": "execute_result"
    }
   ],
   "source": [
    "# Uses pandas function to read that first json file and assigns the data into df dataframe.\n",
    "df = pd.read_json(filepath,lines=True)\n",
    "# Print out the information inside that df.\n",
    "df.head()"
   ]
  },
  {
   "cell_type": "markdown",
   "metadata": {},
   "source": [
    "## #1: `songs` Table\n",
    "#### Extract Data for Songs Table\n",
    "- Select columns for song ID, title, artist ID, year, and duration\n",
    "- Use `df.values` to select just the values from the dataframe\n",
    "- Index to select the first (only) record in the dataframe\n",
    "- Convert the array to a list and set it to `song_data`"
   ]
  },
  {
   "cell_type": "code",
   "execution_count": 9,
   "metadata": {
    "scrolled": true
   },
   "outputs": [
    {
     "data": {
      "text/plain": [
       "['SONSKXP12A8C13A2C9', 'Native Soul', 'AR0IAWL1187B9A96D0', 2003, 197.19791]"
      ]
     },
     "execution_count": 9,
     "metadata": {},
     "output_type": "execute_result"
    }
   ],
   "source": [
    "# Uses the pandas fucntion to interact with the dataframe and retrieve only needed data.\n",
    "# The needed data will insert into the songs table in the postgreSQL database later.\n",
    "song_data = df[['song_id', 'title', 'artist_id', 'year', 'duration']].values[0].tolist()\n",
    "# Print out the data to check\n",
    "song_data\n"
   ]
  },
  {
   "cell_type": "markdown",
   "metadata": {},
   "source": [
    "#### Insert Record into Song Table\n",
    "Implement the `song_table_insert` query in `sql_queries.py` and run the cell below to insert a record for this song into the `songs` table. Remember to run `create_tables.py` before running the cell below to ensure you've created/resetted the `songs` table in the sparkify database."
   ]
  },
  {
   "cell_type": "code",
   "execution_count": 10,
   "metadata": {},
   "outputs": [
    {
     "name": "stdout",
     "output_type": "stream",
     "text": [
      "SQL Query: INSERT INTO songs(song_id, title, artist_id, year, duration) VALUES(%s,%s,%s,%s,%s) ON CONFLICT (song_id) DO NOTHING;\n",
      "Data: ['SONSKXP12A8C13A2C9', 'Native Soul', 'AR0IAWL1187B9A96D0', 2003, 197.19791]\n"
     ]
    }
   ],
   "source": [
    "# Print out the song_table_insert query in the sql_queries.py to ensure it correct syntax.\n",
    "print(\"SQL Query:\", song_table_insert)\n",
    "# Print out the data inside the assigned song_data list to ensure before implement the insert.\n",
    "print(\"Data:\", song_data)"
   ]
  },
  {
   "cell_type": "code",
   "execution_count": 11,
   "metadata": {
    "scrolled": false
   },
   "outputs": [],
   "source": [
    "# Uses the curr.execute() function of the psycopg2 library to implement the inserting to tables inside the database.\n",
    "cur.execute(song_table_insert, song_data)\n",
    "# To commit all the change in the databases. \n",
    "conn.commit()"
   ]
  },
  {
   "cell_type": "markdown",
   "metadata": {},
   "source": [
    "Run `test.ipynb` to see if you've successfully added a record to this table.\n",
    "\n",
    "**The result from the test should show one record in the songs table.**"
   ]
  },
  {
   "cell_type": "markdown",
   "metadata": {},
   "source": [
    "## #2: `artists` Table\n",
    "#### Extract Data for Artists Table\n",
    "- Select columns for artist ID, name, location, latitude, and longitude\n",
    "- Use `df.values` to select just the values from the dataframe\n",
    "- Index to select the first (only) record in the dataframe\n",
    "- Convert the array to a list and set it to `artist_data`"
   ]
  },
  {
   "cell_type": "code",
   "execution_count": 12,
   "metadata": {},
   "outputs": [],
   "source": [
    "# Retrieves needed data and adds it to the assigned artist_data from the same json file above.\n",
    "artist_data = df[['artist_id','artist_name','artist_location','artist_latitude','artist_longitude']].values[0].tolist()"
   ]
  },
  {
   "cell_type": "markdown",
   "metadata": {},
   "source": [
    "#### Insert Record into Artist Table\n",
    "Implement the `artist_table_insert` query in `sql_queries.py` and run the cell below to insert a record for this song's artist into the `artists` table. Remember to run `create_tables.py` before running the cell below to ensure you've created/resetted the `artists` table in the sparkify database."
   ]
  },
  {
   "cell_type": "code",
   "execution_count": 13,
   "metadata": {},
   "outputs": [
    {
     "name": "stdout",
     "output_type": "stream",
     "text": [
      "SQL Query: INSERT INTO artists(artist_id, name, location, latitude, longitude) VALUES(%s,%s,%s,%s,%s) ON CONFLICT (artist_id) DO NOTHING;\n",
      "Data: ['AR0IAWL1187B9A96D0', 'Danilo Perez', 'Panama', 8.4177, -80.11278]\n"
     ]
    }
   ],
   "source": [
    "# Print out the art_table_insert query in the sql_queries.py to ensure it correct syntax.\n",
    "print(\"SQL Query:\", artist_table_insert)\n",
    "# Print out the data inside the assigned artist_data list to ensure before implement the insert.\n",
    "print(\"Data:\", artist_data)"
   ]
  },
  {
   "cell_type": "code",
   "execution_count": 14,
   "metadata": {},
   "outputs": [],
   "source": [
    "# Uses the curr.execute() function of the psycopg2 library to implement the inserting to tables inside the database.\n",
    "cur.execute(artist_table_insert, artist_data)\n",
    "# To commit all the change in the databases. \n",
    "conn.commit()"
   ]
  },
  {
   "cell_type": "markdown",
   "metadata": {},
   "source": [
    "Run `test.ipynb` to see if you've successfully added a record to this table.\n",
    "\n",
    "**(The table artists in the database should show one record for now).**"
   ]
  },
  {
   "cell_type": "markdown",
   "metadata": {},
   "source": [
    "# Process `log_data`\n",
    "In this part, you'll perform ETL on the second dataset, `log_data`, to create the `time` and `users` dimensional tables, as well as the `songplays` fact table.\n",
    "\n",
    "Let's perform ETL on a single log file and load a single record into each table.\n",
    "- Use the `get_files` function provided above to get a list of all log JSON files in `data/log_data`\n",
    "- Select the first log file in this list\n",
    "- Read the log file and view the data"
   ]
  },
  {
   "cell_type": "code",
   "execution_count": 15,
   "metadata": {
    "scrolled": true
   },
   "outputs": [
    {
     "data": {
      "text/plain": [
       "['/workspace/home/data/log_data/2018/11/2018-11-28-events.json',\n",
       " '/workspace/home/data/log_data/2018/11/2018-11-16-events.json',\n",
       " '/workspace/home/data/log_data/2018/11/2018-11-05-events.json',\n",
       " '/workspace/home/data/log_data/2018/11/2018-11-06-events.json',\n",
       " '/workspace/home/data/log_data/2018/11/2018-11-14-events.json',\n",
       " '/workspace/home/data/log_data/2018/11/2018-11-24-events.json',\n",
       " '/workspace/home/data/log_data/2018/11/2018-11-13-events.json',\n",
       " '/workspace/home/data/log_data/2018/11/2018-11-19-events.json',\n",
       " '/workspace/home/data/log_data/2018/11/2018-11-25-events.json',\n",
       " '/workspace/home/data/log_data/2018/11/2018-11-07-events.json',\n",
       " '/workspace/home/data/log_data/2018/11/2018-11-21-events.json',\n",
       " '/workspace/home/data/log_data/2018/11/2018-11-11-events.json',\n",
       " '/workspace/home/data/log_data/2018/11/2018-11-20-events.json',\n",
       " '/workspace/home/data/log_data/2018/11/2018-11-27-events.json',\n",
       " '/workspace/home/data/log_data/2018/11/2018-11-22-events.json',\n",
       " '/workspace/home/data/log_data/2018/11/2018-11-29-events.json',\n",
       " '/workspace/home/data/log_data/2018/11/2018-11-10-events.json',\n",
       " '/workspace/home/data/log_data/2018/11/2018-11-08-events.json',\n",
       " '/workspace/home/data/log_data/2018/11/2018-11-09-events.json',\n",
       " '/workspace/home/data/log_data/2018/11/2018-11-12-events.json',\n",
       " '/workspace/home/data/log_data/2018/11/2018-11-02-events.json',\n",
       " '/workspace/home/data/log_data/2018/11/2018-11-15-events.json',\n",
       " '/workspace/home/data/log_data/2018/11/2018-11-04-events.json',\n",
       " '/workspace/home/data/log_data/2018/11/2018-11-18-events.json',\n",
       " '/workspace/home/data/log_data/2018/11/2018-11-03-events.json',\n",
       " '/workspace/home/data/log_data/2018/11/2018-11-30-events.json',\n",
       " '/workspace/home/data/log_data/2018/11/2018-11-01-events.json',\n",
       " '/workspace/home/data/log_data/2018/11/2018-11-17-events.json',\n",
       " '/workspace/home/data/log_data/2018/11/2018-11-23-events.json',\n",
       " '/workspace/home/data/log_data/2018/11/2018-11-26-events.json']"
      ]
     },
     "execution_count": 15,
     "metadata": {},
     "output_type": "execute_result"
    }
   ],
   "source": [
    "# Implements the get_files() function to retrieve all .json files in the log_data folder.\n",
    "# Assigns the log_files as a list contain those files.\n",
    "log_files = get_files('data/log_data')\n",
    "# Print oyt the list of retrieved json files to check\n",
    "log_files"
   ]
  },
  {
   "cell_type": "code",
   "execution_count": 16,
   "metadata": {},
   "outputs": [
    {
     "data": {
      "text/plain": [
       "30"
      ]
     },
     "execution_count": 16,
     "metadata": {},
     "output_type": "execute_result"
    }
   ],
   "source": [
    "# Print out number of the current .json files inside the log_data folder. (30 records)\n",
    "# Each of this file contains the all the interaction as on the page on each day in November of 2018.\n",
    "len(log_files)"
   ]
  },
  {
   "cell_type": "code",
   "execution_count": 17,
   "metadata": {},
   "outputs": [
    {
     "data": {
      "text/plain": [
       "'/workspace/home/data/log_data/2018/11/2018-11-28-events.json'"
      ]
     },
     "execution_count": 17,
     "metadata": {},
     "output_type": "execute_result"
    }
   ],
   "source": [
    "# Assigns the filepath as the first .json file in the the log_files list.\n",
    "filepath = log_files[0]\n",
    "# Print out the first file direction path.\n",
    "filepath"
   ]
  },
  {
   "cell_type": "code",
   "execution_count": 18,
   "metadata": {
    "scrolled": true
   },
   "outputs": [
    {
     "data": {
      "text/html": [
       "<div>\n",
       "<style scoped>\n",
       "    .dataframe tbody tr th:only-of-type {\n",
       "        vertical-align: middle;\n",
       "    }\n",
       "\n",
       "    .dataframe tbody tr th {\n",
       "        vertical-align: top;\n",
       "    }\n",
       "\n",
       "    .dataframe thead th {\n",
       "        text-align: right;\n",
       "    }\n",
       "</style>\n",
       "<table border=\"1\" class=\"dataframe\">\n",
       "  <thead>\n",
       "    <tr style=\"text-align: right;\">\n",
       "      <th></th>\n",
       "      <th>artist</th>\n",
       "      <th>auth</th>\n",
       "      <th>firstName</th>\n",
       "      <th>gender</th>\n",
       "      <th>itemInSession</th>\n",
       "      <th>lastName</th>\n",
       "      <th>length</th>\n",
       "      <th>level</th>\n",
       "      <th>location</th>\n",
       "      <th>method</th>\n",
       "      <th>page</th>\n",
       "      <th>registration</th>\n",
       "      <th>sessionId</th>\n",
       "      <th>song</th>\n",
       "      <th>status</th>\n",
       "      <th>ts</th>\n",
       "      <th>userAgent</th>\n",
       "      <th>userId</th>\n",
       "    </tr>\n",
       "  </thead>\n",
       "  <tbody>\n",
       "    <tr>\n",
       "      <th>0</th>\n",
       "      <td>Mitch Ryder &amp; The Detroit Wheels</td>\n",
       "      <td>Logged In</td>\n",
       "      <td>Tegan</td>\n",
       "      <td>F</td>\n",
       "      <td>65</td>\n",
       "      <td>Levine</td>\n",
       "      <td>205.03465</td>\n",
       "      <td>paid</td>\n",
       "      <td>Portland-South Portland, ME</td>\n",
       "      <td>PUT</td>\n",
       "      <td>NextSong</td>\n",
       "      <td>1.540794e+12</td>\n",
       "      <td>992</td>\n",
       "      <td>Jenny Take A Ride (LP Version)</td>\n",
       "      <td>200</td>\n",
       "      <td>1543363215796</td>\n",
       "      <td>\"Mozilla/5.0 (Macintosh; Intel Mac OS X 10_9_4...</td>\n",
       "      <td>80</td>\n",
       "    </tr>\n",
       "    <tr>\n",
       "      <th>1</th>\n",
       "      <td>The Spill Canvas</td>\n",
       "      <td>Logged In</td>\n",
       "      <td>Tegan</td>\n",
       "      <td>F</td>\n",
       "      <td>66</td>\n",
       "      <td>Levine</td>\n",
       "      <td>358.03383</td>\n",
       "      <td>paid</td>\n",
       "      <td>Portland-South Portland, ME</td>\n",
       "      <td>PUT</td>\n",
       "      <td>NextSong</td>\n",
       "      <td>1.540794e+12</td>\n",
       "      <td>992</td>\n",
       "      <td>The TIde (LP Version)</td>\n",
       "      <td>200</td>\n",
       "      <td>1543363420796</td>\n",
       "      <td>\"Mozilla/5.0 (Macintosh; Intel Mac OS X 10_9_4...</td>\n",
       "      <td>80</td>\n",
       "    </tr>\n",
       "    <tr>\n",
       "      <th>2</th>\n",
       "      <td>Mogwai</td>\n",
       "      <td>Logged In</td>\n",
       "      <td>Tegan</td>\n",
       "      <td>F</td>\n",
       "      <td>67</td>\n",
       "      <td>Levine</td>\n",
       "      <td>571.19302</td>\n",
       "      <td>paid</td>\n",
       "      <td>Portland-South Portland, ME</td>\n",
       "      <td>PUT</td>\n",
       "      <td>NextSong</td>\n",
       "      <td>1.540794e+12</td>\n",
       "      <td>992</td>\n",
       "      <td>Two Rights Make One Wrong</td>\n",
       "      <td>200</td>\n",
       "      <td>1543363778796</td>\n",
       "      <td>\"Mozilla/5.0 (Macintosh; Intel Mac OS X 10_9_4...</td>\n",
       "      <td>80</td>\n",
       "    </tr>\n",
       "    <tr>\n",
       "      <th>3</th>\n",
       "      <td>Spor</td>\n",
       "      <td>Logged In</td>\n",
       "      <td>Tegan</td>\n",
       "      <td>F</td>\n",
       "      <td>68</td>\n",
       "      <td>Levine</td>\n",
       "      <td>380.34240</td>\n",
       "      <td>paid</td>\n",
       "      <td>Portland-South Portland, ME</td>\n",
       "      <td>PUT</td>\n",
       "      <td>NextSong</td>\n",
       "      <td>1.540794e+12</td>\n",
       "      <td>992</td>\n",
       "      <td>Way Of The Samurai</td>\n",
       "      <td>200</td>\n",
       "      <td>1543364349796</td>\n",
       "      <td>\"Mozilla/5.0 (Macintosh; Intel Mac OS X 10_9_4...</td>\n",
       "      <td>80</td>\n",
       "    </tr>\n",
       "    <tr>\n",
       "      <th>4</th>\n",
       "      <td>DJ Dizzy</td>\n",
       "      <td>Logged In</td>\n",
       "      <td>Tegan</td>\n",
       "      <td>F</td>\n",
       "      <td>69</td>\n",
       "      <td>Levine</td>\n",
       "      <td>221.15220</td>\n",
       "      <td>paid</td>\n",
       "      <td>Portland-South Portland, ME</td>\n",
       "      <td>PUT</td>\n",
       "      <td>NextSong</td>\n",
       "      <td>1.540794e+12</td>\n",
       "      <td>992</td>\n",
       "      <td>Sexy Bitch</td>\n",
       "      <td>200</td>\n",
       "      <td>1543364729796</td>\n",
       "      <td>\"Mozilla/5.0 (Macintosh; Intel Mac OS X 10_9_4...</td>\n",
       "      <td>80</td>\n",
       "    </tr>\n",
       "  </tbody>\n",
       "</table>\n",
       "</div>"
      ],
      "text/plain": [
       "                             artist       auth firstName gender  \\\n",
       "0  Mitch Ryder & The Detroit Wheels  Logged In     Tegan      F   \n",
       "1                  The Spill Canvas  Logged In     Tegan      F   \n",
       "2                            Mogwai  Logged In     Tegan      F   \n",
       "3                              Spor  Logged In     Tegan      F   \n",
       "4                          DJ Dizzy  Logged In     Tegan      F   \n",
       "\n",
       "   itemInSession lastName     length level                     location  \\\n",
       "0             65   Levine  205.03465  paid  Portland-South Portland, ME   \n",
       "1             66   Levine  358.03383  paid  Portland-South Portland, ME   \n",
       "2             67   Levine  571.19302  paid  Portland-South Portland, ME   \n",
       "3             68   Levine  380.34240  paid  Portland-South Portland, ME   \n",
       "4             69   Levine  221.15220  paid  Portland-South Portland, ME   \n",
       "\n",
       "  method      page  registration  sessionId                            song  \\\n",
       "0    PUT  NextSong  1.540794e+12        992  Jenny Take A Ride (LP Version)   \n",
       "1    PUT  NextSong  1.540794e+12        992           The TIde (LP Version)   \n",
       "2    PUT  NextSong  1.540794e+12        992       Two Rights Make One Wrong   \n",
       "3    PUT  NextSong  1.540794e+12        992              Way Of The Samurai   \n",
       "4    PUT  NextSong  1.540794e+12        992                      Sexy Bitch   \n",
       "\n",
       "   status             ts                                          userAgent  \\\n",
       "0     200  1543363215796  \"Mozilla/5.0 (Macintosh; Intel Mac OS X 10_9_4...   \n",
       "1     200  1543363420796  \"Mozilla/5.0 (Macintosh; Intel Mac OS X 10_9_4...   \n",
       "2     200  1543363778796  \"Mozilla/5.0 (Macintosh; Intel Mac OS X 10_9_4...   \n",
       "3     200  1543364349796  \"Mozilla/5.0 (Macintosh; Intel Mac OS X 10_9_4...   \n",
       "4     200  1543364729796  \"Mozilla/5.0 (Macintosh; Intel Mac OS X 10_9_4...   \n",
       "\n",
       "  userId  \n",
       "0     80  \n",
       "1     80  \n",
       "2     80  \n",
       "3     80  \n",
       "4     80  "
      ]
     },
     "execution_count": 18,
     "metadata": {},
     "output_type": "execute_result"
    }
   ],
   "source": [
    "# Uses pandas function to read that first json file and assigns the data into df dataframe.\n",
    "df = pd.read_json(filepath,lines=True)\n",
    "# Print out the information inside that df.\n",
    "df.head()"
   ]
  },
  {
   "cell_type": "markdown",
   "metadata": {},
   "source": [
    "## #3: `time` Table\n",
    "#### Extract Data for Time Table\n",
    "- Filter records by `NextSong` action\n",
    "- Convert the `ts` timestamp column to datetime\n",
    "  - Hint: the current timestamp is in milliseconds\n",
    "- Extract the timestamp, hour, day, week of year, month, year, and weekday from the `ts` column and set `time_data` to a list containing these values in order\n",
    "  - Hint: use pandas' [`dt` attribute](https://pandas.pydata.org/pandas-docs/stable/reference/api/pandas.Series.dt.html) to access easily datetimelike properties.\n",
    "- Specify labels for these columns and set to `column_labels`\n",
    "- Create a dataframe, `time_df,` containing the time data for this file by combining `column_labels` and `time_data` into a dictionary and converting this into a dataframe"
   ]
  },
  {
   "cell_type": "code",
   "execution_count": 19,
   "metadata": {
    "scrolled": true
   },
   "outputs": [
    {
     "name": "stdout",
     "output_type": "stream",
     "text": [
      "<class 'pandas.core.frame.DataFrame'>\n",
      "Int64Index: 363 entries, 0 to 432\n",
      "Data columns (total 18 columns):\n",
      "artist           363 non-null object\n",
      "auth             363 non-null object\n",
      "firstName        363 non-null object\n",
      "gender           363 non-null object\n",
      "itemInSession    363 non-null int64\n",
      "lastName         363 non-null object\n",
      "length           363 non-null float64\n",
      "level            363 non-null object\n",
      "location         363 non-null object\n",
      "method           363 non-null object\n",
      "page             363 non-null object\n",
      "registration     363 non-null float64\n",
      "sessionId        363 non-null int64\n",
      "song             363 non-null object\n",
      "status           363 non-null int64\n",
      "ts               363 non-null int64\n",
      "userAgent        363 non-null object\n",
      "userId           363 non-null object\n",
      "dtypes: float64(2), int64(4), object(12)\n",
      "memory usage: 53.9+ KB\n"
     ]
    }
   ],
   "source": [
    "# Filtering out to retrive all the values when the 'page' column value == 'NextSong' only\n",
    "# Re-assigns those data to new dataframe as df\n",
    "df = df[df['page'] == 'NextSong']\n",
    "# Print to see how many records in the current json file and the datatype of each column.\n",
    "df.info()"
   ]
  },
  {
   "cell_type": "code",
   "execution_count": 20,
   "metadata": {
    "scrolled": true
   },
   "outputs": [],
   "source": [
    "# Converts the 'ts' column from integer to datetime datatype.\n",
    "# t = pd.to_datetime(df['ts'],unit='ms')\n",
    "df['ts'] = pd.to_datetime(df['ts'], unit='ms')"
   ]
  },
  {
   "cell_type": "code",
   "execution_count": 21,
   "metadata": {},
   "outputs": [
    {
     "data": {
      "text/plain": [
       "dtype('<M8[ns]')"
      ]
     },
     "execution_count": 21,
     "metadata": {},
     "output_type": "execute_result"
    }
   ],
   "source": [
    "# Double check to see if successfully convert the datatype for the 'ts' column.\n",
    "df['ts'].dtypes"
   ]
  },
  {
   "cell_type": "code",
   "execution_count": 22,
   "metadata": {},
   "outputs": [],
   "source": [
    "# Programmatically check datatype of the 'ts' column.\n",
    "assert pd.api.types.is_datetime64_dtype(df['ts'])"
   ]
  },
  {
   "cell_type": "code",
   "execution_count": 23,
   "metadata": {},
   "outputs": [],
   "source": [
    "# Assigns the time_data as an empty list which will hold the extracted data from the 'ts' column.\n",
    "time_data = []\n",
    "# Using python for loop to iterate each row in the current df. \n",
    "for index, row in df.iterrows():\n",
    "    # From each row in the df extract the value data and time in the 'ts' column.\n",
    "    time_data.append([row['ts'],\n",
    "                      row['ts'].hour,\n",
    "                      row['ts'].day,\n",
    "                      row['ts'].weekofyear,\n",
    "                      row['ts'].month,\n",
    "                      row['ts'].year,\n",
    "                      row['ts'].weekday()])"
   ]
  },
  {
   "cell_type": "code",
   "execution_count": 24,
   "metadata": {},
   "outputs": [],
   "source": [
    "# Assigns needed data from the 'ts' column to the new list variable column_labels name.\n",
    "column_labels = ['start_time','hour','day','week_of_year','month','year','weekday']"
   ]
  },
  {
   "cell_type": "code",
   "execution_count": 25,
   "metadata": {
    "scrolled": false
   },
   "outputs": [
    {
     "data": {
      "text/html": [
       "<div>\n",
       "<style scoped>\n",
       "    .dataframe tbody tr th:only-of-type {\n",
       "        vertical-align: middle;\n",
       "    }\n",
       "\n",
       "    .dataframe tbody tr th {\n",
       "        vertical-align: top;\n",
       "    }\n",
       "\n",
       "    .dataframe thead th {\n",
       "        text-align: right;\n",
       "    }\n",
       "</style>\n",
       "<table border=\"1\" class=\"dataframe\">\n",
       "  <thead>\n",
       "    <tr style=\"text-align: right;\">\n",
       "      <th></th>\n",
       "      <th>start_time</th>\n",
       "      <th>hour</th>\n",
       "      <th>day</th>\n",
       "      <th>week_of_year</th>\n",
       "      <th>month</th>\n",
       "      <th>year</th>\n",
       "      <th>weekday</th>\n",
       "    </tr>\n",
       "  </thead>\n",
       "  <tbody>\n",
       "    <tr>\n",
       "      <th>0</th>\n",
       "      <td>2018-11-28 00:00:15.796</td>\n",
       "      <td>0</td>\n",
       "      <td>28</td>\n",
       "      <td>48</td>\n",
       "      <td>11</td>\n",
       "      <td>2018</td>\n",
       "      <td>2</td>\n",
       "    </tr>\n",
       "    <tr>\n",
       "      <th>1</th>\n",
       "      <td>2018-11-28 00:03:40.796</td>\n",
       "      <td>0</td>\n",
       "      <td>28</td>\n",
       "      <td>48</td>\n",
       "      <td>11</td>\n",
       "      <td>2018</td>\n",
       "      <td>2</td>\n",
       "    </tr>\n",
       "  </tbody>\n",
       "</table>\n",
       "</div>"
      ],
      "text/plain": [
       "               start_time  hour  day  week_of_year  month  year  weekday\n",
       "0 2018-11-28 00:00:15.796     0   28            48     11  2018        2\n",
       "1 2018-11-28 00:03:40.796     0   28            48     11  2018        2"
      ]
     },
     "execution_count": 25,
     "metadata": {},
     "output_type": "execute_result"
    }
   ],
   "source": [
    "# Converts the colunn_labels list into the new DataFrame time_df\n",
    "time_df = pd.DataFrame(time_data, columns=column_labels)\n",
    "# Print out the first two line from the new dataframe.\n",
    "time_df.head(2)"
   ]
  },
  {
   "cell_type": "code",
   "execution_count": 26,
   "metadata": {},
   "outputs": [
    {
     "data": {
      "text/plain": [
       "start_time      363\n",
       "hour            363\n",
       "day             363\n",
       "week_of_year    363\n",
       "month           363\n",
       "year            363\n",
       "weekday         363\n",
       "dtype: int64"
      ]
     },
     "execution_count": 26,
     "metadata": {},
     "output_type": "execute_result"
    }
   ],
   "source": [
    "# Print out umber of records inside the time_df (including the duplicated values.)\n",
    "time_df.count()"
   ]
  },
  {
   "cell_type": "code",
   "execution_count": 27,
   "metadata": {},
   "outputs": [],
   "source": [
    "#Ensure their is not any issues with duplicated values later.\n",
    "#duplicated_time = time_df.duplicated('start_time')\n",
    "#duplicated_time.sum()"
   ]
  },
  {
   "cell_type": "markdown",
   "metadata": {},
   "source": [
    "#### Insert Records into Time Table\n",
    "Implement the `time_table_insert` query in `sql_queries.py` and run the cell below to insert records for the timestamps in this log file into the `time` table. Remember to run `create_tables.py` before running the cell below to ensure you've created/resetted the `time` table in the sparkify database."
   ]
  },
  {
   "cell_type": "code",
   "execution_count": 28,
   "metadata": {
    "scrolled": true
   },
   "outputs": [
    {
     "name": "stdout",
     "output_type": "stream",
     "text": [
      "SQL Query: INSERT INTO time(start_time, hour, day, week, month, year, weekday) VALUES(%s,%s,%s,%s,%s,%s,%s) ON CONFLICT (start_time) DO NOTHING;\n"
     ]
    }
   ],
   "source": [
    "# Print out the time_table_insert query in the sql_queries.py to ensure it correct syntax.\n",
    "print(\"SQL Query:\", time_table_insert)"
   ]
  },
  {
   "cell_type": "code",
   "execution_count": 29,
   "metadata": {
    "scrolled": true
   },
   "outputs": [],
   "source": [
    "# Uses python loop fucntion to iterate through each row of the time_df to retrieve the needed data.\n",
    "for i, row in time_df.iterrows():\n",
    "    # Uses each row data to insert into the time table in the database.\n",
    "    cur.execute(time_table_insert, list(row))\n",
    "    # To commit all the change in the databases.\n",
    "    conn.commit()"
   ]
  },
  {
   "cell_type": "markdown",
   "metadata": {},
   "source": [
    "Run `test.ipynb` to see if you've successfully added records to this table.\n",
    "\n",
    "**(The result should show around ~360 records in the time table for now).**"
   ]
  },
  {
   "cell_type": "markdown",
   "metadata": {},
   "source": [
    "## #4: `users` Table\n",
    "#### Extract Data for Users Table\n",
    "- Select columns for user ID, first name, last name, gender and level and set to `user_df`"
   ]
  },
  {
   "cell_type": "code",
   "execution_count": 30,
   "metadata": {
    "scrolled": true
   },
   "outputs": [
    {
     "data": {
      "text/html": [
       "<div>\n",
       "<style scoped>\n",
       "    .dataframe tbody tr th:only-of-type {\n",
       "        vertical-align: middle;\n",
       "    }\n",
       "\n",
       "    .dataframe tbody tr th {\n",
       "        vertical-align: top;\n",
       "    }\n",
       "\n",
       "    .dataframe thead th {\n",
       "        text-align: right;\n",
       "    }\n",
       "</style>\n",
       "<table border=\"1\" class=\"dataframe\">\n",
       "  <thead>\n",
       "    <tr style=\"text-align: right;\">\n",
       "      <th></th>\n",
       "      <th>userId</th>\n",
       "      <th>firstName</th>\n",
       "      <th>lastName</th>\n",
       "      <th>gender</th>\n",
       "      <th>level</th>\n",
       "    </tr>\n",
       "  </thead>\n",
       "  <tbody>\n",
       "    <tr>\n",
       "      <th>0</th>\n",
       "      <td>80</td>\n",
       "      <td>Tegan</td>\n",
       "      <td>Levine</td>\n",
       "      <td>F</td>\n",
       "      <td>paid</td>\n",
       "    </tr>\n",
       "    <tr>\n",
       "      <th>1</th>\n",
       "      <td>80</td>\n",
       "      <td>Tegan</td>\n",
       "      <td>Levine</td>\n",
       "      <td>F</td>\n",
       "      <td>paid</td>\n",
       "    </tr>\n",
       "    <tr>\n",
       "      <th>2</th>\n",
       "      <td>80</td>\n",
       "      <td>Tegan</td>\n",
       "      <td>Levine</td>\n",
       "      <td>F</td>\n",
       "      <td>paid</td>\n",
       "    </tr>\n",
       "  </tbody>\n",
       "</table>\n",
       "</div>"
      ],
      "text/plain": [
       "  userId firstName lastName gender level\n",
       "0     80     Tegan   Levine      F  paid\n",
       "1     80     Tegan   Levine      F  paid\n",
       "2     80     Tegan   Levine      F  paid"
      ]
     },
     "execution_count": 30,
     "metadata": {},
     "output_type": "execute_result"
    }
   ],
   "source": [
    "# Retrieves needed data and adds it to the assigned user_df DataFrame.\n",
    "user_df = df[['userId','firstName','lastName','gender','level']]\n",
    "# Print out the first three rows in the user_df dataframe\n",
    "user_df.head(3)"
   ]
  },
  {
   "cell_type": "code",
   "execution_count": 31,
   "metadata": {},
   "outputs": [
    {
     "data": {
      "text/plain": [
       "userId       363\n",
       "firstName    363\n",
       "lastName     363\n",
       "gender       363\n",
       "level        363\n",
       "dtype: int64"
      ]
     },
     "execution_count": 31,
     "metadata": {},
     "output_type": "execute_result"
    }
   ],
   "source": [
    "# Print out the number of row in the user_df (including duplicated values).\n",
    "user_df.count()"
   ]
  },
  {
   "cell_type": "markdown",
   "metadata": {},
   "source": [
    "#### Insert Records into Users Table\n",
    "Implement the `user_table_insert` query in `sql_queries.py` and run the cell below to insert records for the users in this log file into the `users` table. Remember to run `create_tables.py` before running the cell below to ensure you've created/resetted the `users` table in the sparkify database."
   ]
  },
  {
   "cell_type": "code",
   "execution_count": 32,
   "metadata": {},
   "outputs": [
    {
     "name": "stdout",
     "output_type": "stream",
     "text": [
      "SQL Query: INSERT INTO users(user_id,first_name, last_name, gender, level) VALUES(%s,%s,%s,%s,%s) ON CONFLICT (user_id) DO NOTHING;\n"
     ]
    }
   ],
   "source": [
    "# Print out the user_table_insert query in the sql_queries.py to ensure it correct syntax.\n",
    "print(\"SQL Query:\", user_table_insert)"
   ]
  },
  {
   "cell_type": "code",
   "execution_count": 33,
   "metadata": {},
   "outputs": [],
   "source": [
    "# Uses the python for loop to iterate each row in the user_df\n",
    "for i, row in user_df.iterrows():\n",
    "    # Generates the insert query for the users table with the data from each row.\n",
    "    cur.execute(user_table_insert, row)\n",
    "    # To commit all the change in the databases.\n",
    "    conn.commit()"
   ]
  },
  {
   "cell_type": "markdown",
   "metadata": {},
   "source": [
    "Run `test.ipynb` to see if you've successfully added records to this table.\n",
    "\n",
    "**(The users table should shows the list of users information with an uniqued user_id).**"
   ]
  },
  {
   "cell_type": "markdown",
   "metadata": {},
   "source": [
    "## #5: `songplays` Table\n",
    "#### Extract Data and Songplays Table\n",
    "This one is a little more complicated since information from the songs table, artists table, and original log file are all needed for the `songplays` table. Since the log file does not specify an ID for either the song or the artist, you'll need to get the song ID and artist ID by querying the songs and artists tables to find matches based on song title, artist name, and song duration time.\n",
    "- Implement the `song_select` query in `sql_queries.py` to find the song ID and artist ID based on the title, artist name, and duration of a song.\n",
    "- Select the timestamp, user ID, level, song ID, artist ID, session ID, location, and user agent and set to `songplay_data`\n",
    "\n",
    "#### Insert Records into Songplays Table\n",
    "- Implement the `songplay_table_insert` query and run the cell below to insert records for the songplay actions in this log file into the `songplays` table. Remember to run `create_tables.py` before running the cell below to ensure you've created/resetted the `songplays` table in the sparkify database."
   ]
  },
  {
   "cell_type": "code",
   "execution_count": 35,
   "metadata": {
    "scrolled": false
   },
   "outputs": [
    {
     "name": "stdout",
     "output_type": "stream",
     "text": [
      "SQL Query: SELECT songs.song_id, artists.artist_id FROM songs JOIN artists ON songs.artist_id = artists.artist_id WHERE songs.title = %s AND artists.name = %s AND songs.duration = %s\n",
      "SQL INSERT QUERY: INSERT INTO songplays(start_time, user_id, level, song_id, artist_id, session_id, location, user_agent) VALUES(%s,%s,%s,%s,%s,%s,%s,%s) ON CONFLICT (songplay_id) DO NOTHING;\n"
     ]
    }
   ],
   "source": [
    "# Print out the syntax of the song_select from the sql_queries to check\n",
    "print(\"SQL Query:\", song_select)\n",
    "# Print out the syntax of the songplay_table_insert from the sql_queries to check\n",
    "print(\"SQL INSERT QUERY:\", songplay_table_insert)"
   ]
  },
  {
   "cell_type": "code",
   "execution_count": 37,
   "metadata": {},
   "outputs": [
    {
     "data": {
      "text/plain": [
       "dtype('float64')"
      ]
     },
     "execution_count": 37,
     "metadata": {},
     "output_type": "execute_result"
    }
   ],
   "source": [
    "# The pre-defined data type for the songs.duration column is float,\n",
    "# Print out the current data type for the length column to ensure the validity for the comparison inside the song_select query.\n",
    "df.length.dtypes"
   ]
  },
  {
   "cell_type": "code",
   "execution_count": 38,
   "metadata": {},
   "outputs": [],
   "source": [
    "# Uses the python for loop function to iterate each row in the current df dataframe. \n",
    "for index, row in df.iterrows():\n",
    "    # From each row of the df take the value from song, artist, and lenght columns\n",
    "    # then, pass those values into the song_select query \n",
    "    # to retrieve the songs.song_id and artists.artist_id from the songs and artists tables in current database.\n",
    "    cur.execute(song_select, (row.song, row.artist, row.length))\n",
    "    # Uses the cur.fetchone() function to assign the above results (song_id and artist_id) to the variable results\n",
    "    results = cur.fetchone()    \n",
    "    if results:\n",
    "        songid, artistid = results\n",
    "    else:\n",
    "        songid, artistid = None, None\n",
    "    # Assigns the songgplay_data as the list contains the extracted values needed for the insertion into the songplay table.\n",
    "    songplay_data = [\n",
    "        row['ts'],\n",
    "        row['userId'],\n",
    "        row['level'],\n",
    "        songid,\n",
    "        artistid,\n",
    "        row['sessionId'],\n",
    "        row['location'],\n",
    "        row['userAgent']]\n",
    "    # Generates the insert query for the songplay table with the data from each row.\n",
    "    cur.execute(songplay_table_insert, songplay_data)\n",
    "    conn.commit()\n",
    "    "
   ]
  },
  {
   "cell_type": "code",
   "execution_count": 37,
   "metadata": {},
   "outputs": [],
   "source": [
    "# Using this to re-run the code with issue earlier. \n",
    "#conn.rollback()"
   ]
  },
  {
   "cell_type": "markdown",
   "metadata": {},
   "source": [
    "Run `test.ipynb` to see if you've successfully added records to this table.\n",
    "**(The songplays tables will shows all events information related to each user account interacting with the company website. "
   ]
  },
  {
   "cell_type": "markdown",
   "metadata": {},
   "source": [
    "# Close Connection to Sparkify Database"
   ]
  },
  {
   "cell_type": "code",
   "execution_count": 39,
   "metadata": {},
   "outputs": [],
   "source": [
    "conn.close()"
   ]
  },
  {
   "cell_type": "markdown",
   "metadata": {},
   "source": [
    "# Implement `etl.py`\n",
    "Use what you've completed in this notebook to implement `etl.py`."
   ]
  },
  {
   "cell_type": "code",
   "execution_count": null,
   "metadata": {},
   "outputs": [],
   "source": []
  }
 ],
 "metadata": {
  "kernelspec": {
   "display_name": "Python 3",
   "language": "python",
   "name": "python3"
  },
  "language_info": {
   "codemirror_mode": {
    "name": "ipython",
    "version": 3
   },
   "file_extension": ".py",
   "mimetype": "text/x-python",
   "name": "python",
   "nbconvert_exporter": "python",
   "pygments_lexer": "ipython3",
   "version": "3.6.3"
  }
 },
 "nbformat": 4,
 "nbformat_minor": 2
}
